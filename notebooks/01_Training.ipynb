{
 "cells": [
  {
   "cell_type": "markdown",
   "metadata": {
    "executionInfo": {
     "elapsed": 538,
     "status": "ok",
     "timestamp": 1623442840778,
     "user": {
      "displayName": "Fadi Hassan",
      "photoUrl": "",
      "userId": "05221363930635868795"
     },
     "user_tz": -120
    },
    "id": "vPO2nBrFGG3o"
   },
   "source": [
    "# Install all the requirments"
   ]
  },
  {
   "cell_type": "code",
   "execution_count": 1,
   "metadata": {},
   "outputs": [],
   "source": [
    "try:\n",
    "    import transformers\n",
    "except:\n",
    "    !pip install spacy==3.0.0\n",
    "    !python -m spacy download en_core_web_sm\n",
    "    !python -m spacy download es_core_news_md\n",
    "    !python -m spacy download xx_sent_ud_sm\n",
    "    !pip install tensorflow==2.4.1\n",
    "    !pip install transformers\n",
    "    !pip install tensorflow_addons\n",
    "    !pip install sklearn_crfsuite \n",
    "    !pip install tqdm"
   ]
  },
  {
   "cell_type": "code",
   "execution_count": 3,
   "metadata": {
    "executionInfo": {
     "elapsed": 2725,
     "status": "ok",
     "timestamp": 1623442843498,
     "user": {
      "displayName": "Fadi Hassan",
      "photoUrl": "",
      "userId": "05221363930635868795"
     },
     "user_tz": -120
    },
    "id": "bsX-akcyF_2f"
   },
   "outputs": [],
   "source": [
    "import sys \n",
    "sys.path.append(path)\n",
    "\n",
    "from classes.data_loader import DataLoader\n",
    "from classes.utils import *\n",
    "from classes.models import *\n",
    "from my_eval import *\n",
    "seed = 2022"
   ]
  },
  {
   "cell_type": "code",
   "execution_count": 4,
   "metadata": {
    "executionInfo": {
     "elapsed": 53,
     "status": "ok",
     "timestamp": 1623442843507,
     "user": {
      "displayName": "Fadi Hassan",
      "photoUrl": "",
      "userId": "05221363930635868795"
     },
     "user_tz": -120
    },
    "id": "UrDfgI6hF_2h"
   },
   "outputs": [],
   "source": [
    "import numpy as np\n",
    "import pandas as pd\n",
    "import tensorflow as tf\n",
    "import spacy\n",
    "from spacy.training import offsets_to_biluo_tags\n",
    "from tqdm.auto import tqdm, trange\n",
    "import spacy\n",
    "import ast\n",
    "import pickle\n",
    "import math\n",
    "from collections import defaultdict\n",
    "import os\n",
    "from math import ceil\n",
    "from sklearn.metrics import f1_score\n",
    "# %matplotlib inline"
   ]
  },
  {
   "cell_type": "code",
   "execution_count": 5,
   "metadata": {
    "colab": {
     "base_uri": "https://localhost:8080/"
    },
    "executionInfo": {
     "elapsed": 49,
     "status": "ok",
     "timestamp": 1623442843507,
     "user": {
      "displayName": "Fadi Hassan",
      "photoUrl": "",
      "userId": "05221363930635868795"
     },
     "user_tz": -120
    },
    "id": "fmT3qRY5F_2i",
    "outputId": "7d91bba1-eaba-46de-f1fa-ca860bc71040"
   },
   "outputs": [
    {
     "data": {
      "text/plain": [
       "[PhysicalDevice(name='/physical_device:GPU:0', device_type='GPU')]"
      ]
     },
     "execution_count": 5,
     "metadata": {
      "tags": []
     },
     "output_type": "execute_result"
    }
   ],
   "source": [
    "tf.config.list_physical_devices('GPU')"
   ]
  },
  {
   "cell_type": "markdown",
   "metadata": {},
   "source": [
    "# Model params"
   ]
  },
  {
   "cell_type": "code",
   "execution_count": 8,
   "metadata": {
    "executionInfo": {
     "elapsed": 27,
     "status": "ok",
     "timestamp": 1623442843510,
     "user": {
      "displayName": "Fadi Hassan",
      "photoUrl": "",
      "userId": "05221363930635868795"
     },
     "user_tz": -120
    },
    "id": "NObxVSdNF_2k"
   },
   "outputs": [],
   "source": [
    "PATH  = '../'\n",
    "INPUT_DIRS = [PATH + 'data/task1', PATH + 'data/task2']\n",
    "TEST_DIR = PATH + 'data/meddoprof_test_txt'\n",
    "# TEST_DIR = None\n",
    "LOADER_TYPE = 'BRAT'\n",
    "labeling_scheme = 'iob'\n",
    "use_dash = False\n",
    "use_cls = True\n",
    "lower_case = False\n",
    "train_truncate_sentences = True\n",
    "dev_truncate_sentences = False\n",
    "tasks = ['class_ner', 'norm']\n",
    "# tasks = ['SPAN', 'class', 'ner']\n",
    "# tasks = ['class_ner', 'norm_1', 'norm_2', 'norm_3']\n",
    "# tasks = None\n",
    "learning_rate = 5e-5\n",
    "max_length = 158\n",
    "batch_size = 32\n",
    "FRESH_DATA_LOAD = True\n",
    "SAVE_DATA = False\n",
    "BATCH_PADDING = True\n",
    "system_name = 'bert'"
   ]
  },
  {
   "cell_type": "markdown",
   "metadata": {},
   "source": [
    "# Data Loading"
   ]
  },
  {
   "cell_type": "code",
   "execution_count": 9,
   "metadata": {
    "executionInfo": {
     "elapsed": 24,
     "status": "ok",
     "timestamp": 1623442843510,
     "user": {
      "displayName": "Fadi Hassan",
      "photoUrl": "",
      "userId": "05221363930635868795"
     },
     "user_tz": -120
    },
    "id": "HHJUaOjnF_2l"
   },
   "outputs": [],
   "source": [
    "norm = pd.read_csv(PATH + 'data/task3-train.tsv', sep='\\t')\n",
    "# def spl(row):\n",
    "#     row['start'], row['end'] = row['span'].split()\n",
    "#     return row\n",
    "# tqdm.pandas(desc=\"Splitting\")\n",
    "# norm = norm.progress_apply(spl, axis=1)\n",
    "# norm.index = norm['filename']"
   ]
  },
  {
   "cell_type": "code",
   "execution_count": 11,
   "metadata": {
    "executionInfo": {
     "elapsed": 21,
     "status": "ok",
     "timestamp": 1623442843511,
     "user": {
      "displayName": "Fadi Hassan",
      "photoUrl": "",
      "userId": "05221363930635868795"
     },
     "user_tz": -120
    },
    "id": "2UQSzkRQF_2m"
   },
   "outputs": [],
   "source": [
    "data_loaders = {'class': DataLoader(loader_type=LOADER_TYPE, compressed=False, input_dir=INPUT_DIRS[1]),\n",
    "                'ner': DataLoader(loader_type=LOADER_TYPE, compressed=False, input_dir=INPUT_DIRS[0])}\n",
    "# Test \n",
    "if not TEST_DIR is None:\n",
    "    test_data_loader = DataLoader(loader_type=LOADER_TYPE, compressed=False, input_dir=TEST_DIR) "
   ]
  },
  {
   "cell_type": "code",
   "execution_count": 12,
   "metadata": {
    "colab": {
     "base_uri": "https://localhost:8080/",
     "height": 469,
     "referenced_widgets": [
      "e10721e73bb545879dbea2208ddd0332",
      "cdae1549dfb14b1aaeb956374df86b29",
      "3cf39e761c3c4f02929eaafa069300a5",
      "e0fdd126c0214e9cb8df68651e9024f7",
      "8854c391ea774b8f91dfb56900e276c5",
      "21cb56a6995f44b6b21803172d59d7e4",
      "f5fd65a6f17b49a68c85c23dfd01b913",
      "dc69d2351bf64a20b1783fe349f27134",
      "5b84525df0ea4fcd97b562a3e6abc3f3",
      "e04f5c6c765047178db970a33177a3c4",
      "300391ed721f47b88b5cc1cda7563b22",
      "9d5064f919ef4f6da24d10fcdf3ce868",
      "e376966c8a704814b41d9a8145567b4d",
      "5b4dac7a913f4ee79f99f6e5fb47c3a1",
      "1d3d84acd63849308fb2cd682779a2b1",
      "789610cd098f4d4d90134e73c53af32b",
      "c3ed9fe4111247d8aa87b4aadba5608e",
      "0ea6dd3cdd5141dd9c632b973c528d72",
      "1e165829f7ad46fba5eb5996b04b8cb3",
      "cb02ff2500264448a762cb92fedde01b",
      "ea73f9d79cee427e93a16a630e6d9ca2",
      "7c74ba61c38c4e05a927976cc60c70d5",
      "41bb1ce28ab1404dae9973e7e80ad3ea",
      "042b83ad32e44d5a8ffae05128b7cab2",
      "684a0d37e4e44092bb50bf0153bdc0b6",
      "ddd8b67496894791af3a8dd2ba0faeec",
      "9011b536e9344785b1aa559ea3969066",
      "db7b140ec0104b1296d69d0e01b6e485",
      "ec63fc926ec547bbb5fda854ae9d022b",
      "97f2035ea8ac482bbb1f57154e17e4cc",
      "6e770e8543c44066989757a89f9b81db",
      "33c56f0c4250454195d24fef41c8cc05",
      "e7f6492e09824dea85263c903b52c514",
      "b787b8cf114e4e0ab8c155e436e2f9a1",
      "24e3a9956c0f4a61ac104bac836c9f4b",
      "9d44214491ce444c86a5323ea3942ca8",
      "19f6ee1ca67c445e985ce214bdc3a989",
      "ef6b4566dd5443fba7efa0eb15477b56",
      "355ef9988241416e8535cbfdb8bf026e",
      "54fefb6bae714837a83460aeda8a7ae2",
      "29a1827bde2b4d99912480d50fec6d84",
      "dfa1136d9fca4cc2a3e5973fe6d7e1b9",
      "cade65e9283f49e187042173742fdc33",
      "26598de669ff46bc8d547bd57b91c3d1",
      "3cd657bbbe954edea5328cce84664dd8",
      "533421d94e924c4981f6f3939e584667",
      "60295f19a4414b3b96ada1b023e0f352",
      "43c2fb8b2278483c9a2acb6b098465bb",
      "67dd6ab82a424ce3ac2f48a04a076c87",
      "fa9da02696454560a7865fb92499c561",
      "d42d9ec314f84db39d98347dc1edaa7f",
      "c2d1d6d2b5eb445b83907e00ef61aff0",
      "d55cc5ff39544aaab43d5ede65a93244",
      "553e62a41cc3409994325d858a43e13b",
      "0f8d06d20c294476bb0184b70353a7f1",
      "dbcb717ca3df440690300c10df15582c",
      "2b1f4dbb241d47a48232b89767ba4efa",
      "959cc29f929e421bb204cf24505c54d2",
      "431531b408fd4c5c8ada2805c2b6aeaa",
      "448f86a40659448cb478400d69f26440",
      "9420fe7e704543cf9df6e58a5e9af61c",
      "5b8115cac6da4816bbf701ace1b10f6b",
      "2c54f44b83024822a1ba4974d653c86a",
      "e8590b3ba9c440eb9bc56af701a91cc9",
      "a88a862c93a54c0687ab2cdb81c17f6a",
      "c11129834fd047b2aff9eaa91ad608c0",
      "60fe13bd1d9b4cafa2e8f57a2733576a",
      "b0b5672fcdfd4ce09aa40eae31dbcb81",
      "132ff4c0e418458db6a55b65f288e72e",
      "9a68c6c1ec564f8aad74294016552560",
      "99319ed668cc47bc97db38f4fd0f427e",
      "e56be7c9aad745cf96ebb3c82d67ede2"
     ]
    },
    "executionInfo": {
     "elapsed": 1230,
     "status": "ok",
     "timestamp": 1623442844722,
     "user": {
      "displayName": "Fadi Hassan",
      "photoUrl": "",
      "userId": "05221363930635868795"
     },
     "user_tz": -120
    },
    "id": "wgz5OAGoF_2m",
    "outputId": "472650a8-2aa0-4a2a-8991-19f5ea90f682"
   },
   "outputs": [
    {
     "data": {
      "application/vnd.jupyter.widget-view+json": {
       "model_id": "e10721e73bb545879dbea2208ddd0332",
       "version_major": 2,
       "version_minor": 0
      },
      "text/plain": [
       "HBox(children=(FloatProgress(value=0.0, description='Loading ...', max=1500.0, style=ProgressStyle(description…"
      ]
     },
     "metadata": {
      "tags": []
     },
     "output_type": "display_data"
    },
    {
     "data": {
      "application/vnd.jupyter.widget-view+json": {
       "model_id": "5b84525df0ea4fcd97b562a3e6abc3f3",
       "version_major": 2,
       "version_minor": 0
      },
      "text/plain": [
       "HBox(children=(FloatProgress(value=0.0, description='Load zip files ...', max=1.0, style=ProgressStyle(descrip…"
      ]
     },
     "metadata": {
      "tags": []
     },
     "output_type": "display_data"
    },
    {
     "name": "stdout",
     "output_type": "stream",
     "text": [
      "\n"
     ]
    },
    {
     "data": {
      "application/vnd.jupyter.widget-view+json": {
       "model_id": "c3ed9fe4111247d8aa87b4aadba5608e",
       "version_major": 2,
       "version_minor": 0
      },
      "text/plain": [
       "HBox(children=(FloatProgress(value=0.0, description='Process zip files ...', max=1.0, style=ProgressStyle(desc…"
      ]
     },
     "metadata": {
      "tags": []
     },
     "output_type": "display_data"
    },
    {
     "name": "stdout",
     "output_type": "stream",
     "text": [
      "\n",
      "\n"
     ]
    },
    {
     "data": {
      "application/vnd.jupyter.widget-view+json": {
       "model_id": "684a0d37e4e44092bb50bf0153bdc0b6",
       "version_major": 2,
       "version_minor": 0
      },
      "text/plain": [
       "HBox(children=(FloatProgress(value=0.0, description='Loading ...', max=1500.0, style=ProgressStyle(description…"
      ]
     },
     "metadata": {
      "tags": []
     },
     "output_type": "display_data"
    },
    {
     "data": {
      "application/vnd.jupyter.widget-view+json": {
       "model_id": "e7f6492e09824dea85263c903b52c514",
       "version_major": 2,
       "version_minor": 0
      },
      "text/plain": [
       "HBox(children=(FloatProgress(value=0.0, description='Load zip files ...', max=1.0, style=ProgressStyle(descrip…"
      ]
     },
     "metadata": {
      "tags": []
     },
     "output_type": "display_data"
    },
    {
     "name": "stdout",
     "output_type": "stream",
     "text": [
      "\n"
     ]
    },
    {
     "data": {
      "application/vnd.jupyter.widget-view+json": {
       "model_id": "29a1827bde2b4d99912480d50fec6d84",
       "version_major": 2,
       "version_minor": 0
      },
      "text/plain": [
       "HBox(children=(FloatProgress(value=0.0, description='Process zip files ...', max=1.0, style=ProgressStyle(desc…"
      ]
     },
     "metadata": {
      "tags": []
     },
     "output_type": "display_data"
    },
    {
     "name": "stdout",
     "output_type": "stream",
     "text": [
      "\n",
      "\n"
     ]
    },
    {
     "data": {
      "application/vnd.jupyter.widget-view+json": {
       "model_id": "67dd6ab82a424ce3ac2f48a04a076c87",
       "version_major": 2,
       "version_minor": 0
      },
      "text/plain": [
       "HBox(children=(FloatProgress(value=0.0, description='Loading ...', max=344.0, style=ProgressStyle(description_…"
      ]
     },
     "metadata": {
      "tags": []
     },
     "output_type": "display_data"
    },
    {
     "data": {
      "application/vnd.jupyter.widget-view+json": {
       "model_id": "2b1f4dbb241d47a48232b89767ba4efa",
       "version_major": 2,
       "version_minor": 0
      },
      "text/plain": [
       "HBox(children=(FloatProgress(value=0.0, description='Load zip files ...', max=1.0, style=ProgressStyle(descrip…"
      ]
     },
     "metadata": {
      "tags": []
     },
     "output_type": "display_data"
    },
    {
     "name": "stdout",
     "output_type": "stream",
     "text": [
      "\n"
     ]
    },
    {
     "data": {
      "application/vnd.jupyter.widget-view+json": {
       "model_id": "a88a862c93a54c0687ab2cdb81c17f6a",
       "version_major": 2,
       "version_minor": 0
      },
      "text/plain": [
       "HBox(children=(FloatProgress(value=0.0, description='Process zip files ...', max=1.0, style=ProgressStyle(desc…"
      ]
     },
     "metadata": {
      "tags": []
     },
     "output_type": "display_data"
    },
    {
     "name": "stdout",
     "output_type": "stream",
     "text": [
      "\n",
      "\n"
     ]
    }
   ],
   "source": [
    "data = {key: data_loaders[key].load().copy() for key in data_loaders} \n",
    "# Test\n",
    "if not TEST_DIR is None:\n",
    "    test_data = test_data_loader.load().copy()\n",
    "    test_data['SPAN'] = [sorted(ents, key=lambda abc: abc[0]) for ents in test_data['entities']]\n",
    "    test_data['class'] = [sorted(ents, key=lambda abc: abc[0]) for ents in test_data['entities']]\n",
    "    test_data['ner'] = [sorted(ents, key=lambda abc: abc[0]) for ents in test_data['entities']]\n",
    "    test_data['norm'] = [sorted(ents, key=lambda abc: abc[0]) for ents in test_data['entities']]\n",
    "    test_data['norm_1'] = [sorted(ents, key=lambda abc: abc[0]) for ents in test_data['entities']]\n",
    "    test_data['norm_2'] = [sorted(ents, key=lambda abc: abc[0]) for ents in test_data['entities']]\n",
    "    test_data['norm_3'] = [sorted(ents, key=lambda abc: abc[0]) for ents in test_data['entities']]\n",
    "    test_data['class_ner'] = [sorted(ents, key=lambda abc: abc[0]) for ents in test_data['entities']]\n",
    "    if 'norm' in test_data.columns:\n",
    "        test_data['class_ner_norm'] = [sorted(ents, key=lambda abc: abc[0]) for ents in test_data['entities']]\n"
   ]
  },
  {
   "cell_type": "code",
   "execution_count": 13,
   "metadata": {
    "colab": {
     "base_uri": "https://localhost:8080/",
     "height": 105,
     "referenced_widgets": [
      "8936ddadc31c4fc0af8d49b920121462",
      "88cb70e265b14ca786125620e84d3242",
      "ff3263f1ef734e3db98f6e0c6b5a2b2a",
      "67018522ffcd4450ac9eb16ccfe4be98",
      "16523a4b577d47f69744895a4601233b",
      "6dd5d3b6ae6d48b68796d22fcdc6b87b",
      "1a5197359d2f4fa69174617f7450916a",
      "f2c032e8745543e99cfdd364e49b186d"
     ]
    },
    "executionInfo": {
     "elapsed": 2651,
     "status": "ok",
     "timestamp": 1623442847364,
     "user": {
      "displayName": "Fadi Hassan",
      "photoUrl": "",
      "userId": "05221363930635868795"
     },
     "user_tz": -120
    },
    "id": "T5zY_n0PF_2n",
    "outputId": "71fd1ccc-f473-4cb1-ce3d-31e1fb2243a9"
   },
   "outputs": [
    {
     "name": "stderr",
     "output_type": "stream",
     "text": [
      "/usr/local/lib/python3.7/dist-packages/tqdm/std.py:658: FutureWarning: The Panel class is removed from pandas. Accessing it from the top-level namespace will also be removed in the next version\n"
     ]
    },
    {
     "data": {
      "application/vnd.jupyter.widget-view+json": {
       "model_id": "8936ddadc31c4fc0af8d49b920121462",
       "version_major": 2,
       "version_minor": 0
      },
      "text/plain": [
       "HBox(children=(FloatProgress(value=0.0, description='Merging', max=1500.0, style=ProgressStyle(description_wid…"
      ]
     },
     "metadata": {
      "tags": []
     },
     "output_type": "display_data"
    },
    {
     "name": "stdout",
     "output_type": "stream",
     "text": [
      "\n"
     ]
    }
   ],
   "source": [
    "data2 = data['ner'][['id', 'text']].copy()\n",
    "data2['SPAN'] = None\n",
    "data2['class'] = [sorted(ents, key=lambda abc: abc[0]) for ents in data['class']['entities']]\n",
    "data2['ner'] = [sorted(ents, key=lambda abc: abc[0]) for ents in data['ner']['entities']]\n",
    "data2['class_ner'] = data2.apply(lambda row: [(ents1[0], ents1[1], ents1[-1] + '+' + ents2[-1]) for ents1, ents2 in zip(row['class'], row['ner'])], axis=1)\n",
    "data2['SPAN'] = data2['ner'].apply(lambda row: [(start, end, 'SPAN') for start, end, _ in row])\n",
    "def fun(row):\n",
    "    ents = [(start, end) for start, end, _ in row['ner']]\n",
    "    df = norm[norm['filename'] == row['id']]\n",
    "    res = {(start, end): (start, end, 'none') for start, end in ents}\n",
    "    for i, row2 in df.iterrows():\n",
    "        start, end = [int(x) for x in row2['span'].split()]\n",
    "        if (start, end) in ents:\n",
    "            res[(start, end)] = (start, end, str(row2['code']))\n",
    "        else:\n",
    "            for s, e in ents:\n",
    "                if abs(start - s) <= 10 or abs(end - e) <= 10:\n",
    "                    res[(s,e)] = (s, e, str(row2['code']))\n",
    "                    break\n",
    "        # start, end = [int(x) for x in row2['span'].split()]\n",
    "        # if (start, end) in ents:\n",
    "        #     res[(start, end)] = (start, end, str(row2['code']) + '.none' * (3 - len(row2['code'].split('.'))))\n",
    "        # else:\n",
    "        #     for s, e in ents:\n",
    "        #         if abs(start - s) <= 10 or abs(end - e) <= 10:\n",
    "        #             res[(s,e)] = (s, e, str(row2['code']) + '.none' * (3 - len(row2['code'].split('.'))))\n",
    "        #             break\n",
    "    res = sorted(res.values(), key=lambda abc: abc[0])\n",
    "    if 'norm' in tasks or 'class_ner_norm' in tasks:\n",
    "        row['norm'] = [items for items in res]\n",
    "    else:\n",
    "        for i in range(3):\n",
    "            if i == 0:\n",
    "                if 'norm_1' in tasks:\n",
    "                    row['norm_%s' % (i + 1)] = [(s, e, c.split('.')[i] if  i < len(c.split('.')) else 'none') for s, e, c in res]\n",
    "                else:\n",
    "                    for j in range(0,4,2):\n",
    "                        row['norm_%s%s' % (i + 1, j + 1)] = [(s, e, c.split('.')[i][j:j+2] if c.split('.')[i][j:j+2] and not c.split('.')[i][:4] in ['SCTI', 'none'] else \n",
    "                                                              c.split('.')[i] if j == 0 else 'none') for s, e, c in res]\n",
    "                    # for j in range(4):\n",
    "                    #     row['norm_%s%s' % (i + 1, j + 1)] = [(s, e, c.split('.')[i] if c.split('.')[i][:4] in ['SCTI', 'none'] else \n",
    "                    #                                           c.split('.')[i][j] if i < len(c.split('.')) and j < len(c.split('.')[i]) else 'none') for s, e, c in res]\n",
    "            else:\n",
    "                row['norm_%s' % (i + 1)] = [(s, e, c.split('.')[i] if  i < len(c.split('.')) else 'none') for s, e, c in res]\n",
    "    return row\n",
    "tqdm.pandas(desc=\"Merging\")\n",
    "data2 = data2.progress_apply(fun, axis=1)\n",
    "if 'norm' in data2.columns:\n",
    "    data2['class_ner_norm'] = data2.apply(lambda row: [(ents1[0], ents1[1], ents1[-1] + '+' + ents2[-1] + '+' + ents3[-1]) for ents1, ents2, ents3 in zip(row['class'], row['ner'], row['norm'])], axis=1)"
   ]
  },
  {
   "cell_type": "code",
   "execution_count": 14,
   "metadata": {
    "executionInfo": {
     "elapsed": 482,
     "status": "ok",
     "timestamp": 1623442847842,
     "user": {
      "displayName": "Fadi Hassan",
      "photoUrl": "",
      "userId": "05221363930635868795"
     },
     "user_tz": -120
    },
    "id": "fFAKGeFiF_2o"
   },
   "outputs": [],
   "source": [
    "unique_labels = OrderedDict()\n",
    "for key in tasks:\n",
    "    unique_labels[key] = sorted(list({label: None for i, row in data2.iterrows() for start, end, label in row[key]})) \n",
    "# unique_labels"
   ]
  },
  {
   "cell_type": "code",
   "execution_count": 15,
   "metadata": {
    "executionInfo": {
     "elapsed": 8,
     "status": "ok",
     "timestamp": 1623442847842,
     "user": {
      "displayName": "Fadi Hassan",
      "photoUrl": "",
      "userId": "05221363930635868795"
     },
     "user_tz": -120
    },
    "id": "V2fSs_GFF_2p"
   },
   "outputs": [],
   "source": [
    "# if not tasks is None:\n",
    "#     unique_labels = {key: unique_labels[key] for key in tasks}\n",
    "# unique_labels = dict(sorted(unique_labels.items(), key=lambda kv: kv[0]))\n",
    "# list(unique_labels)\n",
    "if tasks is None:\n",
    "    tasks = list(unique_labels)"
   ]
  },
  {
   "cell_type": "code",
   "execution_count": 16,
   "metadata": {
    "executionInfo": {
     "elapsed": 8,
     "status": "ok",
     "timestamp": 1623442847843,
     "user": {
      "displayName": "Fadi Hassan",
      "photoUrl": "",
      "userId": "05221363930635868795"
     },
     "user_tz": -120
    },
    "id": "1-rWMNIhF_2q"
   },
   "outputs": [],
   "source": [
    "data = data2"
   ]
  },
  {
   "cell_type": "code",
   "execution_count": 17,
   "metadata": {
    "colab": {
     "base_uri": "https://localhost:8080/",
     "height": 1000,
     "referenced_widgets": [
      "bef24752f64549ca869fdec1214b5139",
      "ad82e8f874514380a355ea6312e5ab7c",
      "c3ba0c5d91da44098b88b338a4e92db6",
      "6fa2f97b763945ad8ea5def3ed3d32ed",
      "da7f4ec0c12649938e771f3d4f81ea52",
      "7047ffbd3c934ee08f79bb8941e610e0",
      "8ecc1e6d093944ffbc8e51c672ac81d2",
      "6423d4e3a3f74425b07b4d03a1e80963",
      "4bc6e8a23e9d42d7a5d72f140825a47a",
      "83a9008f83ca4eac9e5b5113460f9876",
      "4026db2182724943ae5391a81a6364a6",
      "2c71a139c77244ac94d09df6eb891c09",
      "ada4cfabaa9040ce906675cd88dc159a",
      "1c588eac579247999e0f4bde82a6c4a3",
      "81da33185be14b4481f6ca10298102e8",
      "92ab1ed687f14f45a768be709b8c9e85"
     ]
    },
    "executionInfo": {
     "elapsed": 57213,
     "status": "ok",
     "timestamp": 1623442905048,
     "user": {
      "displayName": "Fadi Hassan",
      "photoUrl": "",
      "userId": "05221363930635868795"
     },
     "user_tz": -120
    },
    "id": "9EWCCDPFF_2r",
    "outputId": "000af6b4-0240-4cdb-cd59-5fc14a6cb227",
    "scrolled": true
   },
   "outputs": [
    {
     "name": "stderr",
     "output_type": "stream",
     "text": [
      "/usr/local/lib/python3.7/dist-packages/tqdm/std.py:658: FutureWarning: The Panel class is removed from pandas. Accessing it from the top-level namespace will also be removed in the next version\n"
     ]
    },
    {
     "data": {
      "application/vnd.jupyter.widget-view+json": {
       "model_id": "bef24752f64549ca869fdec1214b5139",
       "version_major": 2,
       "version_minor": 0
      },
      "text/plain": [
       "HBox(children=(FloatProgress(value=0.0, description='Splitting to sentences', max=1500.0, style=ProgressStyle(…"
      ]
     },
     "metadata": {
      "tags": []
     },
     "output_type": "display_data"
    },
    {
     "name": "stderr",
     "output_type": "stream",
     "text": [
      "/usr/local/lib/python3.7/dist-packages/spacy/training/iob_utils.py:142: UserWarning: [W030] Some entities could not be aligned in the text \"Motivo de consulta\n",
      "Paciente varón de 49 años de ed...\" with entities \"[(73, 90, 'SPAN'), (92, 95, 'SPAN'), (1257, 1265, ...\". Use `spacy.training.offsets_to_biluo_tags(nlp.make_doc(text), entities)` to check the alignment. Misaligned entities ('-') will be ignored during training.\n",
      "/usr/local/lib/python3.7/dist-packages/spacy/training/iob_utils.py:142: UserWarning: [W030] Some entities could not be aligned in the text \"Motivo de consulta\n",
      "Paciente varón de 49 años de ed...\" with entities \"[[73, 90, 'SANITARIO'], [92, 95, 'SANITARIO'], [12...\". Use `spacy.training.offsets_to_biluo_tags(nlp.make_doc(text), entities)` to check the alignment. Misaligned entities ('-') will be ignored during training.\n",
      "/usr/local/lib/python3.7/dist-packages/spacy/training/iob_utils.py:142: UserWarning: [W030] Some entities could not be aligned in the text \"Motivo de consulta\n",
      "Paciente varón de 49 años de ed...\" with entities \"[[73, 90, 'PROFESION'], [92, 95, 'PROFESION'], [12...\". Use `spacy.training.offsets_to_biluo_tags(nlp.make_doc(text), entities)` to check the alignment. Misaligned entities ('-') will be ignored during training.\n",
      "/usr/local/lib/python3.7/dist-packages/spacy/training/iob_utils.py:142: UserWarning: [W030] Some entities could not be aligned in the text \"Motivo de consulta\n",
      "Paciente varón de 49 años de ed...\" with entities \"[(73, 90, 'SANITARIO+PROFESION'), (92, 95, 'SANITA...\". Use `spacy.training.offsets_to_biluo_tags(nlp.make_doc(text), entities)` to check the alignment. Misaligned entities ('-') will be ignored during training.\n",
      "/usr/local/lib/python3.7/dist-packages/spacy/training/iob_utils.py:142: UserWarning: [W030] Some entities could not be aligned in the text \"Motivo de consulta\n",
      "Paciente varón de 49 años de ed...\" with entities \"[(73, 90, '2211.1'), (92, 95, '2211.1'), (3139, 31...\". Use `spacy.training.offsets_to_biluo_tags(nlp.make_doc(text), entities)` to check the alignment. Misaligned entities ('-') will be ignored during training.\n",
      "/usr/local/lib/python3.7/dist-packages/spacy/training/iob_utils.py:142: UserWarning: [W030] Some entities could not be aligned in the text \"Motivo de consulta\n",
      "Paciente varón de 49 años de ed...\" with entities \"[(73, 90, 'SANITARIO+PROFESION+2211.1'), (92, 95, ...\". Use `spacy.training.offsets_to_biluo_tags(nlp.make_doc(text), entities)` to check the alignment. Misaligned entities ('-') will be ignored during training.\n",
      "/usr/local/lib/python3.7/dist-packages/spacy/training/iob_utils.py:142: UserWarning: [W030] Some entities could not be aligned in the text \"Se trata de un hombre de 29 años, que de forma súb...\" with entities \"[(124, 131, 'SPAN')]\". Use `spacy.training.offsets_to_biluo_tags(nlp.make_doc(text), entities)` to check the alignment. Misaligned entities ('-') will be ignored during training.\n",
      "/usr/local/lib/python3.7/dist-packages/spacy/training/iob_utils.py:142: UserWarning: [W030] Some entities could not be aligned in the text \"Se trata de un hombre de 29 años, que de forma súb...\" with entities \"[[124, 131, 'PACIENTE']]\". Use `spacy.training.offsets_to_biluo_tags(nlp.make_doc(text), entities)` to check the alignment. Misaligned entities ('-') will be ignored during training.\n",
      "/usr/local/lib/python3.7/dist-packages/spacy/training/iob_utils.py:142: UserWarning: [W030] Some entities could not be aligned in the text \"Se trata de un hombre de 29 años, que de forma súb...\" with entities \"[[124, 131, 'PROFESION']]\". Use `spacy.training.offsets_to_biluo_tags(nlp.make_doc(text), entities)` to check the alignment. Misaligned entities ('-') will be ignored during training.\n",
      "/usr/local/lib/python3.7/dist-packages/spacy/training/iob_utils.py:142: UserWarning: [W030] Some entities could not be aligned in the text \"Se trata de un hombre de 29 años, que de forma súb...\" with entities \"[(124, 131, 'PACIENTE+PROFESION')]\". Use `spacy.training.offsets_to_biluo_tags(nlp.make_doc(text), entities)` to check the alignment. Misaligned entities ('-') will be ignored during training.\n",
      "/usr/local/lib/python3.7/dist-packages/spacy/training/iob_utils.py:142: UserWarning: [W030] Some entities could not be aligned in the text \"Se trata de un hombre de 29 años, que de forma súb...\" with entities \"[(124, 131, '2652.3.2')]\". Use `spacy.training.offsets_to_biluo_tags(nlp.make_doc(text), entities)` to check the alignment. Misaligned entities ('-') will be ignored during training.\n",
      "/usr/local/lib/python3.7/dist-packages/spacy/training/iob_utils.py:142: UserWarning: [W030] Some entities could not be aligned in the text \"Se trata de un hombre de 29 años, que de forma súb...\" with entities \"[(124, 131, 'PACIENTE+PROFESION+2652.3.2')]\". Use `spacy.training.offsets_to_biluo_tags(nlp.make_doc(text), entities)` to check the alignment. Misaligned entities ('-') will be ignored during training.\n",
      "/usr/local/lib/python3.7/dist-packages/spacy/training/iob_utils.py:142: UserWarning: [W030] Some entities could not be aligned in the text \"Alejandra tiene 19 años, y es la mayor de 3 herman...\" with entities \"[(178, 193, 'SPAN'), (327, 337, 'SPAN'), (2935, 29...\". Use `spacy.training.offsets_to_biluo_tags(nlp.make_doc(text), entities)` to check the alignment. Misaligned entities ('-') will be ignored during training.\n",
      "/usr/local/lib/python3.7/dist-packages/spacy/training/iob_utils.py:142: UserWarning: [W030] Some entities could not be aligned in the text \"Alejandra tiene 19 años, y es la mayor de 3 herman...\" with entities \"[[178, 193, 'PACIENTE'], [327, 337, 'PACIENTE'], [...\". Use `spacy.training.offsets_to_biluo_tags(nlp.make_doc(text), entities)` to check the alignment. Misaligned entities ('-') will be ignored during training.\n",
      "/usr/local/lib/python3.7/dist-packages/spacy/training/iob_utils.py:142: UserWarning: [W030] Some entities could not be aligned in the text \"Alejandra tiene 19 años, y es la mayor de 3 herman...\" with entities \"[[2935, 2952, 'PROFESION'], [3079, 3088, 'PROFESIO...\". Use `spacy.training.offsets_to_biluo_tags(nlp.make_doc(text), entities)` to check the alignment. Misaligned entities ('-') will be ignored during training.\n",
      "/usr/local/lib/python3.7/dist-packages/spacy/training/iob_utils.py:142: UserWarning: [W030] Some entities could not be aligned in the text \"Alejandra tiene 19 años, y es la mayor de 3 herman...\" with entities \"[(178, 193, 'PACIENTE+SITUACION_LABORAL'), (327, 3...\". Use `spacy.training.offsets_to_biluo_tags(nlp.make_doc(text), entities)` to check the alignment. Misaligned entities ('-') will be ignored during training.\n",
      "/usr/local/lib/python3.7/dist-packages/spacy/training/iob_utils.py:142: UserWarning: [W030] Some entities could not be aligned in the text \"Alejandra tiene 19 años, y es la mayor de 3 herman...\" with entities \"[(2935, 2952, '2634.2'), (3079, 3088, '2634.2'), (...\". Use `spacy.training.offsets_to_biluo_tags(nlp.make_doc(text), entities)` to check the alignment. Misaligned entities ('-') will be ignored during training.\n",
      "/usr/local/lib/python3.7/dist-packages/spacy/training/iob_utils.py:142: UserWarning: [W030] Some entities could not be aligned in the text \"Alejandra tiene 19 años, y es la mayor de 3 herman...\" with entities \"[(178, 193, 'PACIENTE+SITUACION_LABORAL+SCTID: 658...\". Use `spacy.training.offsets_to_biluo_tags(nlp.make_doc(text), entities)` to check the alignment. Misaligned entities ('-') will be ignored during training.\n",
      "/usr/local/lib/python3.7/dist-packages/spacy/training/iob_utils.py:142: UserWarning: [W030] Some entities could not be aligned in the text \"Mujer de 56 años de edad enviada por su médico de ...\" with entities \"[(40, 58, 'SPAN'), (470, 515, 'SPAN'), (615, 662, ...\". Use `spacy.training.offsets_to_biluo_tags(nlp.make_doc(text), entities)` to check the alignment. Misaligned entities ('-') will be ignored during training.\n",
      "/usr/local/lib/python3.7/dist-packages/spacy/training/iob_utils.py:142: UserWarning: [W030] Some entities could not be aligned in the text \"Mujer de 56 años de edad enviada por su médico de ...\" with entities \"[[470, 515, 'PACIENTE'], [615, 662, 'PACIENTE'], [...\". Use `spacy.training.offsets_to_biluo_tags(nlp.make_doc(text), entities)` to check the alignment. Misaligned entities ('-') will be ignored during training.\n",
      "/usr/local/lib/python3.7/dist-packages/spacy/training/iob_utils.py:142: UserWarning: [W030] Some entities could not be aligned in the text \"Mujer de 56 años de edad enviada por su médico de ...\" with entities \"[[40, 58, 'PROFESION'], [470, 515, 'PROFESION'], [...\". Use `spacy.training.offsets_to_biluo_tags(nlp.make_doc(text), entities)` to check the alignment. Misaligned entities ('-') will be ignored during training.\n",
      "/usr/local/lib/python3.7/dist-packages/spacy/training/iob_utils.py:142: UserWarning: [W030] Some entities could not be aligned in the text \"Mujer de 56 años de edad enviada por su médico de ...\" with entities \"[(470, 515, 'PACIENTE+PROFESION'), (615, 662, 'PAC...\". Use `spacy.training.offsets_to_biluo_tags(nlp.make_doc(text), entities)` to check the alignment. Misaligned entities ('-') will be ignored during training.\n",
      "/usr/local/lib/python3.7/dist-packages/spacy/training/iob_utils.py:142: UserWarning: [W030] Some entities could not be aligned in the text \"Mujer de 56 años de edad enviada por su médico de ...\" with entities \"[(40, 58, '2211.1'), (1767, 1773, '2211.1'), (1426...\". Use `spacy.training.offsets_to_biluo_tags(nlp.make_doc(text), entities)` to check the alignment. Misaligned entities ('-') will be ignored during training.\n",
      "/usr/local/lib/python3.7/dist-packages/spacy/training/iob_utils.py:142: UserWarning: [W030] Some entities could not be aligned in the text \"Mujer de 56 años de edad enviada por su médico de ...\" with entities \"[(668, 679, 'PACIENTE+PROFESION+5223'), (615, 662,...\". Use `spacy.training.offsets_to_biluo_tags(nlp.make_doc(text), entities)` to check the alignment. Misaligned entities ('-') will be ignored during training.\n",
      "/usr/local/lib/python3.7/dist-packages/spacy/training/iob_utils.py:142: UserWarning: [W030] Some entities could not be aligned in the text \"Antonia tiene 58 años, está separada y tiene un hi...\" with entities \"[(146, 164, 'SPAN'), (276, 334, 'SPAN'), (404, 423...\". Use `spacy.training.offsets_to_biluo_tags(nlp.make_doc(text), entities)` to check the alignment. Misaligned entities ('-') will be ignored during training.\n",
      "/usr/local/lib/python3.7/dist-packages/spacy/training/iob_utils.py:142: UserWarning: [W030] Some entities could not be aligned in the text \"Antonia tiene 58 años, está separada y tiene un hi...\" with entities \"[[5547, 5579, 'FAMILIAR'], [1033, 1037, 'OTROS'], ...\". Use `spacy.training.offsets_to_biluo_tags(nlp.make_doc(text), entities)` to check the alignment. Misaligned entities ('-') will be ignored during training.\n",
      "/usr/local/lib/python3.7/dist-packages/spacy/training/iob_utils.py:142: UserWarning: [W030] Some entities could not be aligned in the text \"Antonia tiene 58 años, está separada y tiene un hi...\" with entities \"[[146, 164, 'PROFESION'], [276, 334, 'PROFESION'],...\". Use `spacy.training.offsets_to_biluo_tags(nlp.make_doc(text), entities)` to check the alignment. Misaligned entities ('-') will be ignored during training.\n",
      "/usr/local/lib/python3.7/dist-packages/spacy/training/iob_utils.py:142: UserWarning: [W030] Some entities could not be aligned in the text \"Antonia tiene 58 años, está separada y tiene un hi...\" with entities \"[(5547, 5579, 'FAMILIAR+PROFESION'), (1033, 1037, ...\". Use `spacy.training.offsets_to_biluo_tags(nlp.make_doc(text), entities)` to check the alignment. Misaligned entities ('-') will be ignored during training.\n",
      "/usr/local/lib/python3.7/dist-packages/spacy/training/iob_utils.py:142: UserWarning: [W030] Some entities could not be aligned in the text \"Antonia tiene 58 años, está separada y tiene un hi...\" with entities \"[(5547, 5579, '1120.2'), (4043, 4049, '2211.1'), (...\". Use `spacy.training.offsets_to_biluo_tags(nlp.make_doc(text), entities)` to check the alignment. Misaligned entities ('-') will be ignored during training.\n",
      "/usr/local/lib/python3.7/dist-packages/spacy/training/iob_utils.py:142: UserWarning: [W030] Some entities could not be aligned in the text \"Antonia tiene 58 años, está separada y tiene un hi...\" with entities \"[(5547, 5579, 'FAMILIAR+PROFESION+1120.2'), (4992,...\". Use `spacy.training.offsets_to_biluo_tags(nlp.make_doc(text), entities)` to check the alignment. Misaligned entities ('-') will be ignored during training.\n",
      "/usr/local/lib/python3.7/dist-packages/spacy/training/iob_utils.py:142: UserWarning: [W030] Some entities could not be aligned in the text \"La Sra. Susana, de 34 años de edad, es usuaria del...\" with entities \"[(298, 314, 'SPAN'), (3224, 3238, 'SPAN'), (3542, ...\". Use `spacy.training.offsets_to_biluo_tags(nlp.make_doc(text), entities)` to check the alignment. Misaligned entities ('-') will be ignored during training.\n",
      "/usr/local/lib/python3.7/dist-packages/spacy/training/iob_utils.py:142: UserWarning: [W030] Some entities could not be aligned in the text \"La Sra. Susana, de 34 años de edad, es usuaria del...\" with entities \"[[298, 314, 'FAMILIAR'], [3224, 3238, 'OTROS'], [3...\". Use `spacy.training.offsets_to_biluo_tags(nlp.make_doc(text), entities)` to check the alignment. Misaligned entities ('-') will be ignored during training.\n",
      "/usr/local/lib/python3.7/dist-packages/spacy/training/iob_utils.py:142: UserWarning: [W030] Some entities could not be aligned in the text \"La Sra. Susana, de 34 años de edad, es usuaria del...\" with entities \"[[298, 314, 'PROFESION'], [3224, 3238, 'PROFESION'...\". Use `spacy.training.offsets_to_biluo_tags(nlp.make_doc(text), entities)` to check the alignment. Misaligned entities ('-') will be ignored during training.\n",
      "/usr/local/lib/python3.7/dist-packages/spacy/training/iob_utils.py:142: UserWarning: [W030] Some entities could not be aligned in the text \"La Sra. Susana, de 34 años de edad, es usuaria del...\" with entities \"[(298, 314, 'FAMILIAR+PROFESION'), (3224, 3238, 'O...\". Use `spacy.training.offsets_to_biluo_tags(nlp.make_doc(text), entities)` to check the alignment. Misaligned entities ('-') will be ignored during training.\n",
      "/usr/local/lib/python3.7/dist-packages/spacy/training/iob_utils.py:142: UserWarning: [W030] Some entities could not be aligned in the text \"La Sra. Susana, de 34 años de edad, es usuaria del...\" with entities \"[(10426, 10435, '1120.2'), (3542, 3559, '1342.2'),...\". Use `spacy.training.offsets_to_biluo_tags(nlp.make_doc(text), entities)` to check the alignment. Misaligned entities ('-') will be ignored during training.\n",
      "/usr/local/lib/python3.7/dist-packages/spacy/training/iob_utils.py:142: UserWarning: [W030] Some entities could not be aligned in the text \"La Sra. Susana, de 34 años de edad, es usuaria del...\" with entities \"[(298, 314, 'FAMILIAR+PROFESION+8332.2'), (10426, ...\". Use `spacy.training.offsets_to_biluo_tags(nlp.make_doc(text), entities)` to check the alignment. Misaligned entities ('-') will be ignored during training.\n",
      "/usr/local/lib/python3.7/dist-packages/spacy/training/iob_utils.py:142: UserWarning: [W030] Some entities could not be aligned in the text \"Paciente de 26 años diagnosticado de esquizofrenia...\" with entities \"[(191, 200, 'SPAN'), (633, 656, 'SPAN'), (677, 688...\". Use `spacy.training.offsets_to_biluo_tags(nlp.make_doc(text), entities)` to check the alignment. Misaligned entities ('-') will be ignored during training.\n",
      "/usr/local/lib/python3.7/dist-packages/spacy/training/iob_utils.py:142: UserWarning: [W030] Some entities could not be aligned in the text \"Paciente de 26 años diagnosticado de esquizofrenia...\" with entities \"[[191, 200, 'FAMILIAR'], [677, 688, 'OTROS'], [633...\". Use `spacy.training.offsets_to_biluo_tags(nlp.make_doc(text), entities)` to check the alignment. Misaligned entities ('-') will be ignored during training.\n",
      "/usr/local/lib/python3.7/dist-packages/spacy/training/iob_utils.py:142: UserWarning: [W030] Some entities could not be aligned in the text \"Paciente de 26 años diagnosticado de esquizofrenia...\" with entities \"[[191, 200, 'PROFESION'], [4462, 4484, 'PROFESION'...\". Use `spacy.training.offsets_to_biluo_tags(nlp.make_doc(text), entities)` to check the alignment. Misaligned entities ('-') will be ignored during training.\n",
      "/usr/local/lib/python3.7/dist-packages/spacy/training/iob_utils.py:142: UserWarning: [W030] Some entities could not be aligned in the text \"Paciente de 26 años diagnosticado de esquizofrenia...\" with entities \"[(191, 200, 'FAMILIAR+PROFESION'), (677, 688, 'OTR...\". Use `spacy.training.offsets_to_biluo_tags(nlp.make_doc(text), entities)` to check the alignment. Misaligned entities ('-') will be ignored during training.\n",
      "/usr/local/lib/python3.7/dist-packages/spacy/training/iob_utils.py:142: UserWarning: [W030] Some entities could not be aligned in the text \"Paciente de 26 años diagnosticado de esquizofrenia...\" with entities \"[(4462, 4484, '2212'), (5458, 5480, '2212'), (191,...\". Use `spacy.training.offsets_to_biluo_tags(nlp.make_doc(text), entities)` to check the alignment. Misaligned entities ('-') will be ignored during training.\n",
      "/usr/local/lib/python3.7/dist-packages/spacy/training/iob_utils.py:142: UserWarning: [W030] Some entities could not be aligned in the text \"Paciente de 26 años diagnosticado de esquizofrenia...\" with entities \"[(191, 200, 'FAMILIAR+PROFESION+2221.3'), (677, 68...\". Use `spacy.training.offsets_to_biluo_tags(nlp.make_doc(text), entities)` to check the alignment. Misaligned entities ('-') will be ignored during training.\n"
     ]
    },
    {
     "name": "stdout",
     "output_type": "stream",
     "text": [
      "\n"
     ]
    },
    {
     "data": {
      "application/vnd.jupyter.widget-view+json": {
       "model_id": "4bc6e8a23e9d42d7a5d72f140825a47a",
       "version_major": 2,
       "version_minor": 0
      },
      "text/plain": [
       "HBox(children=(FloatProgress(value=0.0, description='Splitting test to sentences', max=344.0, style=ProgressSt…"
      ]
     },
     "metadata": {
      "tags": []
     },
     "output_type": "display_data"
    },
    {
     "name": "stdout",
     "output_type": "stream",
     "text": [
      "\n",
      "CPU times: user 56.2 s, sys: 1.04 s, total: 57.3 s\n",
      "Wall time: 57.5 s\n"
     ]
    }
   ],
   "source": [
    "%%time\n",
    "if FRESH_DATA_LOAD:\n",
    "    tqdm.pandas(desc=\"Splitting to sentences\")\n",
    "    data = data.progress_apply(lambda row: label(row, [col for col in data.columns if not col in ['id', 'text']], labeling_scheme=labeling_scheme), axis=1)\n",
    "\n",
    "    # Test\n",
    "    if not TEST_DIR is None:\n",
    "        tqdm.pandas(desc=\"Splitting test to sentences\")\n",
    "        test_data = test_data.progress_apply(lambda row: label(row, [col for col in test_data.columns if not col in ['id', 'text']], labeling_scheme=labeling_scheme), axis=1)\n",
    "    if SAVE_DATA:\n",
    "        data.to_csv(PATH + 'data/preprocessed_data_%s.csv' % labeling_scheme, index=False)\n",
    "else:\n",
    "    data = pd.read_csv(PATH + 'data/preprocessed_data_%s.csv' % labeling_scheme)\n",
    "    data['sents'] = data['sents'].apply(ast.literal_eval)\n",
    "    for col in data.columns:\n",
    "        if col.endswith('lbls'):\n",
    "            data[col] = data[col].apply(ast.literal_eval)"
   ]
  },
  {
   "cell_type": "code",
   "execution_count": 18,
   "metadata": {
    "executionInfo": {
     "elapsed": 381,
     "status": "ok",
     "timestamp": 1623442905419,
     "user": {
      "displayName": "Fadi Hassan",
      "photoUrl": "",
      "userId": "05221363930635868795"
     },
     "user_tz": -120
    },
    "id": "iARNqVtGL38b"
   },
   "outputs": [],
   "source": [
    "data = data[['id', 'text', 'sents'] + tasks + [t + '_lbls' for t in tasks]]"
   ]
  },
  {
   "cell_type": "code",
   "execution_count": 19,
   "metadata": {
    "executionInfo": {
     "elapsed": 18,
     "status": "ok",
     "timestamp": 1623442905423,
     "user": {
      "displayName": "Fadi Hassan",
      "photoUrl": "",
      "userId": "05221363930635868795"
     },
     "user_tz": -120
    },
    "id": "1meQzT9Azb2g"
   },
   "outputs": [],
   "source": [
    "data['stratify'] = data[tasks[0]].apply(lambda x: min(len(x), 17))"
   ]
  },
  {
   "cell_type": "code",
   "execution_count": 20,
   "metadata": {
    "colab": {
     "base_uri": "https://localhost:8080/"
    },
    "executionInfo": {
     "elapsed": 17,
     "status": "ok",
     "timestamp": 1623442905426,
     "user": {
      "displayName": "Fadi Hassan",
      "photoUrl": "",
      "userId": "05221363930635868795"
     },
     "user_tz": -120
    },
    "id": "R7DSdy1d3NiH",
    "outputId": "01f2c9ed-b327-464d-acee-b70a2ef8e6b1"
   },
   "outputs": [
    {
     "data": {
      "text/plain": [
       "1     546\n",
       "0     299\n",
       "2     249\n",
       "3     133\n",
       "4      75\n",
       "5      50\n",
       "6      35\n",
       "8      23\n",
       "9      17\n",
       "10     16\n",
       "7      14\n",
       "11     14\n",
       "17      9\n",
       "15      6\n",
       "13      6\n",
       "12      5\n",
       "14      3\n",
       "Name: stratify, dtype: int64"
      ]
     },
     "execution_count": 20,
     "metadata": {
      "tags": []
     },
     "output_type": "execute_result"
    }
   ],
   "source": [
    "data['stratify'].value_counts()"
   ]
  },
  {
   "cell_type": "code",
   "execution_count": 22,
   "metadata": {
    "executionInfo": {
     "elapsed": 14,
     "status": "ok",
     "timestamp": 1623442905711,
     "user": {
      "displayName": "Fadi Hassan",
      "photoUrl": "",
      "userId": "05221363930635868795"
     },
     "user_tz": -120
    },
    "id": "q6JpwZuqF_2r"
   },
   "outputs": [],
   "source": [
    "if not tasks is None:\n",
    "    data = data.drop(columns=[col for col in data.columns if col.endswith('lbls') and not col[:-5] in tasks])"
   ]
  },
  {
   "cell_type": "code",
   "execution_count": 23,
   "metadata": {
    "executionInfo": {
     "elapsed": 14,
     "status": "ok",
     "timestamp": 1623442905713,
     "user": {
      "displayName": "Fadi Hassan",
      "photoUrl": "",
      "userId": "05221363930635868795"
     },
     "user_tz": -120
    },
    "id": "7qz9ZiAkF_2s"
   },
   "outputs": [],
   "source": [
    "from sklearn.model_selection import train_test_split\n",
    "train_data, dev_data = train_test_split(data, test_size=0.2, random_state=seed, stratify=data['stratify'])"
   ]
  },
  {
   "cell_type": "code",
   "execution_count": 24,
   "metadata": {
    "executionInfo": {
     "elapsed": 14,
     "status": "ok",
     "timestamp": 1623442905715,
     "user": {
      "displayName": "Fadi Hassan",
      "photoUrl": "",
      "userId": "05221363930635868795"
     },
     "user_tz": -120
    },
    "id": "OnMJ3QoRxrmx"
   },
   "outputs": [],
   "source": [
    "# Test\n",
    "if not TEST_DIR is None:\n",
    "    dev_data = test_data"
   ]
  },
  {
   "cell_type": "markdown",
   "metadata": {
    "id": "qWk7MYxxF_2s"
   },
   "source": [
    "# BERT configurations"
   ]
  },
  {
   "cell_type": "code",
   "execution_count": 25,
   "metadata": {
    "executionInfo": {
     "elapsed": 223,
     "status": "ok",
     "timestamp": 1623442905926,
     "user": {
      "displayName": "Fadi Hassan",
      "photoUrl": "",
      "userId": "05221363930635868795"
     },
     "user_tz": -120
    },
    "id": "MWsXjx3yF_2t"
   },
   "outputs": [],
   "source": [
    "import transformers\n",
    "from transformers import AutoConfig, AutoModel, AutoTokenizer, BertConfig, DistilBertConfig, \\\n",
    "                         TFBertModel, BertTokenizerFast, DistilBertTokenizer, BatchEncoding, \\\n",
    "                         TFBertForTokenClassification, TFDistilBertForTokenClassification, TFDistilBertModel, \\\n",
    "                         RobertaConfig, RobertaTokenizer, TFRobertaForTokenClassification\n",
    "from tokenizers import Encoding"
   ]
  },
  {
   "cell_type": "code",
   "execution_count": 26,
   "metadata": {
    "executionInfo": {
     "elapsed": 267,
     "status": "ok",
     "timestamp": 1623442906187,
     "user": {
      "displayName": "Fadi Hassan",
      "photoUrl": "",
      "userId": "05221363930635868795"
     },
     "user_tz": -120
    },
    "id": "geuaH9xNF_2u"
   },
   "outputs": [],
   "source": [
    "# Bert tokenizer\n",
    "# MODEL_NAME = 'bert-base-cased'\n",
    "# MODEL_NAME = 'bert-base-multilingual-cased'\n",
    "# MODEL_NAME = 'distilbert-base-cased'\n",
    "# MODEL_NAME = 'distilbert-base-multilingual-cased'\n",
    "MODEL_NAME = 'dccuchile/bert-base-spanish-wwm-cased'\n",
    "# MODEL_NAME = 'mrm8488/distill-bert-base-spanish-wwm-cased-finetuned-spa-squad2-es'\n",
    "# MODEL_NAME = 'xlm-roberta-base'\n",
    "# MODEL_NAME = 'roberta-base'\n",
    "# MODEL_NAME = 'distilroberta-base'\n",
    "if 'large' in MODEL_NAME:\n",
    "    vector_size = 1024\n",
    "else:\n",
    "    vector_size = 768\n",
    "if 'roberta' in MODEL_NAME:\n",
    "#     tokenizer = RobertaTokenizer.from_pretrained(MODEL_NAME)\n",
    "    tokenizer = AutoTokenizer.from_pretrained(MODEL_NAME)\n",
    "elif 'distil' in MODEL_NAME:\n",
    "    tokenizer = DistilBertTokenizer.from_pretrained(MODEL_NAME)\n",
    "#     tokenizer = BertTokenizerFast.from_pretrained(MODEL_NAME)\n",
    "else:\n",
    "    tokenizer = AutoTokenizer.from_pretrained(MODEL_NAME)"
   ]
  },
  {
   "cell_type": "code",
   "execution_count": 27,
   "metadata": {
    "colab": {
     "base_uri": "https://localhost:8080/",
     "height": 154,
     "referenced_widgets": [
      "9765cb30756c4d709657352e117d6bde",
      "1b7e45e1ce7b45caa6e460651d6aa392",
      "abab8499c3074f289a8f87e2d72ae288",
      "d620790066d747789a71682e08fd5063",
      "de920444a079449c93ce1acd9118f44c",
      "1872596708034455ab95ae54f9624026",
      "af331df9fb73479e80af8e9f70f8b1fe",
      "9f305e52abe446deb2f66032afe1ccfb",
      "02452609a4564abc888108d71ac18128",
      "bd88f0eef0bf4dd195962014735519a2",
      "819c328eb17e44b988ce08bb5f495c55",
      "c2f90e3c4f0b42fa91ccf25ef66ef87a",
      "acd634371392490b966761de2f876b67",
      "8dc14e28f38442a686b60c6ce4daab55",
      "9e991ccedcd64dcfaed35239d3d02d7e",
      "fce9762cbab74adf9d3a4b5bde240958"
     ]
    },
    "executionInfo": {
     "elapsed": 65946,
     "status": "ok",
     "timestamp": 1623442972131,
     "user": {
      "displayName": "Fadi Hassan",
      "photoUrl": "",
      "userId": "05221363930635868795"
     },
     "user_tz": -120
    },
    "id": "k93lZveXF_2u",
    "outputId": "e4fe113a-cb92-409d-c5ad-2eeccb885783"
   },
   "outputs": [
    {
     "data": {
      "application/vnd.jupyter.widget-view+json": {
       "model_id": "9765cb30756c4d709657352e117d6bde",
       "version_major": 2,
       "version_minor": 0
      },
      "text/plain": [
       "HBox(children=(FloatProgress(value=0.0, max=1200.0), HTML(value='')))"
      ]
     },
     "metadata": {
      "tags": []
     },
     "output_type": "display_data"
    },
    {
     "name": "stdout",
     "output_type": "stream",
     "text": [
      "\n"
     ]
    },
    {
     "data": {
      "application/vnd.jupyter.widget-view+json": {
       "model_id": "02452609a4564abc888108d71ac18128",
       "version_major": 2,
       "version_minor": 0
      },
      "text/plain": [
       "HBox(children=(FloatProgress(value=0.0, max=344.0), HTML(value='')))"
      ]
     },
     "metadata": {
      "tags": []
     },
     "output_type": "display_data"
    },
    {
     "name": "stdout",
     "output_type": "stream",
     "text": [
      "\n",
      "CPU times: user 1min 4s, sys: 799 ms, total: 1min 5s\n",
      "Wall time: 1min 5s\n"
     ]
    }
   ],
   "source": [
    "%%time\n",
    "train_input = convert_to_token_level(train_data, tokenizer=tokenizer, lower_case=lower_case)\n",
    "dev_input = convert_to_token_level(dev_data, tokenizer=tokenizer, lower_case=lower_case)"
   ]
  },
  {
   "cell_type": "markdown",
   "metadata": {},
   "source": [
    "# Data Pre-Processing"
   ]
  },
  {
   "cell_type": "code",
   "execution_count": 28,
   "metadata": {
    "colab": {
     "base_uri": "https://localhost:8080/",
     "height": 154,
     "referenced_widgets": [
      "3ee3f42278ff4d0bb9cd2fea0fa8707c",
      "8ea7fb841146457abf72d7a30a1f8ca0",
      "567a7823b56d4935b3bf0f2ce8e522f6",
      "86031eea0b6d43f78255f355fdce9d33",
      "d1d3dbf9ee3f4741b13d38098912b4b3",
      "e9ac003ac34145cd8d9b9b8eaa2e4293",
      "7dc788487aca487e9b953c97f231c2cf",
      "dd8484bb485c4fa09cb7c45415007530",
      "4fb16ed11de143b08b9d50be904f075d",
      "496f19c95964469f92c2e3f107c6ea66",
      "118d6f12215a47838460ce2cf036a61d",
      "dc9bc0f8fa0a4e0680aaa0c703decad3",
      "be0e57ec58ec41a68f3f42d2882cb6c8",
      "eb8f478bdfd040c9a20ce96ba24b63cf",
      "eeb78d9c7749463cb763c41ba4f3f608",
      "43d726ea113748af8ac3c202849340ec"
     ]
    },
    "executionInfo": {
     "elapsed": 25272,
     "status": "ok",
     "timestamp": 1623442997392,
     "user": {
      "displayName": "Fadi Hassan",
      "photoUrl": "",
      "userId": "05221363930635868795"
     },
     "user_tz": -120
    },
    "id": "EGTP1bmZF_2v",
    "outputId": "20edc252-4f9f-4fe3-c188-e1dbec1d5ddb"
   },
   "outputs": [
    {
     "data": {
      "application/vnd.jupyter.widget-view+json": {
       "model_id": "3ee3f42278ff4d0bb9cd2fea0fa8707c",
       "version_major": 2,
       "version_minor": 0
      },
      "text/plain": [
       "HBox(children=(FloatProgress(value=0.0, max=39375.0), HTML(value='')))"
      ]
     },
     "metadata": {
      "tags": []
     },
     "output_type": "display_data"
    },
    {
     "name": "stdout",
     "output_type": "stream",
     "text": [
      "\n"
     ]
    },
    {
     "data": {
      "application/vnd.jupyter.widget-view+json": {
       "model_id": "4fb16ed11de143b08b9d50be904f075d",
       "version_major": 2,
       "version_minor": 0
      },
      "text/plain": [
       "HBox(children=(FloatProgress(value=0.0, max=9496.0), HTML(value='')))"
      ]
     },
     "metadata": {
      "tags": []
     },
     "output_type": "display_data"
    },
    {
     "name": "stdout",
     "output_type": "stream",
     "text": [
      "\n",
      "CPU times: user 24.9 s, sys: 879 ms, total: 25.7 s\n",
      "Wall time: 25.1 s\n"
     ]
    }
   ],
   "source": [
    "%%time\n",
    "train_input = split_long_sentence(train_input, max_length, remove=train_truncate_sentences)\n",
    "dev_input = split_long_sentence(dev_input, max_length, remove=dev_truncate_sentences)"
   ]
  },
  {
   "cell_type": "code",
   "execution_count": 29,
   "metadata": {
    "colab": {
     "base_uri": "https://localhost:8080/",
     "height": 192,
     "referenced_widgets": [
      "08d3ef2b4a1f451d852c1710002cf595",
      "dba6f161c6f44361bcc7ffac05e019d5",
      "a0e96908450e45caafcbbbba801e32c9",
      "96c501c4aebf40ee9c13501bef13d240",
      "c7269f79c7e147e9bdf2b18d5c81e023",
      "3f43a658822d4aefa017e38154dcad3f",
      "e4be4469aa91486e95c202974a9433f7",
      "fb112a2cf3a947e18451a0b1748e96d6",
      "abdf131efced4c90ad2ef75f64040285",
      "f2cfcd441d354c72b926ef0ada93c1de",
      "cb49cb9f06d8476d969faa35664f7461",
      "c7951cf22dc24e4fb2756cf2ba6b2264",
      "f5086a60825048b39358c8c4825e8f49",
      "5ff65c2b741e4a0a8f59d93ec1434ec8",
      "fb9861799547488c8f89ff76e73fcb0e",
      "298465afd6694e95932509168903f7dc"
     ]
    },
    "executionInfo": {
     "elapsed": 15417,
     "status": "ok",
     "timestamp": 1623443012790,
     "user": {
      "displayName": "Fadi Hassan",
      "photoUrl": "",
      "userId": "05221363930635868795"
     },
     "user_tz": -120
    },
    "id": "ryikQnFTF_2v",
    "outputId": "c233b68b-1fcc-472a-dcd1-476e0750e5a4"
   },
   "outputs": [
    {
     "name": "stderr",
     "output_type": "stream",
     "text": [
      "/usr/local/lib/python3.7/dist-packages/tqdm/std.py:658: FutureWarning: The Panel class is removed from pandas. Accessing it from the top-level namespace will also be removed in the next version\n"
     ]
    },
    {
     "data": {
      "application/vnd.jupyter.widget-view+json": {
       "model_id": "08d3ef2b4a1f451d852c1710002cf595",
       "version_major": 2,
       "version_minor": 0
      },
      "text/plain": [
       "HBox(children=(FloatProgress(value=0.0, description='Transforming', max=39282.0, style=ProgressStyle(descripti…"
      ]
     },
     "metadata": {
      "tags": []
     },
     "output_type": "display_data"
    },
    {
     "name": "stdout",
     "output_type": "stream",
     "text": [
      "\n"
     ]
    },
    {
     "data": {
      "application/vnd.jupyter.widget-view+json": {
       "model_id": "abdf131efced4c90ad2ef75f64040285",
       "version_major": 2,
       "version_minor": 0
      },
      "text/plain": [
       "HBox(children=(FloatProgress(value=0.0, description='Transforming', max=14337.0, style=ProgressStyle(descripti…"
      ]
     },
     "metadata": {
      "tags": []
     },
     "output_type": "display_data"
    },
    {
     "name": "stdout",
     "output_type": "stream",
     "text": [
      "\n",
      "CPU times: user 15 s, sys: 362 ms, total: 15.4 s\n",
      "Wall time: 15.5 s\n"
     ]
    }
   ],
   "source": [
    "%%time\n",
    "cols = [col for col in train_data.columns if col.endswith('lbls')]\n",
    "filt = lambda s: {tuple(items[:3]): tuple(list(items)[3:]) for items in \n",
    "                                                zip(*([s[\"id\"].tolist(), s['key'].tolist(), s[\"start\"].tolist(), \n",
    "                                                       s[\"sub_tokens\"].tolist(), s[\"end\"].tolist(), s[\"token\"].tolist()] + \n",
    "                                                      [s[col] for col in cols if tasks is None or col[:-5] in tasks]))}\n",
    "tqdm.pandas(desc=\"Transforming\")\n",
    "train_sents = train_input.groupby([\"id\", \"key\"], sort=False).progress_apply(filt)\n",
    "dev_sents = dev_input.groupby([\"id\", \"key\"], sort=False).progress_apply(filt)"
   ]
  },
  {
   "cell_type": "code",
   "execution_count": 32,
   "metadata": {
    "colab": {
     "base_uri": "https://localhost:8080/"
    },
    "executionInfo": {
     "elapsed": 6259,
     "status": "ok",
     "timestamp": 1623443019957,
     "user": {
      "displayName": "Fadi Hassan",
      "photoUrl": "",
      "userId": "05221363930635868795"
     },
     "user_tz": -120
    },
    "id": "Qe39l7KWF_2w",
    "outputId": "66dcc1b1-83b9-4f35-99d6-cc310536954f"
   },
   "outputs": [
    {
     "name": "stdout",
     "output_type": "stream",
     "text": [
      "CPU times: user 6.78 s, sys: 142 ms, total: 6.92 s\n",
      "Wall time: 6.92 s\n"
     ]
    }
   ],
   "source": [
    "%%time\n",
    "cls_id = tokenizer(tokenizer.cls_token, add_special_tokens=False)['input_ids'][0]\n",
    "sep_id = tokenizer(tokenizer.sep_token, add_special_tokens=False)['input_ids'][0]\n",
    "len_cols = len([col for col in train_data.columns if col.endswith('lbls')])\n",
    "def subword_labeling(i, count, x, use_dash=False):\n",
    "    if use_dash:\n",
    "        return x if i == 0 else '-'\n",
    "        # return x if i == 0 or x == 'O' else '-'\n",
    "    if labeling_scheme in ['iob', 'bio']:\n",
    "        return x if i == 0 else x.replace('B-', 'I-')\n",
    "    else:\n",
    "        if x.startswith('U-') and count > 1:\n",
    "            if i == 0:\n",
    "                return x.replace('U-', 'B-')\n",
    "            elif i == count - 1:\n",
    "                return x.replace('U-', 'L-')\n",
    "            else:\n",
    "                return x.replace('U-', 'I-')\n",
    "        elif x.startswith('B-'):\n",
    "            return x if i == 0 else x.replace('B-', 'I-')\n",
    "        elif x.startswith('L-'):\n",
    "            return x if i == count - 1 else x.replace('L-', 'I-')\n",
    "        return x\n",
    "            \n",
    "            \n",
    "    \n",
    "\n",
    "# use '-' only for entities\n",
    "train_encodings = {list(sent)[0][:2]: ([(cls_id, ['O'] * len_cols)] if use_cls else []) + \n",
    "                                      [(id, [subword_labeling(i, len(sent[key][0]), x, use_dash) for x in sent[key][-len_cols:]]) \n",
    "                                                                              for key in sent for i, id in enumerate(sent[key][0])] + \n",
    "                                      ([(sep_id, ['O'] * len_cols)] if use_cls else [])\n",
    "                   for sent in train_sents}\n",
    "dev_encodings = {list(sent)[0][:2]: ([(cls_id, ['O'] * len_cols)] if use_cls else []) + \n",
    "                                      [(id, [subword_labeling(i, len(sent[key][0]), x, use_dash) for x in sent[key][-len_cols:]]) \n",
    "                                                                              for key in sent for i, id in enumerate(sent[key][0])] + \n",
    "                                      ([(sep_id, ['O'] * len_cols)] if use_cls else [])\n",
    "                   for sent in dev_sents}\n",
    "# # use '-' for every subword\n",
    "# train_encodings = {list(sent)[0][:2]: [(cls_id, ['O'] * len_cols)] + \n",
    "#                                       [(id, [x if i == 0 else '-' for x in sent[key][-len_cols:]]) \n",
    "#                                                                                     for key in sent for i, id in enumerate(sent[key][0])] + \n",
    "#                                       [(sep_id, ['O'] * len_cols)] \n",
    "#                    for sent in train_sents}\n",
    "# dev_encodings = {list(sent)[0][:2]: [(cls_id, ['O'] * len_cols)] + \n",
    "#                                       [(id, [x if i == 0 else '-' for x in sent[key][-len_cols:]]) \n",
    "#                                                                                     for key in sent for i, id in enumerate(sent[key][0])] + \n",
    "#                                       [(sep_id, ['O'] * len_cols)] \n",
    "#                    for sent in dev_sents}"
   ]
  },
  {
   "cell_type": "code",
   "execution_count": 33,
   "metadata": {
    "executionInfo": {
     "elapsed": 36,
     "status": "ok",
     "timestamp": 1623443019960,
     "user": {
      "displayName": "Fadi Hassan",
      "photoUrl": "",
      "userId": "05221363930635868795"
     },
     "user_tz": -120
    },
    "id": "PuiZwAEUF_2w"
   },
   "outputs": [],
   "source": [
    "# train_encodings[('S1887-85712013000300006-1', 301)]"
   ]
  },
  {
   "cell_type": "code",
   "execution_count": 34,
   "metadata": {
    "colab": {
     "base_uri": "https://localhost:8080/",
     "height": 477,
     "referenced_widgets": [
      "24446f8991484de8ad893bbc86c27767",
      "b33c91e2ed5549bb9132c0a02c220f4b",
      "e8311be38e35495d8258552e39234bb7",
      "d1a1608f8e2d457abb36e27c620818af",
      "c3d221da5fb44475a243053ba5e7b3b8",
      "f0c2fa4a0f86481d86ac5cc034536543",
      "01864e234eb04b5aaa0b4ee69054103a",
      "5f8e16b77b944732a59a0f02aacbd5ca"
     ]
    },
    "executionInfo": {
     "elapsed": 1087,
     "status": "ok",
     "timestamp": 1623443021018,
     "user": {
      "displayName": "Fadi Hassan",
      "photoUrl": "",
      "userId": "05221363930635868795"
     },
     "user_tz": -120
    },
    "id": "hKysAelxF_2x",
    "outputId": "1890b80e-00ff-4e8b-bfb5-6358acfaeb47"
   },
   "outputs": [
    {
     "data": {
      "application/vnd.jupyter.widget-view+json": {
       "model_id": "24446f8991484de8ad893bbc86c27767",
       "version_major": 2,
       "version_minor": 0
      },
      "text/plain": [
       "HBox(children=(FloatProgress(value=0.0, max=39282.0), HTML(value='')))"
      ]
     },
     "metadata": {
      "tags": []
     },
     "output_type": "display_data"
    },
    {
     "name": "stdout",
     "output_type": "stream",
     "text": [
      "\n"
     ]
    },
    {
     "data": {
      "image/png": "[encoded data removed]",
      "text/plain": [
       "<Figure size 864x432 with 1 Axes>"
      ]
     },
     "metadata": {
      "tags": []
     },
     "output_type": "display_data"
    }
   ],
   "source": [
    "# plot\n",
    "# Get all of the lengths.\n",
    "unsorted_lengths = [len(train_encodings[key]) for key in tqdm(train_encodings)]\n",
    "import matplotlib.pyplot as plt\n",
    "import seaborn as sns\n",
    "\n",
    "# Use plot styling from seaborn.\n",
    "sns.set(style='darkgrid')\n",
    "\n",
    "# Increase the plot size and font size.\n",
    "sns.set(font_scale=1.5)\n",
    "plt.rcParams[\"figure.figsize\"] = (12,6)\n",
    "\n",
    "plt.scatter(range(0, len(unsorted_lengths)), unsorted_lengths, marker=\"|\")\n",
    "\n",
    "plt.xlabel('Sample Number')\n",
    "plt.ylabel('Sequence Length')\n",
    "plt.title('Samples BEFORE Sorting')\n",
    "\n",
    "plt.show()\n"
   ]
  },
  {
   "cell_type": "code",
   "execution_count": 35,
   "metadata": {
    "executionInfo": {
     "elapsed": 36,
     "status": "ok",
     "timestamp": 1623443021021,
     "user": {
      "displayName": "Fadi Hassan",
      "photoUrl": "",
      "userId": "05221363930635868795"
     },
     "user_tz": -120
    },
    "id": "YYXfs-i9F_2x"
   },
   "outputs": [],
   "source": [
    "# for x in train_encodings.items():\n",
    "#     print(x)"
   ]
  },
  {
   "cell_type": "code",
   "execution_count": 36,
   "metadata": {
    "colab": {
     "base_uri": "https://localhost:8080/"
    },
    "executionInfo": {
     "elapsed": 34,
     "status": "ok",
     "timestamp": 1623443021023,
     "user": {
      "displayName": "Fadi Hassan",
      "photoUrl": "",
      "userId": "05221363930635868795"
     },
     "user_tz": -120
    },
    "id": "xlMbJ3HhF_2x",
    "outputId": "ff72c7f4-6624-4c9a-e97c-b6baaf22f0cc"
   },
   "outputs": [
    {
     "name": "stdout",
     "output_type": "stream",
     "text": [
      "Train Shortest sample: 160\n",
      "Train Longest sample: 3\n",
      "Dev Shortest sample: 160\n",
      "Dev Longest sample: 3\n"
     ]
    }
   ],
   "source": [
    "# Sort the two lists together by the length of the input sequence.\n",
    "random.seed(seed)\n",
    "train_samples = list(train_encodings.items())\n",
    "random.shuffle(train_samples)\n",
    "train_samples = sorted(train_samples, key=lambda x: len(x[1]), reverse=True)\n",
    "dev_samples = list(dev_encodings.items())\n",
    "random.shuffle(dev_samples)\n",
    "dev_samples = sorted(dev_samples, key=lambda x: len(x[1]), reverse=True)\n",
    "sorted_train_lengths = [len(s[1]) for s in train_samples]\n",
    "sorted_dev_lengths = [len(s[1]) for s in dev_samples]\n",
    "print('Train Shortest sample:', len(train_samples[0][1]))\n",
    "print('Train Longest sample:', len(train_samples[-1][1]))\n",
    "print('Dev Shortest sample:', len(dev_samples[0][1]))\n",
    "print('Dev Longest sample:', len(dev_samples[-1][1]))"
   ]
  },
  {
   "cell_type": "code",
   "execution_count": 38,
   "metadata": {
    "colab": {
     "base_uri": "https://localhost:8080/",
     "height": 427
    },
    "executionInfo": {
     "elapsed": 24,
     "status": "ok",
     "timestamp": 1623443021026,
     "user": {
      "displayName": "Fadi Hassan",
      "photoUrl": "",
      "userId": "05221363930635868795"
     },
     "user_tz": -120
    },
    "id": "UeynyLWUF_2y",
    "outputId": "c6f81c02-adbf-42e7-e9ae-87307a621623"
   },
   "outputs": [
    {
     "data": {
      "image/png": "[encoded data removed]",
      "text/plain": [
       "<Figure size 864x432 with 1 Axes>"
      ]
     },
     "metadata": {
      "tags": []
     },
     "output_type": "display_data"
    }
   ],
   "source": [
    "import matplotlib.pyplot as plt\n",
    "import seaborn as sns\n",
    "\n",
    "# Use plot styling from seaborn.\n",
    "sns.set(style='darkgrid')\n",
    "\n",
    "# Increase the plot size and font size.\n",
    "sns.set(font_scale=1.5)\n",
    "plt.rcParams[\"figure.figsize\"] = (12,6)\n",
    "\n",
    "plt.plot(range(0, len(sorted_train_lengths)), sorted_train_lengths)\n",
    "\n",
    "plt.xlabel('Sample Number')\n",
    "plt.ylabel('Sequence Length')\n",
    "plt.title('Samples after Sorting')\n",
    "\n",
    "plt.show()\n"
   ]
  },
  {
   "cell_type": "code",
   "execution_count": 39,
   "metadata": {
    "colab": {
     "base_uri": "https://localhost:8080/",
     "height": 285,
     "referenced_widgets": [
      "126bd57055cc4eed80dfb935bc80b290",
      "192f6c9942784f1ba18354b002e480b0",
      "0e10b2a02c6d43868be657c0abafc9b6",
      "e2e1f4e73be04d05a8ef8ccf78aeeb7c",
      "f840128587f641359e384445da19bd1b",
      "7c0401ee141b42e49b73adba1531ba85",
      "6586a294c80140aa8f3b373b3ac72bc1",
      "f2f1f9e9e66642ba94c5cf3d90d8e7ed"
     ]
    },
    "executionInfo": {
     "elapsed": 772,
     "status": "ok",
     "timestamp": 1623443021779,
     "user": {
      "displayName": "Fadi Hassan",
      "photoUrl": "",
      "userId": "05221363930635868795"
     },
     "user_tz": -120
    },
    "id": "p_9dzFtDF_2z",
    "outputId": "6816ab47-6ebc-4bdc-8e13-2de95e7697d4",
    "scrolled": true
   },
   "outputs": [
    {
     "name": "stdout",
     "output_type": "stream",
     "text": [
      "Creating batches of size 32\n",
      "  Selected 0 batches.\n",
      "  Selected 4,000 batches.\n",
      "  Selected 8,000 batches.\n",
      "  Selected 12,000 batches.\n",
      "  Selected 16,000 batches.\n",
      "  Selected 20,000 batches.\n",
      "  Selected 24,000 batches.\n",
      "  Selected 28,000 batches.\n",
      "  Selected 32,000 batches.\n",
      "  Selected 36,000 batches.\n",
      "Creating batches of size 128\n"
     ]
    },
    {
     "data": {
      "application/vnd.jupyter.widget-view+json": {
       "model_id": "126bd57055cc4eed80dfb935bc80b290",
       "version_major": 2,
       "version_minor": 0
      },
      "text/plain": [
       "HBox(children=(FloatProgress(value=0.0, max=113.0), HTML(value='')))"
      ]
     },
     "metadata": {
      "tags": []
     },
     "output_type": "display_data"
    },
    {
     "name": "stdout",
     "output_type": "stream",
     "text": [
      "\n"
     ]
    }
   ],
   "source": [
    "# %%time\n",
    "pad_token = tokenizer(tokenizer.pad_token, add_special_tokens=False)['input_ids'][0]\n",
    "train_batch_keys, train_batch_ids, train_batch_masks, train_batch_lbls = batching(train_samples, batch_size, extend=BATCH_PADDING, pad_token=pad_token, max_len=max_length, mix=True)\n",
    "dev_batch_keys, dev_batch_ids, dev_batch_masks, dev_batch_lbls = batching(dev_samples, min(batch_size * 4, 128), extend=BATCH_PADDING, pad_token=pad_token, max_len=max_length, mix=False)"
   ]
  },
  {
   "cell_type": "code",
   "execution_count": 40,
   "metadata": {
    "colab": {
     "base_uri": "https://localhost:8080/"
    },
    "executionInfo": {
     "elapsed": 10,
     "status": "ok",
     "timestamp": 1623443021781,
     "user": {
      "displayName": "Fadi Hassan",
      "photoUrl": "",
      "userId": "05221363930635868795"
     },
     "user_tz": -120
    },
    "id": "1rp12Qs6F_2z",
    "outputId": "4bcf4f34-446d-43e3-ad15-70bffa95bff8"
   },
   "outputs": [
    {
     "name": "stdout",
     "output_type": "stream",
     "text": [
      "CPU times: user 4 µs, sys: 0 ns, total: 4 µs\n",
      "Wall time: 7.63 µs\n"
     ]
    }
   ],
   "source": [
    "%%time\n",
    "if not BATCH_PADDING:\n",
    "    le = MyLabelEncoder(unique_labels, labeling_scheme, use_dash)\n",
    "    y_train = [[le.transform(y) for y in batch] for batch in train_batch_lbls]\n",
    "    # y_train = [to_categorical(y, num_classes=len(le)) for y in y_train]\n",
    "    y_dev = [[le.transform(y) for y in batch] for batch in dev_batch_lbls]\n",
    "    # y_dev = [to_categorical(y, num_classes=len(le)) for y in y_dev]"
   ]
  },
  {
   "cell_type": "code",
   "execution_count": 41,
   "metadata": {
    "executionInfo": {
     "elapsed": 3019,
     "status": "ok",
     "timestamp": 1623443024793,
     "user": {
      "displayName": "Fadi Hassan",
      "photoUrl": "",
      "userId": "05221363930635868795"
     },
     "user_tz": -120
    },
    "id": "PzTtrcISF_2z"
   },
   "outputs": [],
   "source": [
    "if BATCH_PADDING:\n",
    "    le = MyLabelEncoder(unique_labels, labeling_scheme, use_dash)\n",
    "    y_train = [le.transform(y) for y in train_batch_lbls]\n",
    "    y_dev = [le.transform(y) for y in dev_batch_lbls]"
   ]
  },
  {
   "cell_type": "code",
   "execution_count": 42,
   "metadata": {
    "executionInfo": {
     "elapsed": 25,
     "status": "ok",
     "timestamp": 1623443024796,
     "user": {
      "displayName": "Fadi Hassan",
      "photoUrl": "",
      "userId": "05221363930635868795"
     },
     "user_tz": -120
    },
    "id": "uiAj436DF_2z"
   },
   "outputs": [],
   "source": [
    "# %%time\n",
    "\n",
    "# def gen(keys, ids, msks, ys):\n",
    "#     for key, id, msk, y in zip(keys, ids, msks, ys):\n",
    "#         yield (key, id, msk, y)\n",
    "        \n",
    "# train_ds = tf.data.Dataset.from_generator(lambda: gen(train_batch_keys, train_batch_ids, train_batch_masks, y_train), \n",
    "#                                                ((tf.string, tf.int32),tf.int32,tf.int32,tf.int32))\n",
    "# train_ds_size = len(train_batch_keys)\n",
    "        \n",
    "# dev_ds = tf.data.Dataset.from_generator(lambda: gen(dev_batch_keys, dev_batch_ids, dev_batch_masks, y_dev), \n",
    "#                                                ((tf.string, tf.int32),tf.int32,tf.int32,tf.int32))\n",
    "# dev_ds_size = len(dev_batch_keys)"
   ]
  },
  {
   "cell_type": "code",
   "execution_count": 43,
   "metadata": {
    "executionInfo": {
     "elapsed": 22,
     "status": "ok",
     "timestamp": 1623443024799,
     "user": {
      "displayName": "Fadi Hassan",
      "photoUrl": "",
      "userId": "05221363930635868795"
     },
     "user_tz": -120
    },
    "id": "piRyYA_sF_2z"
   },
   "outputs": [],
   "source": [
    "class DataGenerator:\n",
    "    def __init__(self, keys, ids, masks, ys):\n",
    "        self.keys = keys\n",
    "        self.ids = ids\n",
    "        self.masks = masks\n",
    "        self.ys = ys\n",
    "        self.counter = 0\n",
    "        self.n = len(self.keys)\n",
    "    \n",
    "    def __len__(self):\n",
    "        return self.n\n",
    "\n",
    "    def __iter__(self):\n",
    "        for i in range(self.n):\n",
    "            yield (tf.convert_to_tensor(self.ids[i]), \n",
    "                   tf.convert_to_tensor(self.masks[i]), tf.convert_to_tensor(self.ys[i]))\n",
    "            \n",
    "if not BATCH_PADDING:\n",
    "    train_ds = DataGenerator(train_batch_keys, train_batch_ids, train_batch_masks, y_train)\n",
    "    train_ds_size = len(train_ds)\n",
    "    dev_ds = DataGenerator(dev_batch_keys, dev_batch_ids, dev_batch_masks, y_dev)\n",
    "    dev_ds_size = len(dev_ds)"
   ]
  },
  {
   "cell_type": "code",
   "execution_count": 44,
   "metadata": {
    "colab": {
     "base_uri": "https://localhost:8080/"
    },
    "executionInfo": {
     "elapsed": 747,
     "status": "ok",
     "timestamp": 1623443025529,
     "user": {
      "displayName": "Fadi Hassan",
      "photoUrl": "",
      "userId": "05221363930635868795"
     },
     "user_tz": -120
    },
    "id": "AzAukTs_F_20",
    "outputId": "6776067f-9aa0-4e07-dd48-04ec5efd7715"
   },
   "outputs": [
    {
     "name": "stdout",
     "output_type": "stream",
     "text": [
      "1228 449\n",
      "CPU times: user 373 ms, sys: 275 ms, total: 647 ms\n",
      "Wall time: 649 ms\n"
     ]
    }
   ],
   "source": [
    "%%time\n",
    "if BATCH_PADDING:\n",
    "    train_dataset = tf.data.Dataset.from_generator(lambda: [(x, y, z) for x, y, z in zip(train_batch_ids, train_batch_masks, y_train)], \n",
    "                                                   (tf.int32, tf.int32, tf.int32), ([None], [None], [None, None]))\n",
    "    dev_dataset = tf.data.Dataset.from_generator(lambda: [(x, y, z) for x, y, z in zip(dev_batch_ids, dev_batch_masks, y_dev)], \n",
    "                                                   (tf.int32, tf.int32, tf.int32), ([None], [None], [None, None]))\n",
    "\n",
    "    train_ds_size = ceil(len(train_batch_ids) / batch_size)\n",
    "    dev_ds_size = ceil(len(dev_batch_ids) / batch_size)\n",
    "    print(train_ds_size, dev_ds_size)\n",
    "\n",
    "    train_ds = train_dataset.padded_batch(batch_size, padded_shapes=([None], [None], [None, None]), \n",
    "                                                                     padding_values=(pad_token, 0, 1), drop_remainder=False)\n",
    "    dev_ds = dev_dataset.padded_batch(batch_size, padded_shapes=([None], [None], [None, None]), \n",
    "                                                                 padding_values=(pad_token, 0, 1), drop_remainder=False)"
   ]
  },
  {
   "cell_type": "code",
   "execution_count": 45,
   "metadata": {
    "colab": {
     "base_uri": "https://localhost:8080/",
     "height": 105,
     "referenced_widgets": [
      "0157694e562a4ebe80e50e3a81455d33",
      "bce9315d71714f4db7cf1ce9b5dd5531",
      "21c0f79b855c46088adc900d156f6b0c",
      "763eb483197745f1a6edc0410a960240",
      "c4ac93211fc840faaf50d9129ab3a84d",
      "fae70a7b0ec44beca49111349fb859d8",
      "984630b23f6c483f927f622830689aa6",
      "18a6b64ecd1f4b908ba46f3242382009"
     ]
    },
    "executionInfo": {
     "elapsed": 2625,
     "status": "ok",
     "timestamp": 1623443028129,
     "user": {
      "displayName": "Fadi Hassan",
      "photoUrl": "",
      "userId": "05221363930635868795"
     },
     "user_tz": -120
    },
    "id": "0VZK6lP5F_20",
    "outputId": "e5fc1ea0-f4c8-4dd1-c2ef-8b07958538b8"
   },
   "outputs": [
    {
     "name": "stderr",
     "output_type": "stream",
     "text": [
      "/usr/local/lib/python3.7/dist-packages/tqdm/std.py:658: FutureWarning: The Panel class is removed from pandas. Accessing it from the top-level namespace will also be removed in the next version\n"
     ]
    },
    {
     "data": {
      "application/vnd.jupyter.widget-view+json": {
       "model_id": "0157694e562a4ebe80e50e3a81455d33",
       "version_major": 2,
       "version_minor": 0
      },
      "text/plain": [
       "HBox(children=(FloatProgress(value=0.0, description='Transforming', max=14337.0, style=ProgressStyle(descripti…"
      ]
     },
     "metadata": {
      "tags": []
     },
     "output_type": "display_data"
    },
    {
     "name": "stdout",
     "output_type": "stream",
     "text": [
      "\n"
     ]
    }
   ],
   "source": [
    "cols = [col for col in train_data.columns if col.endswith('lbls')]\n",
    "filt = lambda s: [tuple(items) for items in zip(*([s[\"start\"].tolist(), s[\"end\"].tolist(), s[\"count\"].tolist(), s[\"token\"].tolist()] + \n",
    "                                                  [s[col] for col in cols]))]\n",
    "tqdm.pandas(desc=\"Transforming\")\n",
    "dev_meta_data = dev_input.groupby([\"id\", \"key\"], sort=False).progress_apply(filt)"
   ]
  },
  {
   "cell_type": "markdown",
   "metadata": {},
   "source": [
    "# Build bert classifier"
   ]
  },
  {
   "cell_type": "code",
   "execution_count": 46,
   "metadata": {
    "colab": {
     "base_uri": "https://localhost:8080/"
    },
    "executionInfo": {
     "elapsed": 1560,
     "status": "ok",
     "timestamp": 1623443029682,
     "user": {
      "displayName": "Fadi Hassan",
      "photoUrl": "",
      "userId": "05221363930635868795"
     },
     "user_tz": -120
    },
    "id": "62XwTg10F_20",
    "outputId": "4412cfbf-2c2d-433a-8285-e768557ca3a7"
   },
   "outputs": [
    {
     "name": "stderr",
     "output_type": "stream",
     "text": [
      "All model checkpoint layers were used when initializing TFBertForTokenClassification.\n",
      "\n",
      "Some layers of TFBertForTokenClassification were not initialized from the model checkpoint at dccuchile/bert-base-spanish-wwm-cased and are newly initialized: ['classifier']\n",
      "You should probably TRAIN this model on a down-stream task to be able to use it for predictions and inference.\n"
     ]
    }
   ],
   "source": [
    "# Bert\n",
    "if 'roberta' in MODEL_NAME:\n",
    "    config  = RobertaConfig.from_pretrained(MODEL_NAME, output_hidden_states=True, output_attentions=True, return_dict=True, use_cache=True, num_labels=len(le))\n",
    "    bert_model = TFRobertaForTokenClassification.from_pretrained(MODEL_NAME, config=config)\n",
    "elif 'distil' in MODEL_NAME:\n",
    "    config  = DistilBertConfig.from_pretrained(MODEL_NAME, output_hidden_states=True, output_attentions=True, return_dict=True, use_cache=True, num_labels=len(le))\n",
    "    bert_model = TFDistilBertModel.from_pretrained(MODEL_NAME, config=config)\n",
    "else:\n",
    "    config = BertConfig.from_pretrained(MODEL_NAME, output_hidden_states=True, output_attentions=True, return_dict=True, use_cache=True, num_labels=len(le))\n",
    "    bert_model = TFBertForTokenClassification.from_pretrained(MODEL_NAME, config=config)"
   ]
  },
  {
   "cell_type": "code",
   "execution_count": 47,
   "metadata": {
    "executionInfo": {
     "elapsed": 24,
     "status": "ok",
     "timestamp": 1623443029685,
     "user": {
      "displayName": "Fadi Hassan",
      "photoUrl": "",
      "userId": "05221363930635868795"
     },
     "user_tz": -120
    },
    "id": "TcGWmyW5F_21"
   },
   "outputs": [],
   "source": [
    "# # Compile the model\n",
    "# optimizer = tf.keras.optimizers.Adam(learning_rate=5e-5)\n",
    "# bert_model.compile(loss='categorical_crossentropy', optimizer=optimizer, metrics=['accuracy'])"
   ]
  },
  {
   "cell_type": "code",
   "execution_count": 48,
   "metadata": {
    "executionInfo": {
     "elapsed": 20,
     "status": "ok",
     "timestamp": 1623443029687,
     "user": {
      "displayName": "Fadi Hassan",
      "photoUrl": "",
      "userId": "05221363930635868795"
     },
     "user_tz": -120
    },
    "id": "zP-axBmEF_21"
   },
   "outputs": [],
   "source": [
    "\n",
    "model = BertClassifier(bert_model, max([len(le[key]) for key in le]), bert_trainable=True, le=le, tasks=tasks)\n",
    "\n",
    "optimizer = tf.keras.optimizers.Adam(learning_rate=learning_rate)\n",
    "\n",
    "\n",
    "output_dir = PATH + '/models/tf'\n",
    "ckpt = tf.train.Checkpoint(optimizer=optimizer, model=model)\n",
    "# ckpt.restore(tf.train.latest_checkpoint(output_dir))\n",
    "ckpt_manager = tf.train.CheckpointManager(ckpt,\n",
    "                                          output_dir,\n",
    "                                          checkpoint_name='model.ckpt',\n",
    "                                          max_to_keep=1)\n",
    "\n",
    "\n",
    "@tf.function(experimental_relax_shapes=True)\n",
    "def train_one_step(model, optimizer, input_ids, attention_mask, y, dont_train=None, experimental_relax_shapes=True):\n",
    "    with tf.GradientTape() as tape:\n",
    "        if dont_train is None:\n",
    "            logits, loss, f1s = model(input_ids, attention_mask, y)\n",
    "        else:\n",
    "            logits, loss, f1s = model(input_ids, attention_mask, y, dont_train=dont_train)\n",
    "    gradients = tape.gradient([loss[key] for key in loss], model.trainable_variables)\n",
    "    # print(type(gradients), len(gradients))\n",
    "    optimizer.apply_gradients(zip(gradients, model.trainable_variables))\n",
    "    return loss, logits, f1s\n",
    "    \n",
    "\n",
    "@tf.function(experimental_relax_shapes=True)\n",
    "def predict_one_step(model, val_input_ids, val_attention_mask, val_y, dont_train=None, experimental_relax_shapes=True):\n",
    "    logits, loss, f1s = model(val_input_ids, val_attention_mask, val_y, training=False, dont_train=dont_train)\n",
    "    # tf.print(f1s)\n",
    "    return loss, logits, f1s\n"
   ]
  },
  {
   "cell_type": "markdown",
   "metadata": {},
   "source": [
    "# Model Unit Test"
   ]
  },
  {
   "cell_type": "code",
   "execution_count": 49,
   "metadata": {
    "colab": {
     "base_uri": "https://localhost:8080/"
    },
    "executionInfo": {
     "elapsed": 94737,
     "status": "ok",
     "timestamp": 1623443124408,
     "user": {
      "displayName": "Fadi Hassan",
      "photoUrl": "",
      "userId": "05221363930635868795"
     },
     "user_tz": -120
    },
    "id": "huY3a6y9F_21",
    "outputId": "f24dc942-efb6-448a-cf6c-6ce397421f40"
   },
   "outputs": [
    {
     "name": "stdout",
     "output_type": "stream",
     "text": [
      "================================================== Start testing the model ==================================================\n",
      "================================================== Train 1 ==================================================\n",
      "WARNING:tensorflow:The parameters `output_attentions`, `output_hidden_states` and `use_cache` cannot be updated when calling a model.They have to be set to True/False in the config object (i.e.: `config=XConfig.from_pretrained('name', output_attentions=True)`).\n",
      "WARNING:tensorflow:AutoGraph could not transform <bound method Socket.send of <zmq.sugar.socket.Socket object at 0x7f5e32a98fa0>> and will run it as-is.\n",
      "Please report this to the TensorFlow team. When filing the bug, set the verbosity to 10 (on Linux, `export AUTOGRAPH_VERBOSITY=10`) and attach the full output.\n",
      "Cause: module, class, method, function, traceback, frame, or code object was expected, got cython_function_or_method\n",
      "To silence this warning, decorate the function with @tf.autograph.experimental.do_not_convert\n",
      "WARNING: AutoGraph could not transform <bound method Socket.send of <zmq.sugar.socket.Socket object at 0x7f5e32a98fa0>> and will run it as-is.\n",
      "Please report this to the TensorFlow team. When filing the bug, set the verbosity to 10 (on Linux, `export AUTOGRAPH_VERBOSITY=10`) and attach the full output.\n",
      "Cause: module, class, method, function, traceback, frame, or code object was expected, got cython_function_or_method\n",
      "To silence this warning, decorate the function with @tf.autograph.experimental.do_not_convert\n",
      "WARNING:tensorflow:AutoGraph could not transform <function wrap at 0x7f5e4e344dd0> and will run it as-is.\n",
      "Cause: while/else statement not yet supported\n",
      "To silence this warning, decorate the function with @tf.autograph.experimental.do_not_convert\n",
      "WARNING: AutoGraph could not transform <function wrap at 0x7f5e4e344dd0> and will run it as-is.\n",
      "Cause: while/else statement not yet supported\n",
      "To silence this warning, decorate the function with @tf.autograph.experimental.do_not_convert\n",
      "WARNING:tensorflow:The parameter `return_dict` cannot be set in graph mode and will always be set to `True`.\n",
      "WARNING:tensorflow:From /usr/local/lib/python3.7/dist-packages/tensorflow/python/ops/array_ops.py:5049: calling gather (from tensorflow.python.ops.array_ops) with validate_indices is deprecated and will be removed in a future version.\n",
      "Instructions for updating:\n",
      "The `validate_indices` argument has no effect. Indices are always validated on CPU and never validated on GPU.\n"
     ]
    },
    {
     "name": "stderr",
     "output_type": "stream",
     "text": [
      "/usr/local/lib/python3.7/dist-packages/tensorflow/python/autograph/impl/api.py:376: UserWarning: CRF decoding models have serialization issues in TF >=2.5 . Please see isse #2476\n"
     ]
    },
    {
     "name": "stdout",
     "output_type": "stream",
     "text": [
      "WARNING:tensorflow:Gradients do not exist for variables ['tf_bert_for_token_classification/classifier/kernel:0', 'tf_bert_for_token_classification/classifier/bias:0'] when minimizing the loss.\n",
      "WARNING:tensorflow:The parameters `output_attentions`, `output_hidden_states` and `use_cache` cannot be updated when calling a model.They have to be set to True/False in the config object (i.e.: `config=XConfig.from_pretrained('name', output_attentions=True)`).\n",
      "WARNING:tensorflow:The parameter `return_dict` cannot be set in graph mode and will always be set to `True`.\n",
      "WARNING:tensorflow:Gradients do not exist for variables ['tf_bert_for_token_classification/classifier/kernel:0', 'tf_bert_for_token_classification/classifier/bias:0'] when minimizing the loss.\n",
      "WARNING:tensorflow:The parameters `output_attentions`, `output_hidden_states` and `use_cache` cannot be updated when calling a model.They have to be set to True/False in the config object (i.e.: `config=XConfig.from_pretrained('name', output_attentions=True)`).\n",
      "WARNING:tensorflow:The parameter `return_dict` cannot be set in graph mode and will always be set to `True`.\n",
      "WARNING:tensorflow:Gradients do not exist for variables ['tf_bert_for_token_classification/classifier/kernel:0', 'tf_bert_for_token_classification/classifier/bias:0'] when minimizing the loss.\n",
      "WARNING:tensorflow:The parameters `output_attentions`, `output_hidden_states` and `use_cache` cannot be updated when calling a model.They have to be set to True/False in the config object (i.e.: `config=XConfig.from_pretrained('name', output_attentions=True)`).\n",
      "WARNING:tensorflow:The parameter `return_dict` cannot be set in graph mode and will always be set to `True`.\n",
      "WARNING:tensorflow:Gradients do not exist for variables ['tf_bert_for_token_classification/classifier/kernel:0', 'tf_bert_for_token_classification/classifier/bias:0'] when minimizing the loss.\n",
      "================================================== Inference ==================================================\n",
      "WARNING:tensorflow:The parameters `output_attentions`, `output_hidden_states` and `use_cache` cannot be updated when calling a model.They have to be set to True/False in the config object (i.e.: `config=XConfig.from_pretrained('name', output_attentions=True)`).\n",
      "WARNING:tensorflow:The parameter `return_dict` cannot be set in graph mode and will always be set to `True`.\n",
      "WARNING:tensorflow:The parameters `output_attentions`, `output_hidden_states` and `use_cache` cannot be updated when calling a model.They have to be set to True/False in the config object (i.e.: `config=XConfig.from_pretrained('name', output_attentions=True)`).\n",
      "WARNING:tensorflow:The parameter `return_dict` cannot be set in graph mode and will always be set to `True`.\n",
      "WARNING:tensorflow:The parameters `output_attentions`, `output_hidden_states` and `use_cache` cannot be updated when calling a model.They have to be set to True/False in the config object (i.e.: `config=XConfig.from_pretrained('name', output_attentions=True)`).\n",
      "WARNING:tensorflow:The parameter `return_dict` cannot be set in graph mode and will always be set to `True`.\n",
      "WARNING:tensorflow:The parameters `output_attentions`, `output_hidden_states` and `use_cache` cannot be updated when calling a model.They have to be set to True/False in the config object (i.e.: `config=XConfig.from_pretrained('name', output_attentions=True)`).\n",
      "WARNING:tensorflow:The parameter `return_dict` cannot be set in graph mode and will always be set to `True`.\n",
      "WARNING:tensorflow:The parameters `output_attentions`, `output_hidden_states` and `use_cache` cannot be updated when calling a model.They have to be set to True/False in the config object (i.e.: `config=XConfig.from_pretrained('name', output_attentions=True)`).\n",
      "WARNING:tensorflow:The parameter `return_dict` cannot be set in graph mode and will always be set to `True`.\n",
      "WARNING:tensorflow:5 out of the last 5 calls to <function predict_one_step at 0x7f5c8fcd7e60> triggered tf.function retracing. Tracing is expensive and the excessive number of tracings could be due to (1) creating @tf.function repeatedly in a loop, (2) passing tensors with different shapes, (3) passing Python objects instead of tensors. For (1), please define your @tf.function outside of the loop. For (2), @tf.function has experimental_relax_shapes=True option that relaxes argument shapes that can avoid unnecessary retracing. For (3), please refer to https://www.tensorflow.org/guide/function#controlling_retracing and https://www.tensorflow.org/api_docs/python/tf/function for  more details.\n",
      "================================================== Test finished ==================================================\n"
     ]
    }
   ],
   "source": [
    "# Test the model\n",
    "best_f1 = 0\n",
    "best_loss = float(\"inf\")\n",
    "step = 0\n",
    "epochs = 30\n",
    "patience = 0\n",
    "reduce_lr = 2\n",
    "early_stop = 6\n",
    "dont_train = None\n",
    "# dont_train = [x for x in tasks if x.startswith('norm')]\n",
    "\n",
    "warmup_learning_rate = learning_rate * 2\n",
    "warmup_steps = 500\n",
    "\n",
    "print((\"=\" * 50) + \" Start testing the model \" + (\"=\" * 50))\n",
    "print((\"=\" * 50) + \" Train 1 \" + (\"=\" * 50))\n",
    "for i, (input_ids, attention_mask, y) in enumerate(train_ds):\n",
    "    loss, logits, f1s = train_one_step(model, optimizer, input_ids, attention_mask, y, dont_train=dont_train)\n",
    "    if i > 5:\n",
    "        break\n",
    "        \n",
    "# print((\"=\" * 50) + \" Train 2 \" + (\"=\" * 50))\n",
    "# for i, (input_ids, attention_mask, y) in enumerate(train_ds):\n",
    "#     loss, logits, f1s = train_one_step(model, optimizer, input_ids, attention_mask, y, dont_train=tasks[1:])\n",
    "#     if i > 5:\n",
    "#         break\n",
    "        \n",
    "print((\"=\" * 50) + \" Inference \" + (\"=\" * 50))\n",
    "for i, (input_ids, attention_mask, y) in enumerate(dev_ds):\n",
    "    loss, logits, f1s = predict_one_step(model, input_ids, attention_mask, y, dont_train=dont_train)\n",
    "    loss, logits, f1s = predict_one_step(model, input_ids, attention_mask, val_y=None, dont_train=dont_train)\n",
    "    if i > 10:\n",
    "        break\n",
    "print((\"=\" * 50) + \" Test finished \" + (\"=\" * 50))"
   ]
  },
  {
   "cell_type": "markdown",
   "metadata": {},
   "source": [
    "# Start training"
   ]
  },
  {
   "cell_type": "code",
   "execution_count": 50,
   "metadata": {
    "colab": {
     "base_uri": "https://localhost:8080/"
    },
    "executionInfo": {
     "elapsed": 32,
     "status": "ok",
     "timestamp": 1623443124411,
     "user": {
      "displayName": "Fadi Hassan",
      "photoUrl": "",
      "userId": "05221363930635868795"
     },
     "user_tz": -120
    },
    "id": "PHQ5-0J-F_22",
    "outputId": "aa18b871-10be-4c85-dfea-433d9f74e8b6"
   },
   "outputs": [
    {
     "name": "stdout",
     "output_type": "stream",
     "text": [
      "CPU times: user 8 µs, sys: 0 ns, total: 8 µs\n",
      "Wall time: 11.7 µs\n"
     ]
    }
   ],
   "source": [
    "%%time\n",
    "# tf.config.run_functions_eagerly(False)\n",
    "for epoch in range(0, epochs):\n",
    "    # Test\n",
    "    if not TEST_DIR is None:\n",
    "        continue\n",
    "    print(\"Training, Epoch: %s\" % (epoch + 1))\n",
    "    acc_loss = defaultdict(list)\n",
    "    acc_f1 = defaultdict(list)\n",
    "    tqdm_bar = tqdm(enumerate(train_ds), total=train_ds_size)\n",
    "    for i, (input_ids, attention_mask, y) in tqdm_bar:\n",
    "        step = step + 1\n",
    "        loss, logits, f1s = train_one_step(model, optimizer, input_ids, attention_mask, y, dont_train=dont_train)\n",
    "        for j, key in enumerate(loss):\n",
    "            acc_loss[key].append(loss[key].numpy())\n",
    "            acc_f1[key].append(f1s[key].numpy())\n",
    "            \n",
    "        # print(loss)\n",
    "        if step % 10 == 0:\n",
    "            all_loss = {key: round(np.average(acc_loss[key]), 5) for key in acc_loss}\n",
    "            all_f1 = {key: round(np.average(acc_f1[key]), 5) for key in acc_f1}\n",
    "            tqdm_bar.set_postfix({'loss': all_loss, 'f1': all_f1})\n",
    "            # tqdm_bar.refresh() # to show immediately the update\n",
    "        if step < warmup_steps:\n",
    "            optimizer.learning_rate.assign(warmup_learning_rate * (step / warmup_steps))\n",
    "        if step == warmup_steps:\n",
    "            optimizer.learning_rate.assign(learning_rate)\n",
    "            print(\"Warmup finished\")\n",
    "            \n",
    "    eval_loss = defaultdict(list)\n",
    "    eval_f1s = defaultdict(list)\n",
    "    # Validation\n",
    "    y_true = defaultdict(list)\n",
    "    y_pred = defaultdict(list)\n",
    "    gs_df = defaultdict(lambda: pd.DataFrame())\n",
    "    pred_df = defaultdict(lambda: pd.DataFrame())\n",
    "    print(\"Validating, Epoch: %s\" % (epoch + 1))\n",
    "    for i, (val_input_ids, val_attention_mask, val_y) in tqdm(enumerate(dev_ds), total=dev_ds_size):\n",
    "        if BATCH_PADDING:\n",
    "            start = i * batch_size\n",
    "            dev_keys = dev_batch_keys[start:start + batch_size]\n",
    "        else:\n",
    "            dev_keys = dev_batch_keys[i]\n",
    "        loss, logits, f1s = predict_one_step(model, val_input_ids, val_attention_mask, val_y, dont_train=dont_train)\n",
    "        \n",
    "        for k, key in enumerate(le):\n",
    "            res = get_batch_entities(dev_keys, val_y[:,:,k].numpy(), key, use_cls, max_length, le, dev_meta_data, return_df=True)\n",
    "            gs_df[key] = pd.concat([gs_df[key], res], ignore_index=False)\n",
    "            # y_true[key].extend(res)\n",
    "            res = get_batch_entities(dev_keys, logits[key].numpy().argmax(-1), key, use_cls, max_length, le, dev_meta_data, return_df=True)\n",
    "            pred_df[key] = pd.concat([pred_df[key], res], ignore_index=False)\n",
    "            # y_pred[key].extend(res)\n",
    "        for key in f1s:\n",
    "            eval_loss[key].append(loss[key].numpy())\n",
    "            eval_f1s[key].append(f1s[key].numpy())\n",
    "\n",
    "    # y_true_sets = {key: set(y_true[key]) for key in y_true}\n",
    "    # y_pred_sets = {key: set(y_pred[key]) for key in y_pred}\n",
    "    # tps = {key: len(y_true_sets[key].intersection(y_pred_sets[key])) for key in y_true_sets}\n",
    "    # tp_fps = {key: len(y_pred_sets[key]) for key in y_pred_sets}\n",
    "    # tp_fns = {key: len(y_true_sets[key]) for key in y_true_sets}\n",
    "    # ps = {key: tps[key] / tp_fps[key] if tp_fps[key] > 0 else 0.0 for key in tps}\n",
    "    # rs = {key: tps[key] / tp_fns[key] if tp_fns[key] > 0 else 0.0 for key in tps}\n",
    "    # eval_f1 = {key:  (2.0 * ps[key] * rs[key]) / (ps[key] + rs[key]) if (ps[key] + rs[key]) > 0 else 0.0 for key in ps}\n",
    "    \n",
    "    eval_f1 = {key: my_eval(key if key in ['class', 'ner'] else 'ner' if key == 'SPAN' or 'ner' in key or 'class' in key else 'norm', \n",
    "                            gs_df[key].reset_index(drop=True), pred_df[key].reset_index(drop=True), \n",
    "                            list(dict(gs_df[key]['clinical_case'].value_counts()))) for key in le}\n",
    "\n",
    "\n",
    "    all_eval_loss = {key: round(np.average(eval_loss[key]), 5) for key in eval_loss}\n",
    "    all_eval_f1 = {key: round(eval_f1[key], 5) for key in eval_f1}\n",
    "    print('loss: %s, f1: %s' % (all_eval_loss, all_eval_f1))\n",
    "    f1 = np.average([eval_f1[key] for key in eval_f1])\n",
    "    # lss = np.average([np.average(eval_loss[key]) for key in eval_loss])\n",
    "    # f1 = eval_f1[tasks[0]]\n",
    "    lss = np.average([eval_loss[tasks[0]] for key in eval_loss])\n",
    "    if f1 > best_f1:\n",
    "        best_f1 = f1\n",
    "        best_loss = lss\n",
    "        ckpt_manager.save()\n",
    "        print(\"Model have been saved!, loss: %s, f1: %s.\" % (lss, f1))\n",
    "        # print(eval_f1)\n",
    "        # print(best_f1)\n",
    "        patience = 0\n",
    "    else:\n",
    "        patience += 1\n",
    "    if (patience != 0 and patience % reduce_lr == 0):\n",
    "        last_learning_rate = float(optimizer.learning_rate)\n",
    "        optimizer.learning_rate.assign(last_learning_rate * 0.5)\n",
    "        print(\"Reduce learning rate from %0.6f to %0.6f\" % (last_learning_rate, optimizer.learning_rate))\n",
    "        print(patience)\n",
    "    if patience >= early_stop:\n",
    "        break\n",
    "    print(\"=\" * 120)\n",
    "    "
   ]
  },
  {
   "cell_type": "code",
   "execution_count": 51,
   "metadata": {
    "colab": {
     "base_uri": "https://localhost:8080/"
    },
    "executionInfo": {
     "elapsed": 25,
     "status": "ok",
     "timestamp": 1623443124413,
     "user": {
      "displayName": "Fadi Hassan",
      "photoUrl": "",
      "userId": "05221363930635868795"
     },
     "user_tz": -120
    },
    "id": "ffCqENGeF_23",
    "outputId": "b2c3b209-434d-4bd8-dad5-87ceed2e89ed"
   },
   "outputs": [
    {
     "data": {
      "text/plain": [
       "(0, inf)"
      ]
     },
     "execution_count": 51,
     "metadata": {
      "tags": []
     },
     "output_type": "execute_result"
    }
   ],
   "source": [
    "best_f1, best_loss"
   ]
  },
  {
   "cell_type": "code",
   "execution_count": 52,
   "metadata": {
    "executionInfo": {
     "elapsed": 21,
     "status": "ok",
     "timestamp": 1623443124416,
     "user": {
      "displayName": "Fadi Hassan",
      "photoUrl": "",
      "userId": "05221363930635868795"
     },
     "user_tz": -120
    },
    "id": "7iC9YuNwfzUv"
   },
   "outputs": [],
   "source": [
    "if best_f1 > 0:\n",
    "    output_dir = PATH + 'models/tf_overfitted'\n",
    "    ckpt = tf.train.Checkpoint(optimizer=optimizer, model=model)\n",
    "    ckpt_manager = tf.train.CheckpointManager(ckpt,\n",
    "                                            output_dir,\n",
    "                                            checkpoint_name='model.ckpt',\n",
    "                                            max_to_keep=1)\n",
    "    ckpt_manager.save()"
   ]
  },
  {
   "cell_type": "code",
   "execution_count": 53,
   "metadata": {
    "colab": {
     "base_uri": "https://localhost:8080/"
    },
    "executionInfo": {
     "elapsed": 3989,
     "status": "ok",
     "timestamp": 1623443128387,
     "user": {
      "displayName": "Fadi Hassan",
      "photoUrl": "",
      "userId": "05221363930635868795"
     },
     "user_tz": -120
    },
    "id": "ZufHbdNbF_23",
    "outputId": "91432127-7473-4a63-dc4e-aa4bbf3b2516"
   },
   "outputs": [
    {
     "data": {
      "text/plain": [
       "<tensorflow.python.training.tracking.util.CheckpointLoadStatus at 0x7f5b8a72e750>"
      ]
     },
     "execution_count": 53,
     "metadata": {
      "tags": []
     },
     "output_type": "execute_result"
    }
   ],
   "source": [
    "# restore model\n",
    "output_dir = PATH + 'models/tf'\n",
    "ckpt = tf.train.Checkpoint(optimizer=optimizer, model=model)\n",
    "ckpt.restore(tf.train.latest_checkpoint(output_dir))"
   ]
  },
  {
   "cell_type": "markdown",
   "metadata": {},
   "source": [
    "# Predict"
   ]
  },
  {
   "cell_type": "code",
   "execution_count": 54,
   "metadata": {
    "colab": {
     "base_uri": "https://localhost:8080/",
     "height": 142,
     "referenced_widgets": [
      "3aa6b908345b424ba9636c5b32dba965",
      "8203a7fd7e3a422484dee252f7578839",
      "b5d8a4136caf4f24864ec9a30986844d",
      "f9d1df3eff664848bf072a3fda061d0b",
      "6075e525ef674b3db0adcd328d36095a",
      "2cbe4de78ec14e03a02e2c3179031f7c",
      "3cc05ac84fa24de59c21dd429452dbba",
      "d912a8b75df542ae93c320a2e4a7521e"
     ]
    },
    "executionInfo": {
     "elapsed": 49292,
     "status": "ok",
     "timestamp": 1623443177663,
     "user": {
      "displayName": "Fadi Hassan",
      "photoUrl": "",
      "userId": "05221363930635868795"
     },
     "user_tz": -120
    },
    "id": "-zhhv5D0F_24",
    "outputId": "7e6d0fd3-9c02-4e61-9a8f-dbdc3f755a0d"
   },
   "outputs": [
    {
     "data": {
      "application/vnd.jupyter.widget-view+json": {
       "model_id": "3aa6b908345b424ba9636c5b32dba965",
       "version_major": 2,
       "version_minor": 0
      },
      "text/plain": [
       "HBox(children=(FloatProgress(value=0.0, max=449.0), HTML(value='')))"
      ]
     },
     "metadata": {
      "tags": []
     },
     "output_type": "display_data"
    },
    {
     "name": "stdout",
     "output_type": "stream",
     "text": [
      "WARNING:tensorflow:The parameters `output_attentions`, `output_hidden_states` and `use_cache` cannot be updated when calling a model.They have to be set to True/False in the config object (i.e.: `config=XConfig.from_pretrained('name', output_attentions=True)`).\n",
      "WARNING:tensorflow:The parameter `return_dict` cannot be set in graph mode and will always be set to `True`.\n"
     ]
    },
    {
     "name": "stderr",
     "output_type": "stream",
     "text": [
      "/usr/local/lib/python3.7/dist-packages/tensorflow/python/autograph/impl/api.py:376: UserWarning: CRF decoding models have serialization issues in TF >=2.5 . Please see isse #2476\n"
     ]
    },
    {
     "name": "stdout",
     "output_type": "stream",
     "text": [
      "\n"
     ]
    }
   ],
   "source": [
    "to_be_saved = defaultdict(lambda : defaultdict(list))\n",
    "from tqdm.auto import tqdm, trange\n",
    "for i, (input_ids, attention_mask, y) in tqdm(enumerate(dev_ds), total=dev_ds_size):\n",
    "    if BATCH_PADDING:\n",
    "        start = i * batch_size\n",
    "        keys = dev_batch_keys[start:start + batch_size]\n",
    "    else:\n",
    "        keys = dev_batch_keys[i]\n",
    "    loss, res, f1s = predict_one_step(model, input_ids, attention_mask, val_y=None)\n",
    "    for label in list(le):\n",
    "        to_be_saved = get_batch_entities(keys, res[label].numpy().argmax(-1), label, use_cls, max_length, le, dev_meta_data, to_be_saved=to_be_saved)"
   ]
  },
  {
   "cell_type": "markdown",
   "metadata": {},
   "source": [
    "# Export the results"
   ]
  },
  {
   "cell_type": "code",
   "execution_count": 65,
   "metadata": {
    "colab": {
     "base_uri": "https://localhost:8080/",
     "height": 218,
     "referenced_widgets": [
      "a7ed9bc9c282454f937b19635ba3b91b",
      "eb6236fd74394fb4a96de711a0125793",
      "39314e19bd9c4af09dd62eae7839a0e8",
      "6e6ebc73d934406ab0e354be002c35b1",
      "e53b6a4cb82f4acdba527e5fc8cc036f",
      "69c4b9b12aac4c42bf54081438e9c4d8",
      "09abde83b1214917bf5f4b06f6b0b9d7",
      "77afba1724314be1a921da3dc471d40c",
      "a5e26aea5beb415693101f431517b0a5",
      "c2942145c4294398bab7e03b4f039a5b",
      "21d11be0d8a84e57acb0381c9bd8b362",
      "15705376f0494c67b6276e42ef6cea22",
      "ec09aa00f0f44efbbab152cff085ee74",
      "716619200f7d474788e92f6f9664aa16",
      "40f5c1519a2848c6a154bbf9e448c9e6",
      "bd5b08839e704429bd4420156c31f6cd",
      "708bea2276cf496288e24cef985ab204",
      "7002834512934d04acae6e0f857e6d48",
      "3e563cb2a12a45ed9156cac942ab6859",
      "a4e40c06356a4bc4b6818220565ec4e5",
      "a3f35ff132684f31a22ac7dc2128da04",
      "ccb0a19b147843bf9f62dbde00973b01",
      "96ca4c8069504b099498c2d74005b405",
      "9a9d8ef6aa0143a28852b5786291b13e",
      "73f8a1e0718d412a929e7be362a22614",
      "73b6cf3da8614bfdadbefe668daeb3c7",
      "d65d8be2d5ba4eea846e30fd6a1c773d",
      "e9e39a00203440d19ef9d1c5d0335a31",
      "1c377c18334f4e28a40b2f8a16b66dcd",
      "d41227f67d4c4bd38b61acb54feaffcb",
      "2b613b8633894f3c87119afc42180cc9",
      "bb89ea8664b341d3911f152f89f8fd2a"
     ]
    },
    "executionInfo": {
     "elapsed": 4198,
     "status": "ok",
     "timestamp": 1623444520552,
     "user": {
      "displayName": "Fadi Hassan",
      "photoUrl": "",
      "userId": "05221363930635868795"
     },
     "user_tz": -120
    },
    "id": "qgYAv0DpF_24",
    "outputId": "c68ccfc5-ce11-4ef2-d0c7-f7894cf4791f"
   },
   "outputs": [
    {
     "data": {
      "application/vnd.jupyter.widget-view+json": {
       "model_id": "a7ed9bc9c282454f937b19635ba3b91b",
       "version_major": 2,
       "version_minor": 0
      },
      "text/plain": [
       "HBox(children=(FloatProgress(value=0.0, max=290.0), HTML(value='')))"
      ]
     },
     "metadata": {
      "tags": []
     },
     "output_type": "display_data"
    },
    {
     "name": "stdout",
     "output_type": "stream",
     "text": [
      "\n"
     ]
    },
    {
     "data": {
      "application/vnd.jupyter.widget-view+json": {
       "model_id": "a5e26aea5beb415693101f431517b0a5",
       "version_major": 2,
       "version_minor": 0
      },
      "text/plain": [
       "HBox(children=(FloatProgress(value=0.0, max=288.0), HTML(value='')))"
      ]
     },
     "metadata": {
      "tags": []
     },
     "output_type": "display_data"
    },
    {
     "name": "stdout",
     "output_type": "stream",
     "text": [
      "\n"
     ]
    },
    {
     "data": {
      "application/vnd.jupyter.widget-view+json": {
       "model_id": "708bea2276cf496288e24cef985ab204",
       "version_major": 2,
       "version_minor": 0
      },
      "text/plain": [
       "HBox(children=(FloatProgress(value=0.0, max=290.0), HTML(value='')))"
      ]
     },
     "metadata": {
      "tags": []
     },
     "output_type": "display_data"
    },
    {
     "name": "stdout",
     "output_type": "stream",
     "text": [
      "\n"
     ]
    },
    {
     "data": {
      "application/vnd.jupyter.widget-view+json": {
       "model_id": "73f8a1e0718d412a929e7be362a22614",
       "version_major": 2,
       "version_minor": 0
      },
      "text/plain": [
       "HBox(children=(FloatProgress(value=0.0, max=288.0), HTML(value='')))"
      ]
     },
     "metadata": {
      "tags": []
     },
     "output_type": "display_data"
    },
    {
     "name": "stdout",
     "output_type": "stream",
     "text": [
      "\n"
     ]
    }
   ],
   "source": [
    "import shutil\n",
    "# TEST\n",
    "local_path = '/' if TEST_DIR is None else PATH + 'output_stratify_2022_bs_158_classner_norm_dccuchile/'\n",
    "columns = ['filename', 'text', 'span', 'code']\n",
    "def save_output(to_be_saved, columns, local_path, part=0):\n",
    "    out_df = None\n",
    "    dfs = {}\n",
    "    for label in list(le):\n",
    "        data = []\n",
    "        if label in ['ner', 'class', 'class_ner', 'class_ner_norm'] and part != 2:\n",
    "\n",
    "            file_path1 = local_path + 'output/bert/%s/predict/' % label.split('_')[part]\n",
    "            file_path2 = local_path + 'output/bert/%s/original/' % label.split('_')[part]\n",
    "            try: shutil.rmtree(file_path1) \n",
    "            except: pass\n",
    "            try: shutil.rmtree(file_path2) \n",
    "            except: pass\n",
    "            try: \n",
    "            os.makedirs(file_path1)\n",
    "            except: \n",
    "            pass\n",
    "            try: \n",
    "            os.makedirs(file_path2)\n",
    "            except: \n",
    "            pass\n",
    "            output = to_be_saved[label]\n",
    "            for file in tqdm(output):\n",
    "                with open(file_path1 + (str(file) + '.ann'), 'wb') as f:\n",
    "                    output[file] = sorted(output[file], key=lambda line: line[2])\n",
    "                    try:\n",
    "                        f.write(('\\n'.join([line[0] % (i + 1) + '\\t' + \n",
    "                                          line[1].split('+')[part] + ' ' + str(line[2]) + ' ' + str(line[3]) + '\\t' + \n",
    "                                          line[4] for i, line in enumerate(output[file])])).encode())\n",
    "                    except Exception as ex:\n",
    "                        print(ex)\n",
    "                    file_name = file + '.ann'\n",
    "                task = 'task1' if label == 'ner' or 'ner' in label and part == 1 else 'task2'\n",
    "                # if not TEST_DIR is None:\n",
    "                #     shutil.copy(path + 'data/%s/%s' % ('meddoprof_test_txt', (str(file) + '.txt')), file_path1 + (str(file) + '.txt'))\n",
    "                # else:\n",
    "                #     shutil.copy(path + 'data/%s/%s' % (task, (str(file) + '.txt')), file_path1 + (str(file) + '.txt'))\n",
    "                # Test\n",
    "                if os.path.isfile(path + 'data/%s/%s' % (task, file_name)):\n",
    "                    shutil.copy(path + 'data/%s/%s' % ('meddoprof_test_txt', file_name), file_path2 + file_name)\n",
    "                    # if TEST_DIR is None:\n",
    "                    #     shutil.copy(path + 'data/%s/%s' % (task, file_name.replace('.ann', '.txt')), file_path2 + file_name.replace('.ann', '.txt'))\n",
    "        else:\n",
    "            output = to_be_saved[label]\n",
    "            for file in tqdm(output):\n",
    "                if len(output[file]) > 0:\n",
    "                    for line in output[file]:\n",
    "                        code, start, end, text = line[1:]\n",
    "                        data.append([file, text, '%s %s' % (start, end), code.split('+')[-1]])\n",
    "            dfs[label] = pd.DataFrame(data, columns=columns)\n",
    "    return dfs\n",
    "\n",
    "dfs = save_output(to_be_saved, columns, local_path)\n",
    "if any(['class_ner' in t for t in tasks]):\n",
    "    dfs = save_output(to_be_saved, columns, local_path, part=1)\n",
    "if any(['class_ner_norm' in t for t in tasks]):\n",
    "    dfs = save_output(to_be_saved, columns, local_path, part=2)"
   ]
  },
  {
   "cell_type": "code",
   "execution_count": 66,
   "metadata": {
    "executionInfo": {
     "elapsed": 222,
     "status": "ok",
     "timestamp": 1623444533783,
     "user": {
      "displayName": "Fadi Hassan",
      "photoUrl": "",
      "userId": "05221363930635868795"
     },
     "user_tz": -120
    },
    "id": "qT2S92S3F_25"
   },
   "outputs": [],
   "source": [
    "df = None\n",
    "file_path = local_path + 'output/bert/%s'\n",
    "if 'norm' in dfs:\n",
    "    df = dfs['norm']\n",
    "elif 'norm_1' in dfs:\n",
    "    df = dfs['norm_1']\n",
    "    df.rename(columns={'code': 'norm_1'}, inplace=True)\n",
    "elif 'norm_11' in dfs:\n",
    "    df = dfs['norm_11']\n",
    "    df.rename(columns={'code': 'norm_11'}, inplace=True)\n",
    "elif len(dfs) == 1:\n",
    "    df = dfs[list(dfs)[0]]\n",
    "\n",
    "if len(dfs) > 1:\n",
    "    for key in dfs:\n",
    "        if not key in ['norm', 'norm_1', 'norm_11']:\n",
    "            df[key] = dfs[key]['code']\n",
    "\n",
    "if not df is None and 'code' in df.columns:\n",
    "    norm[norm['filename'].isin(list(dict(df['filename'].value_counts())))].to_csv(file_path % 'orig_codes.tsv', sep='\\t', index=False)\n",
    "    df[columns].to_csv(file_path % 'pred_codes.tsv', sep='\\t', index=False)"
   ]
  },
  {
   "cell_type": "code",
   "execution_count": 2,
   "metadata": {
    "colab": {
     "base_uri": "https://localhost:8080/",
     "height": 424
    },
    "executionInfo": {
     "elapsed": 230,
     "status": "ok",
     "timestamp": 1623444535846,
     "user": {
      "displayName": "Fadi Hassan",
      "photoUrl": "",
      "userId": "05221363930635868795"
     },
     "user_tz": -120
    },
    "id": "uoQduaSJEfRx",
    "outputId": "f7ac8de7-4eb1-4eef-c6d3-aaca20ae44be"
   },
   "outputs": [],
   "source": [
    "# df"
   ]
  },
  {
   "cell_type": "code",
   "execution_count": 68,
   "metadata": {
    "executionInfo": {
     "elapsed": 221,
     "status": "ok",
     "timestamp": 1623444537787,
     "user": {
      "displayName": "Fadi Hassan",
      "photoUrl": "",
      "userId": "05221363930635868795"
     },
     "user_tz": -120
    },
    "id": "-1sb6y1mF_26"
   },
   "outputs": [],
   "source": [
    "\n",
    "def merge_codes(row, cols, default_value):\n",
    "    codes = []\n",
    "    for col in cols:\n",
    "        if row[col] == row[col]:\n",
    "            if row[col] != 'none':\n",
    "                if len(codes) and len(codes[0]) > 4:\n",
    "                    continue\n",
    "                if col.startswith('norm_1') and len(codes) > 0:\n",
    "                    codes[-1] += row[col]\n",
    "                else:\n",
    "                    codes.append(row[col])\n",
    "    code = '.'.join(codes)\n",
    "    row['code'] = code if code else default_value\n",
    "    return row\n",
    "\n",
    "if not df is None and not 'norm' in dfs:\n",
    "    cols = [col for col in df.columns if col.startswith('norm_')]\n",
    "    if len(cols) > 0:\n",
    "        df = df.apply(lambda row: merge_codes(row, cols, 'SCTID: 106541005'), axis=1)\n",
    "        file_path = local_path + 'output/bert/%s'\n",
    "        norm[norm['filename'].isin(list(dict(df['filename'].value_counts())))].to_csv(file_path % 'orig_codes.tsv', sep='\\t', index=False)\n",
    "        df[columns].to_csv(file_path % 'pred_codes.tsv', sep='\\t', index=False)"
   ]
  },
  {
   "cell_type": "markdown",
   "metadata": {},
   "source": [
    "# Evaluate the exported results"
   ]
  },
  {
   "cell_type": "code",
   "execution_count": 69,
   "metadata": {
    "colab": {
     "base_uri": "https://localhost:8080/"
    },
    "executionInfo": {
     "elapsed": 1092,
     "status": "ok",
     "timestamp": 1623444541355,
     "user": {
      "displayName": "Fadi Hassan",
      "photoUrl": "",
      "userId": "05221363930635868795"
     },
     "user_tz": -120
    },
    "id": "wQ8NP9PLF_26",
    "outputId": "824d1369-a15a-4e6b-8427-30e9b8749fcd"
   },
   "outputs": [
    {
     "name": "stdout",
     "output_type": "stream",
     "text": [
      "/gdrive/MyDrive/MEDDOPROF_V3/eval/meddoprof-evaluation-library-main/src/ann_parsing.py:164: UserWarning: There are not parsed annotations\n",
      "Traceback (most recent call last):\n",
      "  File \"main.py\", line 180, in <module>\n",
      "    main(gs_path, pred_path, subtask=subtask, codes_path=codes_path)\n",
      "  File \"main.py\", line 104, in main\n",
      "    raise Exception('There are not parsed Gold Standard annotations')\n",
      "Exception: There are not parsed Gold Standard annotations\n"
     ]
    }
   ],
   "source": [
    "task = 'ner'\n",
    "src_path = path + 'eval/meddoprof-evaluation-library-main/src/'\n",
    "gold_path = local_path + 'output/{0}/{1}/original/' \n",
    "system_path  = local_path + 'output/{0}/{1}/predict/'\n",
    "command = 'cd ' + src_path + ' && python main.py -g ' + gold_path + ' -p ' + system_path + ' -s {1}'\n",
    "command = command.format(system_name.lower(), task)\n",
    "!{command}"
   ]
  },
  {
   "cell_type": "code",
   "execution_count": null,
   "metadata": {
    "executionInfo": {
     "elapsed": 325,
     "status": "aborted",
     "timestamp": 1623443179580,
     "user": {
      "displayName": "Fadi Hassan",
      "photoUrl": "",
      "userId": "05221363930635868795"
     },
     "user_tz": -120
    },
    "id": "mXA4QCoNF_26"
   },
   "outputs": [],
   "source": [
    "task = 'class'\n",
    "src_path = path + 'eval/meddoprof-evaluation-library-main/src/'\n",
    "gold_path = local_path + 'output/{0}/{1}/original/' \n",
    "system_path  = local_path + 'output/{0}/{1}/predict/'\n",
    "command = 'cd ' + src_path + ' && python main.py -g ' + gold_path + ' -p ' + system_path + ' -s {1}'\n",
    "command = command.format(system_name.lower(), task)\n",
    "!{command}"
   ]
  },
  {
   "cell_type": "code",
   "execution_count": null,
   "metadata": {
    "executionInfo": {
     "elapsed": 325,
     "status": "aborted",
     "timestamp": 1623443179581,
     "user": {
      "displayName": "Fadi Hassan",
      "photoUrl": "",
      "userId": "05221363930635868795"
     },
     "user_tz": -120
    },
    "id": "GzvZ8MRvF_27"
   },
   "outputs": [],
   "source": [
    "task = 'norm'\n",
    "src_path = path + 'eval/meddoprof-evaluation-library-main/src/'\n",
    "gold_path = local_path + 'output/{0}/orig_codes.tsv' \n",
    "system_path  = local_path + 'output/{0}/pred_codes.tsv'\n",
    "command = 'cd ' + src_path + ' && python main.py -g ' + gold_path + ' -p ' + system_path + ' -s {1}'\n",
    "command = command.format(system_name.lower(), task)\n",
    "!{command}"
   ]
  },
  {
   "cell_type": "code",
   "execution_count": null,
   "metadata": {
    "executionInfo": {
     "elapsed": 325,
     "status": "aborted",
     "timestamp": 1623443179582,
     "user": {
      "displayName": "Fadi Hassan",
      "photoUrl": "",
      "userId": "05221363930635868795"
     },
     "user_tz": -120
    },
    "id": "YMFoXtbYF_27"
   },
   "outputs": [],
   "source": []
  }
 ],
 "metadata": {
  "accelerator": "GPU",
  "colab": {
   "collapsed_sections": [],
   "name": "01_Training.ipynb",
   "provenance": []
  },
  "kernelspec": {
   "display_name": "Python 3",
   "language": "python",
   "name": "python3"
  },
  "language_info": {
   "codemirror_mode": {
    "name": "ipython",
    "version": 3
   },
   "file_extension": ".py",
   "mimetype": "text/x-python",
   "name": "python",
   "nbconvert_exporter": "python",
   "pygments_lexer": "ipython3",
   "version": "3.6.8"
  },
  "widgets": {
   "application/vnd.jupyter.widget-state+json": {
    "0157694e562a4ebe80e50e3a81455d33": {
     "model_module": "@jupyter-widgets/controls",
     "model_name": "HBoxModel",
     "state": {
      "_dom_classes": [],
      "_model_module": "@jupyter-widgets/controls",
      "_model_module_version": "1.5.0",
      "_model_name": "HBoxModel",
      "_view_count": null,
      "_view_module": "@jupyter-widgets/controls",
      "_view_module_version": "1.5.0",
      "_view_name": "HBoxView",
      "box_style": "",
      "children": [
       "IPY_MODEL_21c0f79b855c46088adc900d156f6b0c",
       "IPY_MODEL_763eb483197745f1a6edc0410a960240"
      ],
      "layout": "IPY_MODEL_bce9315d71714f4db7cf1ce9b5dd5531"
     }
    },
    "01864e234eb04b5aaa0b4ee69054103a": {
     "model_module": "@jupyter-widgets/controls",
     "model_name": "DescriptionStyleModel",
     "state": {
      "_model_module": "@jupyter-widgets/controls",
      "_model_module_version": "1.5.0",
      "_model_name": "DescriptionStyleModel",
      "_view_count": null,
      "_view_module": "@jupyter-widgets/base",
      "_view_module_version": "1.2.0",
      "_view_name": "StyleView",
      "description_width": ""
     }
    },
    "02452609a4564abc888108d71ac18128": {
     "model_module": "@jupyter-widgets/controls",
     "model_name": "HBoxModel",
     "state": {
      "_dom_classes": [],
      "_model_module": "@jupyter-widgets/controls",
      "_model_module_version": "1.5.0",
      "_model_name": "HBoxModel",
      "_view_count": null,
      "_view_module": "@jupyter-widgets/controls",
      "_view_module_version": "1.5.0",
      "_view_name": "HBoxView",
      "box_style": "",
      "children": [
       "IPY_MODEL_819c328eb17e44b988ce08bb5f495c55",
       "IPY_MODEL_c2f90e3c4f0b42fa91ccf25ef66ef87a"
      ],
      "layout": "IPY_MODEL_bd88f0eef0bf4dd195962014735519a2"
     }
    },
    "042b83ad32e44d5a8ffae05128b7cab2": {
     "model_module": "@jupyter-widgets/base",
     "model_name": "LayoutModel",
     "state": {
      "_model_module": "@jupyter-widgets/base",
      "_model_module_version": "1.2.0",
      "_model_name": "LayoutModel",
      "_view_count": null,
      "_view_module": "@jupyter-widgets/base",
      "_view_module_version": "1.2.0",
      "_view_name": "LayoutView",
      "align_content": null,
      "align_items": null,
      "align_self": null,
      "border": null,
      "bottom": null,
      "display": null,
      "flex": null,
      "flex_flow": null,
      "grid_area": null,
      "grid_auto_columns": null,
      "grid_auto_flow": null,
      "grid_auto_rows": null,
      "grid_column": null,
      "grid_gap": null,
      "grid_row": null,
      "grid_template_areas": null,
      "grid_template_columns": null,
      "grid_template_rows": null,
      "height": null,
      "justify_content": null,
      "justify_items": null,
      "left": null,
      "margin": null,
      "max_height": null,
      "max_width": null,
      "min_height": null,
      "min_width": null,
      "object_fit": null,
      "object_position": null,
      "order": null,
      "overflow": null,
      "overflow_x": null,
      "overflow_y": null,
      "padding": null,
      "right": null,
      "top": null,
      "visibility": null,
      "width": null
     }
    },
    "08d3ef2b4a1f451d852c1710002cf595": {
     "model_module": "@jupyter-widgets/controls",
     "model_name": "HBoxModel",
     "state": {
      "_dom_classes": [],
      "_model_module": "@jupyter-widgets/controls",
      "_model_module_version": "1.5.0",
      "_model_name": "HBoxModel",
      "_view_count": null,
      "_view_module": "@jupyter-widgets/controls",
      "_view_module_version": "1.5.0",
      "_view_name": "HBoxView",
      "box_style": "",
      "children": [
       "IPY_MODEL_a0e96908450e45caafcbbbba801e32c9",
       "IPY_MODEL_96c501c4aebf40ee9c13501bef13d240"
      ],
      "layout": "IPY_MODEL_dba6f161c6f44361bcc7ffac05e019d5"
     }
    },
    "09abde83b1214917bf5f4b06f6b0b9d7": {
     "model_module": "@jupyter-widgets/controls",
     "model_name": "DescriptionStyleModel",
     "state": {
      "_model_module": "@jupyter-widgets/controls",
      "_model_module_version": "1.5.0",
      "_model_name": "DescriptionStyleModel",
      "_view_count": null,
      "_view_module": "@jupyter-widgets/base",
      "_view_module_version": "1.2.0",
      "_view_name": "StyleView",
      "description_width": ""
     }
    },
    "0e10b2a02c6d43868be657c0abafc9b6": {
     "model_module": "@jupyter-widgets/controls",
     "model_name": "FloatProgressModel",
     "state": {
      "_dom_classes": [],
      "_model_module": "@jupyter-widgets/controls",
      "_model_module_version": "1.5.0",
      "_model_name": "FloatProgressModel",
      "_view_count": null,
      "_view_module": "@jupyter-widgets/controls",
      "_view_module_version": "1.5.0",
      "_view_name": "ProgressView",
      "bar_style": "success",
      "description": "100%",
      "description_tooltip": null,
      "layout": "IPY_MODEL_7c0401ee141b42e49b73adba1531ba85",
      "max": 113,
      "min": 0,
      "orientation": "horizontal",
      "style": "IPY_MODEL_f840128587f641359e384445da19bd1b",
      "value": 113
     }
    },
    "0ea6dd3cdd5141dd9c632b973c528d72": {
     "model_module": "@jupyter-widgets/base",
     "model_name": "LayoutModel",
     "state": {
      "_model_module": "@jupyter-widgets/base",
      "_model_module_version": "1.2.0",
      "_model_name": "LayoutModel",
      "_view_count": null,
      "_view_module": "@jupyter-widgets/base",
      "_view_module_version": "1.2.0",
      "_view_name": "LayoutView",
      "align_content": null,
      "align_items": null,
      "align_self": null,
      "border": null,
      "bottom": null,
      "display": null,
      "flex": null,
      "flex_flow": null,
      "grid_area": null,
      "grid_auto_columns": null,
      "grid_auto_flow": null,
      "grid_auto_rows": null,
      "grid_column": null,
      "grid_gap": null,
      "grid_row": null,
      "grid_template_areas": null,
      "grid_template_columns": null,
      "grid_template_rows": null,
      "height": null,
      "justify_content": null,
      "justify_items": null,
      "left": null,
      "margin": null,
      "max_height": null,
      "max_width": null,
      "min_height": null,
      "min_width": null,
      "object_fit": null,
      "object_position": null,
      "order": null,
      "overflow": null,
      "overflow_x": null,
      "overflow_y": null,
      "padding": null,
      "right": null,
      "top": null,
      "visibility": null,
      "width": null
     }
    },
    "0f8d06d20c294476bb0184b70353a7f1": {
     "model_module": "@jupyter-widgets/controls",
     "model_name": "DescriptionStyleModel",
     "state": {
      "_model_module": "@jupyter-widgets/controls",
      "_model_module_version": "1.5.0",
      "_model_name": "DescriptionStyleModel",
      "_view_count": null,
      "_view_module": "@jupyter-widgets/base",
      "_view_module_version": "1.2.0",
      "_view_name": "StyleView",
      "description_width": ""
     }
    },
    "118d6f12215a47838460ce2cf036a61d": {
     "model_module": "@jupyter-widgets/controls",
     "model_name": "FloatProgressModel",
     "state": {
      "_dom_classes": [],
      "_model_module": "@jupyter-widgets/controls",
      "_model_module_version": "1.5.0",
      "_model_name": "FloatProgressModel",
      "_view_count": null,
      "_view_module": "@jupyter-widgets/controls",
      "_view_module_version": "1.5.0",
      "_view_name": "ProgressView",
      "bar_style": "success",
      "description": "100%",
      "description_tooltip": null,
      "layout": "IPY_MODEL_eb8f478bdfd040c9a20ce96ba24b63cf",
      "max": 9496,
      "min": 0,
      "orientation": "horizontal",
      "style": "IPY_MODEL_be0e57ec58ec41a68f3f42d2882cb6c8",
      "value": 9496
     }
    },
    "126bd57055cc4eed80dfb935bc80b290": {
     "model_module": "@jupyter-widgets/controls",
     "model_name": "HBoxModel",
     "state": {
      "_dom_classes": [],
      "_model_module": "@jupyter-widgets/controls",
      "_model_module_version": "1.5.0",
      "_model_name": "HBoxModel",
      "_view_count": null,
      "_view_module": "@jupyter-widgets/controls",
      "_view_module_version": "1.5.0",
      "_view_name": "HBoxView",
      "box_style": "",
      "children": [
       "IPY_MODEL_0e10b2a02c6d43868be657c0abafc9b6",
       "IPY_MODEL_e2e1f4e73be04d05a8ef8ccf78aeeb7c"
      ],
      "layout": "IPY_MODEL_192f6c9942784f1ba18354b002e480b0"
     }
    },
    "132ff4c0e418458db6a55b65f288e72e": {
     "model_module": "@jupyter-widgets/controls",
     "model_name": "ProgressStyleModel",
     "state": {
      "_model_module": "@jupyter-widgets/controls",
      "_model_module_version": "1.5.0",
      "_model_name": "ProgressStyleModel",
      "_view_count": null,
      "_view_module": "@jupyter-widgets/base",
      "_view_module_version": "1.2.0",
      "_view_name": "StyleView",
      "bar_color": null,
      "description_width": "initial"
     }
    },
    "15705376f0494c67b6276e42ef6cea22": {
     "model_module": "@jupyter-widgets/controls",
     "model_name": "HTMLModel",
     "state": {
      "_dom_classes": [],
      "_model_module": "@jupyter-widgets/controls",
      "_model_module_version": "1.5.0",
      "_model_name": "HTMLModel",
      "_view_count": null,
      "_view_module": "@jupyter-widgets/controls",
      "_view_module_version": "1.5.0",
      "_view_name": "HTMLView",
      "description": "",
      "description_tooltip": null,
      "layout": "IPY_MODEL_bd5b08839e704429bd4420156c31f6cd",
      "placeholder": "​",
      "style": "IPY_MODEL_40f5c1519a2848c6a154bbf9e448c9e6",
      "value": " 288/288 [00:00&lt;00:00, 6057.18it/s]"
     }
    },
    "16523a4b577d47f69744895a4601233b": {
     "model_module": "@jupyter-widgets/controls",
     "model_name": "ProgressStyleModel",
     "state": {
      "_model_module": "@jupyter-widgets/controls",
      "_model_module_version": "1.5.0",
      "_model_name": "ProgressStyleModel",
      "_view_count": null,
      "_view_module": "@jupyter-widgets/base",
      "_view_module_version": "1.2.0",
      "_view_name": "StyleView",
      "bar_color": null,
      "description_width": "initial"
     }
    },
    "1872596708034455ab95ae54f9624026": {
     "model_module": "@jupyter-widgets/base",
     "model_name": "LayoutModel",
     "state": {
      "_model_module": "@jupyter-widgets/base",
      "_model_module_version": "1.2.0",
      "_model_name": "LayoutModel",
      "_view_count": null,
      "_view_module": "@jupyter-widgets/base",
      "_view_module_version": "1.2.0",
      "_view_name": "LayoutView",
      "align_content": null,
      "align_items": null,
      "align_self": null,
      "border": null,
      "bottom": null,
      "display": null,
      "flex": null,
      "flex_flow": null,
      "grid_area": null,
      "grid_auto_columns": null,
      "grid_auto_flow": null,
      "grid_auto_rows": null,
      "grid_column": null,
      "grid_gap": null,
      "grid_row": null,
      "grid_template_areas": null,
      "grid_template_columns": null,
      "grid_template_rows": null,
      "height": null,
      "justify_content": null,
      "justify_items": null,
      "left": null,
      "margin": null,
      "max_height": null,
      "max_width": null,
      "min_height": null,
      "min_width": null,
      "object_fit": null,
      "object_position": null,
      "order": null,
      "overflow": null,
      "overflow_x": null,
      "overflow_y": null,
      "padding": null,
      "right": null,
      "top": null,
      "visibility": null,
      "width": null
     }
    },
    "18a6b64ecd1f4b908ba46f3242382009": {
     "model_module": "@jupyter-widgets/base",
     "model_name": "LayoutModel",
     "state": {
      "_model_module": "@jupyter-widgets/base",
      "_model_module_version": "1.2.0",
      "_model_name": "LayoutModel",
      "_view_count": null,
      "_view_module": "@jupyter-widgets/base",
      "_view_module_version": "1.2.0",
      "_view_name": "LayoutView",
      "align_content": null,
      "align_items": null,
      "align_self": null,
      "border": null,
      "bottom": null,
      "display": null,
      "flex": null,
      "flex_flow": null,
      "grid_area": null,
      "grid_auto_columns": null,
      "grid_auto_flow": null,
      "grid_auto_rows": null,
      "grid_column": null,
      "grid_gap": null,
      "grid_row": null,
      "grid_template_areas": null,
      "grid_template_columns": null,
      "grid_template_rows": null,
      "height": null,
      "justify_content": null,
      "justify_items": null,
      "left": null,
      "margin": null,
      "max_height": null,
      "max_width": null,
      "min_height": null,
      "min_width": null,
      "object_fit": null,
      "object_position": null,
      "order": null,
      "overflow": null,
      "overflow_x": null,
      "overflow_y": null,
      "padding": null,
      "right": null,
      "top": null,
      "visibility": null,
      "width": null
     }
    },
    "192f6c9942784f1ba18354b002e480b0": {
     "model_module": "@jupyter-widgets/base",
     "model_name": "LayoutModel",
     "state": {
      "_model_module": "@jupyter-widgets/base",
      "_model_module_version": "1.2.0",
      "_model_name": "LayoutModel",
      "_view_count": null,
      "_view_module": "@jupyter-widgets/base",
      "_view_module_version": "1.2.0",
      "_view_name": "LayoutView",
      "align_content": null,
      "align_items": null,
      "align_self": null,
      "border": null,
      "bottom": null,
      "display": null,
      "flex": null,
      "flex_flow": null,
      "grid_area": null,
      "grid_auto_columns": null,
      "grid_auto_flow": null,
      "grid_auto_rows": null,
      "grid_column": null,
      "grid_gap": null,
      "grid_row": null,
      "grid_template_areas": null,
      "grid_template_columns": null,
      "grid_template_rows": null,
      "height": null,
      "justify_content": null,
      "justify_items": null,
      "left": null,
      "margin": null,
      "max_height": null,
      "max_width": null,
      "min_height": null,
      "min_width": null,
      "object_fit": null,
      "object_position": null,
      "order": null,
      "overflow": null,
      "overflow_x": null,
      "overflow_y": null,
      "padding": null,
      "right": null,
      "top": null,
      "visibility": null,
      "width": null
     }
    },
    "19f6ee1ca67c445e985ce214bdc3a989": {
     "model_module": "@jupyter-widgets/controls",
     "model_name": "ProgressStyleModel",
     "state": {
      "_model_module": "@jupyter-widgets/controls",
      "_model_module_version": "1.5.0",
      "_model_name": "ProgressStyleModel",
      "_view_count": null,
      "_view_module": "@jupyter-widgets/base",
      "_view_module_version": "1.2.0",
      "_view_name": "StyleView",
      "bar_color": null,
      "description_width": "initial"
     }
    },
    "1a5197359d2f4fa69174617f7450916a": {
     "model_module": "@jupyter-widgets/controls",
     "model_name": "DescriptionStyleModel",
     "state": {
      "_model_module": "@jupyter-widgets/controls",
      "_model_module_version": "1.5.0",
      "_model_name": "DescriptionStyleModel",
      "_view_count": null,
      "_view_module": "@jupyter-widgets/base",
      "_view_module_version": "1.2.0",
      "_view_name": "StyleView",
      "description_width": ""
     }
    },
    "1b7e45e1ce7b45caa6e460651d6aa392": {
     "model_module": "@jupyter-widgets/base",
     "model_name": "LayoutModel",
     "state": {
      "_model_module": "@jupyter-widgets/base",
      "_model_module_version": "1.2.0",
      "_model_name": "LayoutModel",
      "_view_count": null,
      "_view_module": "@jupyter-widgets/base",
      "_view_module_version": "1.2.0",
      "_view_name": "LayoutView",
      "align_content": null,
      "align_items": null,
      "align_self": null,
      "border": null,
      "bottom": null,
      "display": null,
      "flex": null,
      "flex_flow": null,
      "grid_area": null,
      "grid_auto_columns": null,
      "grid_auto_flow": null,
      "grid_auto_rows": null,
      "grid_column": null,
      "grid_gap": null,
      "grid_row": null,
      "grid_template_areas": null,
      "grid_template_columns": null,
      "grid_template_rows": null,
      "height": null,
      "justify_content": null,
      "justify_items": null,
      "left": null,
      "margin": null,
      "max_height": null,
      "max_width": null,
      "min_height": null,
      "min_width": null,
      "object_fit": null,
      "object_position": null,
      "order": null,
      "overflow": null,
      "overflow_x": null,
      "overflow_y": null,
      "padding": null,
      "right": null,
      "top": null,
      "visibility": null,
      "width": null
     }
    },
    "1c377c18334f4e28a40b2f8a16b66dcd": {
     "model_module": "@jupyter-widgets/controls",
     "model_name": "ProgressStyleModel",
     "state": {
      "_model_module": "@jupyter-widgets/controls",
      "_model_module_version": "1.5.0",
      "_model_name": "ProgressStyleModel",
      "_view_count": null,
      "_view_module": "@jupyter-widgets/base",
      "_view_module_version": "1.2.0",
      "_view_name": "StyleView",
      "bar_color": null,
      "description_width": "initial"
     }
    },
    "1c588eac579247999e0f4bde82a6c4a3": {
     "model_module": "@jupyter-widgets/base",
     "model_name": "LayoutModel",
     "state": {
      "_model_module": "@jupyter-widgets/base",
      "_model_module_version": "1.2.0",
      "_model_name": "LayoutModel",
      "_view_count": null,
      "_view_module": "@jupyter-widgets/base",
      "_view_module_version": "1.2.0",
      "_view_name": "LayoutView",
      "align_content": null,
      "align_items": null,
      "align_self": null,
      "border": null,
      "bottom": null,
      "display": null,
      "flex": null,
      "flex_flow": null,
      "grid_area": null,
      "grid_auto_columns": null,
      "grid_auto_flow": null,
      "grid_auto_rows": null,
      "grid_column": null,
      "grid_gap": null,
      "grid_row": null,
      "grid_template_areas": null,
      "grid_template_columns": null,
      "grid_template_rows": null,
      "height": null,
      "justify_content": null,
      "justify_items": null,
      "left": null,
      "margin": null,
      "max_height": null,
      "max_width": null,
      "min_height": null,
      "min_width": null,
      "object_fit": null,
      "object_position": null,
      "order": null,
      "overflow": null,
      "overflow_x": null,
      "overflow_y": null,
      "padding": null,
      "right": null,
      "top": null,
      "visibility": null,
      "width": null
     }
    },
    "1d3d84acd63849308fb2cd682779a2b1": {
     "model_module": "@jupyter-widgets/controls",
     "model_name": "DescriptionStyleModel",
     "state": {
      "_model_module": "@jupyter-widgets/controls",
      "_model_module_version": "1.5.0",
      "_model_name": "DescriptionStyleModel",
      "_view_count": null,
      "_view_module": "@jupyter-widgets/base",
      "_view_module_version": "1.2.0",
      "_view_name": "StyleView",
      "description_width": ""
     }
    },
    "1e165829f7ad46fba5eb5996b04b8cb3": {
     "model_module": "@jupyter-widgets/controls",
     "model_name": "FloatProgressModel",
     "state": {
      "_dom_classes": [],
      "_model_module": "@jupyter-widgets/controls",
      "_model_module_version": "1.5.0",
      "_model_name": "FloatProgressModel",
      "_view_count": null,
      "_view_module": "@jupyter-widgets/controls",
      "_view_module_version": "1.5.0",
      "_view_name": "ProgressView",
      "bar_style": "success",
      "description": "Process zip files ...: 100%",
      "description_tooltip": null,
      "layout": "IPY_MODEL_7c74ba61c38c4e05a927976cc60c70d5",
      "max": 1,
      "min": 0,
      "orientation": "horizontal",
      "style": "IPY_MODEL_ea73f9d79cee427e93a16a630e6d9ca2",
      "value": 1
     }
    },
    "21c0f79b855c46088adc900d156f6b0c": {
     "model_module": "@jupyter-widgets/controls",
     "model_name": "FloatProgressModel",
     "state": {
      "_dom_classes": [],
      "_model_module": "@jupyter-widgets/controls",
      "_model_module_version": "1.5.0",
      "_model_name": "FloatProgressModel",
      "_view_count": null,
      "_view_module": "@jupyter-widgets/controls",
      "_view_module_version": "1.5.0",
      "_view_name": "ProgressView",
      "bar_style": "success",
      "description": "Transforming: 100%",
      "description_tooltip": null,
      "layout": "IPY_MODEL_fae70a7b0ec44beca49111349fb859d8",
      "max": 14337,
      "min": 0,
      "orientation": "horizontal",
      "style": "IPY_MODEL_c4ac93211fc840faaf50d9129ab3a84d",
      "value": 14337
     }
    },
    "21cb56a6995f44b6b21803172d59d7e4": {
     "model_module": "@jupyter-widgets/base",
     "model_name": "LayoutModel",
     "state": {
      "_model_module": "@jupyter-widgets/base",
      "_model_module_version": "1.2.0",
      "_model_name": "LayoutModel",
      "_view_count": null,
      "_view_module": "@jupyter-widgets/base",
      "_view_module_version": "1.2.0",
      "_view_name": "LayoutView",
      "align_content": null,
      "align_items": null,
      "align_self": null,
      "border": null,
      "bottom": null,
      "display": null,
      "flex": null,
      "flex_flow": null,
      "grid_area": null,
      "grid_auto_columns": null,
      "grid_auto_flow": null,
      "grid_auto_rows": null,
      "grid_column": null,
      "grid_gap": null,
      "grid_row": null,
      "grid_template_areas": null,
      "grid_template_columns": null,
      "grid_template_rows": null,
      "height": null,
      "justify_content": null,
      "justify_items": null,
      "left": null,
      "margin": null,
      "max_height": null,
      "max_width": null,
      "min_height": null,
      "min_width": null,
      "object_fit": null,
      "object_position": null,
      "order": null,
      "overflow": null,
      "overflow_x": null,
      "overflow_y": null,
      "padding": null,
      "right": null,
      "top": null,
      "visibility": null,
      "width": null
     }
    },
    "21d11be0d8a84e57acb0381c9bd8b362": {
     "model_module": "@jupyter-widgets/controls",
     "model_name": "FloatProgressModel",
     "state": {
      "_dom_classes": [],
      "_model_module": "@jupyter-widgets/controls",
      "_model_module_version": "1.5.0",
      "_model_name": "FloatProgressModel",
      "_view_count": null,
      "_view_module": "@jupyter-widgets/controls",
      "_view_module_version": "1.5.0",
      "_view_name": "ProgressView",
      "bar_style": "success",
      "description": "100%",
      "description_tooltip": null,
      "layout": "IPY_MODEL_716619200f7d474788e92f6f9664aa16",
      "max": 288,
      "min": 0,
      "orientation": "horizontal",
      "style": "IPY_MODEL_ec09aa00f0f44efbbab152cff085ee74",
      "value": 288
     }
    },
    "24446f8991484de8ad893bbc86c27767": {
     "model_module": "@jupyter-widgets/controls",
     "model_name": "HBoxModel",
     "state": {
      "_dom_classes": [],
      "_model_module": "@jupyter-widgets/controls",
      "_model_module_version": "1.5.0",
      "_model_name": "HBoxModel",
      "_view_count": null,
      "_view_module": "@jupyter-widgets/controls",
      "_view_module_version": "1.5.0",
      "_view_name": "HBoxView",
      "box_style": "",
      "children": [
       "IPY_MODEL_e8311be38e35495d8258552e39234bb7",
       "IPY_MODEL_d1a1608f8e2d457abb36e27c620818af"
      ],
      "layout": "IPY_MODEL_b33c91e2ed5549bb9132c0a02c220f4b"
     }
    },
    "24e3a9956c0f4a61ac104bac836c9f4b": {
     "model_module": "@jupyter-widgets/controls",
     "model_name": "FloatProgressModel",
     "state": {
      "_dom_classes": [],
      "_model_module": "@jupyter-widgets/controls",
      "_model_module_version": "1.5.0",
      "_model_name": "FloatProgressModel",
      "_view_count": null,
      "_view_module": "@jupyter-widgets/controls",
      "_view_module_version": "1.5.0",
      "_view_name": "ProgressView",
      "bar_style": "success",
      "description": "Load zip files ...: 100%",
      "description_tooltip": null,
      "layout": "IPY_MODEL_ef6b4566dd5443fba7efa0eb15477b56",
      "max": 1,
      "min": 0,
      "orientation": "horizontal",
      "style": "IPY_MODEL_19f6ee1ca67c445e985ce214bdc3a989",
      "value": 1
     }
    },
    "26598de669ff46bc8d547bd57b91c3d1": {
     "model_module": "@jupyter-widgets/controls",
     "model_name": "HTMLModel",
     "state": {
      "_dom_classes": [],
      "_model_module": "@jupyter-widgets/controls",
      "_model_module_version": "1.5.0",
      "_model_name": "HTMLModel",
      "_view_count": null,
      "_view_module": "@jupyter-widgets/controls",
      "_view_module_version": "1.5.0",
      "_view_name": "HTMLView",
      "description": "",
      "description_tooltip": null,
      "layout": "IPY_MODEL_43c2fb8b2278483c9a2acb6b098465bb",
      "placeholder": "​",
      "style": "IPY_MODEL_60295f19a4414b3b96ada1b023e0f352",
      "value": " 1/1 [00:00&lt;00:00, 11.70it/s]"
     }
    },
    "298465afd6694e95932509168903f7dc": {
     "model_module": "@jupyter-widgets/base",
     "model_name": "LayoutModel",
     "state": {
      "_model_module": "@jupyter-widgets/base",
      "_model_module_version": "1.2.0",
      "_model_name": "LayoutModel",
      "_view_count": null,
      "_view_module": "@jupyter-widgets/base",
      "_view_module_version": "1.2.0",
      "_view_name": "LayoutView",
      "align_content": null,
      "align_items": null,
      "align_self": null,
      "border": null,
      "bottom": null,
      "display": null,
      "flex": null,
      "flex_flow": null,
      "grid_area": null,
      "grid_auto_columns": null,
      "grid_auto_flow": null,
      "grid_auto_rows": null,
      "grid_column": null,
      "grid_gap": null,
      "grid_row": null,
      "grid_template_areas": null,
      "grid_template_columns": null,
      "grid_template_rows": null,
      "height": null,
      "justify_content": null,
      "justify_items": null,
      "left": null,
      "margin": null,
      "max_height": null,
      "max_width": null,
      "min_height": null,
      "min_width": null,
      "object_fit": null,
      "object_position": null,
      "order": null,
      "overflow": null,
      "overflow_x": null,
      "overflow_y": null,
      "padding": null,
      "right": null,
      "top": null,
      "visibility": null,
      "width": null
     }
    },
    "29a1827bde2b4d99912480d50fec6d84": {
     "model_module": "@jupyter-widgets/controls",
     "model_name": "HBoxModel",
     "state": {
      "_dom_classes": [],
      "_model_module": "@jupyter-widgets/controls",
      "_model_module_version": "1.5.0",
      "_model_name": "HBoxModel",
      "_view_count": null,
      "_view_module": "@jupyter-widgets/controls",
      "_view_module_version": "1.5.0",
      "_view_name": "HBoxView",
      "box_style": "",
      "children": [
       "IPY_MODEL_cade65e9283f49e187042173742fdc33",
       "IPY_MODEL_26598de669ff46bc8d547bd57b91c3d1"
      ],
      "layout": "IPY_MODEL_dfa1136d9fca4cc2a3e5973fe6d7e1b9"
     }
    },
    "2b1f4dbb241d47a48232b89767ba4efa": {
     "model_module": "@jupyter-widgets/controls",
     "model_name": "HBoxModel",
     "state": {
      "_dom_classes": [],
      "_model_module": "@jupyter-widgets/controls",
      "_model_module_version": "1.5.0",
      "_model_name": "HBoxModel",
      "_view_count": null,
      "_view_module": "@jupyter-widgets/controls",
      "_view_module_version": "1.5.0",
      "_view_name": "HBoxView",
      "box_style": "",
      "children": [
       "IPY_MODEL_431531b408fd4c5c8ada2805c2b6aeaa",
       "IPY_MODEL_448f86a40659448cb478400d69f26440"
      ],
      "layout": "IPY_MODEL_959cc29f929e421bb204cf24505c54d2"
     }
    },
    "2b613b8633894f3c87119afc42180cc9": {
     "model_module": "@jupyter-widgets/controls",
     "model_name": "DescriptionStyleModel",
     "state": {
      "_model_module": "@jupyter-widgets/controls",
      "_model_module_version": "1.5.0",
      "_model_name": "DescriptionStyleModel",
      "_view_count": null,
      "_view_module": "@jupyter-widgets/base",
      "_view_module_version": "1.2.0",
      "_view_name": "StyleView",
      "description_width": ""
     }
    },
    "2c54f44b83024822a1ba4974d653c86a": {
     "model_module": "@jupyter-widgets/controls",
     "model_name": "DescriptionStyleModel",
     "state": {
      "_model_module": "@jupyter-widgets/controls",
      "_model_module_version": "1.5.0",
      "_model_name": "DescriptionStyleModel",
      "_view_count": null,
      "_view_module": "@jupyter-widgets/base",
      "_view_module_version": "1.2.0",
      "_view_name": "StyleView",
      "description_width": ""
     }
    },
    "2c71a139c77244ac94d09df6eb891c09": {
     "model_module": "@jupyter-widgets/controls",
     "model_name": "HTMLModel",
     "state": {
      "_dom_classes": [],
      "_model_module": "@jupyter-widgets/controls",
      "_model_module_version": "1.5.0",
      "_model_name": "HTMLModel",
      "_view_count": null,
      "_view_module": "@jupyter-widgets/controls",
      "_view_module_version": "1.5.0",
      "_view_name": "HTMLView",
      "description": "",
      "description_tooltip": null,
      "layout": "IPY_MODEL_92ab1ed687f14f45a768be709b8c9e85",
      "placeholder": "​",
      "style": "IPY_MODEL_81da33185be14b4481f6ca10298102e8",
      "value": " 344/344 [00:14&lt;00:00, 24.31it/s]"
     }
    },
    "2cbe4de78ec14e03a02e2c3179031f7c": {
     "model_module": "@jupyter-widgets/base",
     "model_name": "LayoutModel",
     "state": {
      "_model_module": "@jupyter-widgets/base",
      "_model_module_version": "1.2.0",
      "_model_name": "LayoutModel",
      "_view_count": null,
      "_view_module": "@jupyter-widgets/base",
      "_view_module_version": "1.2.0",
      "_view_name": "LayoutView",
      "align_content": null,
      "align_items": null,
      "align_self": null,
      "border": null,
      "bottom": null,
      "display": null,
      "flex": null,
      "flex_flow": null,
      "grid_area": null,
      "grid_auto_columns": null,
      "grid_auto_flow": null,
      "grid_auto_rows": null,
      "grid_column": null,
      "grid_gap": null,
      "grid_row": null,
      "grid_template_areas": null,
      "grid_template_columns": null,
      "grid_template_rows": null,
      "height": null,
      "justify_content": null,
      "justify_items": null,
      "left": null,
      "margin": null,
      "max_height": null,
      "max_width": null,
      "min_height": null,
      "min_width": null,
      "object_fit": null,
      "object_position": null,
      "order": null,
      "overflow": null,
      "overflow_x": null,
      "overflow_y": null,
      "padding": null,
      "right": null,
      "top": null,
      "visibility": null,
      "width": null
     }
    },
    "300391ed721f47b88b5cc1cda7563b22": {
     "model_module": "@jupyter-widgets/controls",
     "model_name": "FloatProgressModel",
     "state": {
      "_dom_classes": [],
      "_model_module": "@jupyter-widgets/controls",
      "_model_module_version": "1.5.0",
      "_model_name": "FloatProgressModel",
      "_view_count": null,
      "_view_module": "@jupyter-widgets/controls",
      "_view_module_version": "1.5.0",
      "_view_name": "ProgressView",
      "bar_style": "success",
      "description": "Load zip files ...: 100%",
      "description_tooltip": null,
      "layout": "IPY_MODEL_5b4dac7a913f4ee79f99f6e5fb47c3a1",
      "max": 1,
      "min": 0,
      "orientation": "horizontal",
      "style": "IPY_MODEL_e376966c8a704814b41d9a8145567b4d",
      "value": 1
     }
    },
    "33c56f0c4250454195d24fef41c8cc05": {
     "model_module": "@jupyter-widgets/base",
     "model_name": "LayoutModel",
     "state": {
      "_model_module": "@jupyter-widgets/base",
      "_model_module_version": "1.2.0",
      "_model_name": "LayoutModel",
      "_view_count": null,
      "_view_module": "@jupyter-widgets/base",
      "_view_module_version": "1.2.0",
      "_view_name": "LayoutView",
      "align_content": null,
      "align_items": null,
      "align_self": null,
      "border": null,
      "bottom": null,
      "display": null,
      "flex": null,
      "flex_flow": null,
      "grid_area": null,
      "grid_auto_columns": null,
      "grid_auto_flow": null,
      "grid_auto_rows": null,
      "grid_column": null,
      "grid_gap": null,
      "grid_row": null,
      "grid_template_areas": null,
      "grid_template_columns": null,
      "grid_template_rows": null,
      "height": null,
      "justify_content": null,
      "justify_items": null,
      "left": null,
      "margin": null,
      "max_height": null,
      "max_width": null,
      "min_height": null,
      "min_width": null,
      "object_fit": null,
      "object_position": null,
      "order": null,
      "overflow": null,
      "overflow_x": null,
      "overflow_y": null,
      "padding": null,
      "right": null,
      "top": null,
      "visibility": null,
      "width": null
     }
    },
    "355ef9988241416e8535cbfdb8bf026e": {
     "model_module": "@jupyter-widgets/controls",
     "model_name": "DescriptionStyleModel",
     "state": {
      "_model_module": "@jupyter-widgets/controls",
      "_model_module_version": "1.5.0",
      "_model_name": "DescriptionStyleModel",
      "_view_count": null,
      "_view_module": "@jupyter-widgets/base",
      "_view_module_version": "1.2.0",
      "_view_name": "StyleView",
      "description_width": ""
     }
    },
    "39314e19bd9c4af09dd62eae7839a0e8": {
     "model_module": "@jupyter-widgets/controls",
     "model_name": "FloatProgressModel",
     "state": {
      "_dom_classes": [],
      "_model_module": "@jupyter-widgets/controls",
      "_model_module_version": "1.5.0",
      "_model_name": "FloatProgressModel",
      "_view_count": null,
      "_view_module": "@jupyter-widgets/controls",
      "_view_module_version": "1.5.0",
      "_view_name": "ProgressView",
      "bar_style": "success",
      "description": "100%",
      "description_tooltip": null,
      "layout": "IPY_MODEL_69c4b9b12aac4c42bf54081438e9c4d8",
      "max": 290,
      "min": 0,
      "orientation": "horizontal",
      "style": "IPY_MODEL_e53b6a4cb82f4acdba527e5fc8cc036f",
      "value": 290
     }
    },
    "3aa6b908345b424ba9636c5b32dba965": {
     "model_module": "@jupyter-widgets/controls",
     "model_name": "HBoxModel",
     "state": {
      "_dom_classes": [],
      "_model_module": "@jupyter-widgets/controls",
      "_model_module_version": "1.5.0",
      "_model_name": "HBoxModel",
      "_view_count": null,
      "_view_module": "@jupyter-widgets/controls",
      "_view_module_version": "1.5.0",
      "_view_name": "HBoxView",
      "box_style": "",
      "children": [
       "IPY_MODEL_b5d8a4136caf4f24864ec9a30986844d",
       "IPY_MODEL_f9d1df3eff664848bf072a3fda061d0b"
      ],
      "layout": "IPY_MODEL_8203a7fd7e3a422484dee252f7578839"
     }
    },
    "3cc05ac84fa24de59c21dd429452dbba": {
     "model_module": "@jupyter-widgets/controls",
     "model_name": "DescriptionStyleModel",
     "state": {
      "_model_module": "@jupyter-widgets/controls",
      "_model_module_version": "1.5.0",
      "_model_name": "DescriptionStyleModel",
      "_view_count": null,
      "_view_module": "@jupyter-widgets/base",
      "_view_module_version": "1.2.0",
      "_view_name": "StyleView",
      "description_width": ""
     }
    },
    "3cd657bbbe954edea5328cce84664dd8": {
     "model_module": "@jupyter-widgets/controls",
     "model_name": "ProgressStyleModel",
     "state": {
      "_model_module": "@jupyter-widgets/controls",
      "_model_module_version": "1.5.0",
      "_model_name": "ProgressStyleModel",
      "_view_count": null,
      "_view_module": "@jupyter-widgets/base",
      "_view_module_version": "1.2.0",
      "_view_name": "StyleView",
      "bar_color": null,
      "description_width": "initial"
     }
    },
    "3cf39e761c3c4f02929eaafa069300a5": {
     "model_module": "@jupyter-widgets/controls",
     "model_name": "FloatProgressModel",
     "state": {
      "_dom_classes": [],
      "_model_module": "@jupyter-widgets/controls",
      "_model_module_version": "1.5.0",
      "_model_name": "FloatProgressModel",
      "_view_count": null,
      "_view_module": "@jupyter-widgets/controls",
      "_view_module_version": "1.5.0",
      "_view_name": "ProgressView",
      "bar_style": "success",
      "description": "Loading ...: 100%",
      "description_tooltip": null,
      "layout": "IPY_MODEL_21cb56a6995f44b6b21803172d59d7e4",
      "max": 1500,
      "min": 0,
      "orientation": "horizontal",
      "style": "IPY_MODEL_8854c391ea774b8f91dfb56900e276c5",
      "value": 1500
     }
    },
    "3e563cb2a12a45ed9156cac942ab6859": {
     "model_module": "@jupyter-widgets/controls",
     "model_name": "FloatProgressModel",
     "state": {
      "_dom_classes": [],
      "_model_module": "@jupyter-widgets/controls",
      "_model_module_version": "1.5.0",
      "_model_name": "FloatProgressModel",
      "_view_count": null,
      "_view_module": "@jupyter-widgets/controls",
      "_view_module_version": "1.5.0",
      "_view_name": "ProgressView",
      "bar_style": "success",
      "description": "100%",
      "description_tooltip": null,
      "layout": "IPY_MODEL_ccb0a19b147843bf9f62dbde00973b01",
      "max": 290,
      "min": 0,
      "orientation": "horizontal",
      "style": "IPY_MODEL_a3f35ff132684f31a22ac7dc2128da04",
      "value": 290
     }
    },
    "3ee3f42278ff4d0bb9cd2fea0fa8707c": {
     "model_module": "@jupyter-widgets/controls",
     "model_name": "HBoxModel",
     "state": {
      "_dom_classes": [],
      "_model_module": "@jupyter-widgets/controls",
      "_model_module_version": "1.5.0",
      "_model_name": "HBoxModel",
      "_view_count": null,
      "_view_module": "@jupyter-widgets/controls",
      "_view_module_version": "1.5.0",
      "_view_name": "HBoxView",
      "box_style": "",
      "children": [
       "IPY_MODEL_567a7823b56d4935b3bf0f2ce8e522f6",
       "IPY_MODEL_86031eea0b6d43f78255f355fdce9d33"
      ],
      "layout": "IPY_MODEL_8ea7fb841146457abf72d7a30a1f8ca0"
     }
    },
    "3f43a658822d4aefa017e38154dcad3f": {
     "model_module": "@jupyter-widgets/base",
     "model_name": "LayoutModel",
     "state": {
      "_model_module": "@jupyter-widgets/base",
      "_model_module_version": "1.2.0",
      "_model_name": "LayoutModel",
      "_view_count": null,
      "_view_module": "@jupyter-widgets/base",
      "_view_module_version": "1.2.0",
      "_view_name": "LayoutView",
      "align_content": null,
      "align_items": null,
      "align_self": null,
      "border": null,
      "bottom": null,
      "display": null,
      "flex": null,
      "flex_flow": null,
      "grid_area": null,
      "grid_auto_columns": null,
      "grid_auto_flow": null,
      "grid_auto_rows": null,
      "grid_column": null,
      "grid_gap": null,
      "grid_row": null,
      "grid_template_areas": null,
      "grid_template_columns": null,
      "grid_template_rows": null,
      "height": null,
      "justify_content": null,
      "justify_items": null,
      "left": null,
      "margin": null,
      "max_height": null,
      "max_width": null,
      "min_height": null,
      "min_width": null,
      "object_fit": null,
      "object_position": null,
      "order": null,
      "overflow": null,
      "overflow_x": null,
      "overflow_y": null,
      "padding": null,
      "right": null,
      "top": null,
      "visibility": null,
      "width": null
     }
    },
    "4026db2182724943ae5391a81a6364a6": {
     "model_module": "@jupyter-widgets/controls",
     "model_name": "FloatProgressModel",
     "state": {
      "_dom_classes": [],
      "_model_module": "@jupyter-widgets/controls",
      "_model_module_version": "1.5.0",
      "_model_name": "FloatProgressModel",
      "_view_count": null,
      "_view_module": "@jupyter-widgets/controls",
      "_view_module_version": "1.5.0",
      "_view_name": "ProgressView",
      "bar_style": "success",
      "description": "Splitting test to sentences: 100%",
      "description_tooltip": null,
      "layout": "IPY_MODEL_1c588eac579247999e0f4bde82a6c4a3",
      "max": 344,
      "min": 0,
      "orientation": "horizontal",
      "style": "IPY_MODEL_ada4cfabaa9040ce906675cd88dc159a",
      "value": 344
     }
    },
    "40f5c1519a2848c6a154bbf9e448c9e6": {
     "model_module": "@jupyter-widgets/controls",
     "model_name": "DescriptionStyleModel",
     "state": {
      "_model_module": "@jupyter-widgets/controls",
      "_model_module_version": "1.5.0",
      "_model_name": "DescriptionStyleModel",
      "_view_count": null,
      "_view_module": "@jupyter-widgets/base",
      "_view_module_version": "1.2.0",
      "_view_name": "StyleView",
      "description_width": ""
     }
    },
    "41bb1ce28ab1404dae9973e7e80ad3ea": {
     "model_module": "@jupyter-widgets/controls",
     "model_name": "DescriptionStyleModel",
     "state": {
      "_model_module": "@jupyter-widgets/controls",
      "_model_module_version": "1.5.0",
      "_model_name": "DescriptionStyleModel",
      "_view_count": null,
      "_view_module": "@jupyter-widgets/base",
      "_view_module_version": "1.2.0",
      "_view_name": "StyleView",
      "description_width": ""
     }
    },
    "431531b408fd4c5c8ada2805c2b6aeaa": {
     "model_module": "@jupyter-widgets/controls",
     "model_name": "FloatProgressModel",
     "state": {
      "_dom_classes": [],
      "_model_module": "@jupyter-widgets/controls",
      "_model_module_version": "1.5.0",
      "_model_name": "FloatProgressModel",
      "_view_count": null,
      "_view_module": "@jupyter-widgets/controls",
      "_view_module_version": "1.5.0",
      "_view_name": "ProgressView",
      "bar_style": "success",
      "description": "Load zip files ...: 100%",
      "description_tooltip": null,
      "layout": "IPY_MODEL_5b8115cac6da4816bbf701ace1b10f6b",
      "max": 1,
      "min": 0,
      "orientation": "horizontal",
      "style": "IPY_MODEL_9420fe7e704543cf9df6e58a5e9af61c",
      "value": 1
     }
    },
    "43c2fb8b2278483c9a2acb6b098465bb": {
     "model_module": "@jupyter-widgets/base",
     "model_name": "LayoutModel",
     "state": {
      "_model_module": "@jupyter-widgets/base",
      "_model_module_version": "1.2.0",
      "_model_name": "LayoutModel",
      "_view_count": null,
      "_view_module": "@jupyter-widgets/base",
      "_view_module_version": "1.2.0",
      "_view_name": "LayoutView",
      "align_content": null,
      "align_items": null,
      "align_self": null,
      "border": null,
      "bottom": null,
      "display": null,
      "flex": null,
      "flex_flow": null,
      "grid_area": null,
      "grid_auto_columns": null,
      "grid_auto_flow": null,
      "grid_auto_rows": null,
      "grid_column": null,
      "grid_gap": null,
      "grid_row": null,
      "grid_template_areas": null,
      "grid_template_columns": null,
      "grid_template_rows": null,
      "height": null,
      "justify_content": null,
      "justify_items": null,
      "left": null,
      "margin": null,
      "max_height": null,
      "max_width": null,
      "min_height": null,
      "min_width": null,
      "object_fit": null,
      "object_position": null,
      "order": null,
      "overflow": null,
      "overflow_x": null,
      "overflow_y": null,
      "padding": null,
      "right": null,
      "top": null,
      "visibility": null,
      "width": null
     }
    },
    "43d726ea113748af8ac3c202849340ec": {
     "model_module": "@jupyter-widgets/base",
     "model_name": "LayoutModel",
     "state": {
      "_model_module": "@jupyter-widgets/base",
      "_model_module_version": "1.2.0",
      "_model_name": "LayoutModel",
      "_view_count": null,
      "_view_module": "@jupyter-widgets/base",
      "_view_module_version": "1.2.0",
      "_view_name": "LayoutView",
      "align_content": null,
      "align_items": null,
      "align_self": null,
      "border": null,
      "bottom": null,
      "display": null,
      "flex": null,
      "flex_flow": null,
      "grid_area": null,
      "grid_auto_columns": null,
      "grid_auto_flow": null,
      "grid_auto_rows": null,
      "grid_column": null,
      "grid_gap": null,
      "grid_row": null,
      "grid_template_areas": null,
      "grid_template_columns": null,
      "grid_template_rows": null,
      "height": null,
      "justify_content": null,
      "justify_items": null,
      "left": null,
      "margin": null,
      "max_height": null,
      "max_width": null,
      "min_height": null,
      "min_width": null,
      "object_fit": null,
      "object_position": null,
      "order": null,
      "overflow": null,
      "overflow_x": null,
      "overflow_y": null,
      "padding": null,
      "right": null,
      "top": null,
      "visibility": null,
      "width": null
     }
    },
    "448f86a40659448cb478400d69f26440": {
     "model_module": "@jupyter-widgets/controls",
     "model_name": "HTMLModel",
     "state": {
      "_dom_classes": [],
      "_model_module": "@jupyter-widgets/controls",
      "_model_module_version": "1.5.0",
      "_model_name": "HTMLModel",
      "_view_count": null,
      "_view_module": "@jupyter-widgets/controls",
      "_view_module_version": "1.5.0",
      "_view_name": "HTMLView",
      "description": "",
      "description_tooltip": null,
      "layout": "IPY_MODEL_e8590b3ba9c440eb9bc56af701a91cc9",
      "placeholder": "​",
      "style": "IPY_MODEL_2c54f44b83024822a1ba4974d653c86a",
      "value": " 1/1 [00:00&lt;00:00,  5.73it/s]"
     }
    },
    "496f19c95964469f92c2e3f107c6ea66": {
     "model_module": "@jupyter-widgets/base",
     "model_name": "LayoutModel",
     "state": {
      "_model_module": "@jupyter-widgets/base",
      "_model_module_version": "1.2.0",
      "_model_name": "LayoutModel",
      "_view_count": null,
      "_view_module": "@jupyter-widgets/base",
      "_view_module_version": "1.2.0",
      "_view_name": "LayoutView",
      "align_content": null,
      "align_items": null,
      "align_self": null,
      "border": null,
      "bottom": null,
      "display": null,
      "flex": null,
      "flex_flow": null,
      "grid_area": null,
      "grid_auto_columns": null,
      "grid_auto_flow": null,
      "grid_auto_rows": null,
      "grid_column": null,
      "grid_gap": null,
      "grid_row": null,
      "grid_template_areas": null,
      "grid_template_columns": null,
      "grid_template_rows": null,
      "height": null,
      "justify_content": null,
      "justify_items": null,
      "left": null,
      "margin": null,
      "max_height": null,
      "max_width": null,
      "min_height": null,
      "min_width": null,
      "object_fit": null,
      "object_position": null,
      "order": null,
      "overflow": null,
      "overflow_x": null,
      "overflow_y": null,
      "padding": null,
      "right": null,
      "top": null,
      "visibility": null,
      "width": null
     }
    },
    "4bc6e8a23e9d42d7a5d72f140825a47a": {
     "model_module": "@jupyter-widgets/controls",
     "model_name": "HBoxModel",
     "state": {
      "_dom_classes": [],
      "_model_module": "@jupyter-widgets/controls",
      "_model_module_version": "1.5.0",
      "_model_name": "HBoxModel",
      "_view_count": null,
      "_view_module": "@jupyter-widgets/controls",
      "_view_module_version": "1.5.0",
      "_view_name": "HBoxView",
      "box_style": "",
      "children": [
       "IPY_MODEL_4026db2182724943ae5391a81a6364a6",
       "IPY_MODEL_2c71a139c77244ac94d09df6eb891c09"
      ],
      "layout": "IPY_MODEL_83a9008f83ca4eac9e5b5113460f9876"
     }
    },
    "4fb16ed11de143b08b9d50be904f075d": {
     "model_module": "@jupyter-widgets/controls",
     "model_name": "HBoxModel",
     "state": {
      "_dom_classes": [],
      "_model_module": "@jupyter-widgets/controls",
      "_model_module_version": "1.5.0",
      "_model_name": "HBoxModel",
      "_view_count": null,
      "_view_module": "@jupyter-widgets/controls",
      "_view_module_version": "1.5.0",
      "_view_name": "HBoxView",
      "box_style": "",
      "children": [
       "IPY_MODEL_118d6f12215a47838460ce2cf036a61d",
       "IPY_MODEL_dc9bc0f8fa0a4e0680aaa0c703decad3"
      ],
      "layout": "IPY_MODEL_496f19c95964469f92c2e3f107c6ea66"
     }
    },
    "533421d94e924c4981f6f3939e584667": {
     "model_module": "@jupyter-widgets/base",
     "model_name": "LayoutModel",
     "state": {
      "_model_module": "@jupyter-widgets/base",
      "_model_module_version": "1.2.0",
      "_model_name": "LayoutModel",
      "_view_count": null,
      "_view_module": "@jupyter-widgets/base",
      "_view_module_version": "1.2.0",
      "_view_name": "LayoutView",
      "align_content": null,
      "align_items": null,
      "align_self": null,
      "border": null,
      "bottom": null,
      "display": null,
      "flex": null,
      "flex_flow": null,
      "grid_area": null,
      "grid_auto_columns": null,
      "grid_auto_flow": null,
      "grid_auto_rows": null,
      "grid_column": null,
      "grid_gap": null,
      "grid_row": null,
      "grid_template_areas": null,
      "grid_template_columns": null,
      "grid_template_rows": null,
      "height": null,
      "justify_content": null,
      "justify_items": null,
      "left": null,
      "margin": null,
      "max_height": null,
      "max_width": null,
      "min_height": null,
      "min_width": null,
      "object_fit": null,
      "object_position": null,
      "order": null,
      "overflow": null,
      "overflow_x": null,
      "overflow_y": null,
      "padding": null,
      "right": null,
      "top": null,
      "visibility": null,
      "width": null
     }
    },
    "54fefb6bae714837a83460aeda8a7ae2": {
     "model_module": "@jupyter-widgets/base",
     "model_name": "LayoutModel",
     "state": {
      "_model_module": "@jupyter-widgets/base",
      "_model_module_version": "1.2.0",
      "_model_name": "LayoutModel",
      "_view_count": null,
      "_view_module": "@jupyter-widgets/base",
      "_view_module_version": "1.2.0",
      "_view_name": "LayoutView",
      "align_content": null,
      "align_items": null,
      "align_self": null,
      "border": null,
      "bottom": null,
      "display": null,
      "flex": null,
      "flex_flow": null,
      "grid_area": null,
      "grid_auto_columns": null,
      "grid_auto_flow": null,
      "grid_auto_rows": null,
      "grid_column": null,
      "grid_gap": null,
      "grid_row": null,
      "grid_template_areas": null,
      "grid_template_columns": null,
      "grid_template_rows": null,
      "height": null,
      "justify_content": null,
      "justify_items": null,
      "left": null,
      "margin": null,
      "max_height": null,
      "max_width": null,
      "min_height": null,
      "min_width": null,
      "object_fit": null,
      "object_position": null,
      "order": null,
      "overflow": null,
      "overflow_x": null,
      "overflow_y": null,
      "padding": null,
      "right": null,
      "top": null,
      "visibility": null,
      "width": null
     }
    },
    "553e62a41cc3409994325d858a43e13b": {
     "model_module": "@jupyter-widgets/base",
     "model_name": "LayoutModel",
     "state": {
      "_model_module": "@jupyter-widgets/base",
      "_model_module_version": "1.2.0",
      "_model_name": "LayoutModel",
      "_view_count": null,
      "_view_module": "@jupyter-widgets/base",
      "_view_module_version": "1.2.0",
      "_view_name": "LayoutView",
      "align_content": null,
      "align_items": null,
      "align_self": null,
      "border": null,
      "bottom": null,
      "display": null,
      "flex": null,
      "flex_flow": null,
      "grid_area": null,
      "grid_auto_columns": null,
      "grid_auto_flow": null,
      "grid_auto_rows": null,
      "grid_column": null,
      "grid_gap": null,
      "grid_row": null,
      "grid_template_areas": null,
      "grid_template_columns": null,
      "grid_template_rows": null,
      "height": null,
      "justify_content": null,
      "justify_items": null,
      "left": null,
      "margin": null,
      "max_height": null,
      "max_width": null,
      "min_height": null,
      "min_width": null,
      "object_fit": null,
      "object_position": null,
      "order": null,
      "overflow": null,
      "overflow_x": null,
      "overflow_y": null,
      "padding": null,
      "right": null,
      "top": null,
      "visibility": null,
      "width": null
     }
    },
    "567a7823b56d4935b3bf0f2ce8e522f6": {
     "model_module": "@jupyter-widgets/controls",
     "model_name": "FloatProgressModel",
     "state": {
      "_dom_classes": [],
      "_model_module": "@jupyter-widgets/controls",
      "_model_module_version": "1.5.0",
      "_model_name": "FloatProgressModel",
      "_view_count": null,
      "_view_module": "@jupyter-widgets/controls",
      "_view_module_version": "1.5.0",
      "_view_name": "ProgressView",
      "bar_style": "success",
      "description": "100%",
      "description_tooltip": null,
      "layout": "IPY_MODEL_e9ac003ac34145cd8d9b9b8eaa2e4293",
      "max": 39375,
      "min": 0,
      "orientation": "horizontal",
      "style": "IPY_MODEL_d1d3dbf9ee3f4741b13d38098912b4b3",
      "value": 39375
     }
    },
    "5b4dac7a913f4ee79f99f6e5fb47c3a1": {
     "model_module": "@jupyter-widgets/base",
     "model_name": "LayoutModel",
     "state": {
      "_model_module": "@jupyter-widgets/base",
      "_model_module_version": "1.2.0",
      "_model_name": "LayoutModel",
      "_view_count": null,
      "_view_module": "@jupyter-widgets/base",
      "_view_module_version": "1.2.0",
      "_view_name": "LayoutView",
      "align_content": null,
      "align_items": null,
      "align_self": null,
      "border": null,
      "bottom": null,
      "display": null,
      "flex": null,
      "flex_flow": null,
      "grid_area": null,
      "grid_auto_columns": null,
      "grid_auto_flow": null,
      "grid_auto_rows": null,
      "grid_column": null,
      "grid_gap": null,
      "grid_row": null,
      "grid_template_areas": null,
      "grid_template_columns": null,
      "grid_template_rows": null,
      "height": null,
      "justify_content": null,
      "justify_items": null,
      "left": null,
      "margin": null,
      "max_height": null,
      "max_width": null,
      "min_height": null,
      "min_width": null,
      "object_fit": null,
      "object_position": null,
      "order": null,
      "overflow": null,
      "overflow_x": null,
      "overflow_y": null,
      "padding": null,
      "right": null,
      "top": null,
      "visibility": null,
      "width": null
     }
    },
    "5b8115cac6da4816bbf701ace1b10f6b": {
     "model_module": "@jupyter-widgets/base",
     "model_name": "LayoutModel",
     "state": {
      "_model_module": "@jupyter-widgets/base",
      "_model_module_version": "1.2.0",
      "_model_name": "LayoutModel",
      "_view_count": null,
      "_view_module": "@jupyter-widgets/base",
      "_view_module_version": "1.2.0",
      "_view_name": "LayoutView",
      "align_content": null,
      "align_items": null,
      "align_self": null,
      "border": null,
      "bottom": null,
      "display": null,
      "flex": null,
      "flex_flow": null,
      "grid_area": null,
      "grid_auto_columns": null,
      "grid_auto_flow": null,
      "grid_auto_rows": null,
      "grid_column": null,
      "grid_gap": null,
      "grid_row": null,
      "grid_template_areas": null,
      "grid_template_columns": null,
      "grid_template_rows": null,
      "height": null,
      "justify_content": null,
      "justify_items": null,
      "left": null,
      "margin": null,
      "max_height": null,
      "max_width": null,
      "min_height": null,
      "min_width": null,
      "object_fit": null,
      "object_position": null,
      "order": null,
      "overflow": null,
      "overflow_x": null,
      "overflow_y": null,
      "padding": null,
      "right": null,
      "top": null,
      "visibility": null,
      "width": null
     }
    },
    "5b84525df0ea4fcd97b562a3e6abc3f3": {
     "model_module": "@jupyter-widgets/controls",
     "model_name": "HBoxModel",
     "state": {
      "_dom_classes": [],
      "_model_module": "@jupyter-widgets/controls",
      "_model_module_version": "1.5.0",
      "_model_name": "HBoxModel",
      "_view_count": null,
      "_view_module": "@jupyter-widgets/controls",
      "_view_module_version": "1.5.0",
      "_view_name": "HBoxView",
      "box_style": "",
      "children": [
       "IPY_MODEL_300391ed721f47b88b5cc1cda7563b22",
       "IPY_MODEL_9d5064f919ef4f6da24d10fcdf3ce868"
      ],
      "layout": "IPY_MODEL_e04f5c6c765047178db970a33177a3c4"
     }
    },
    "5f8e16b77b944732a59a0f02aacbd5ca": {
     "model_module": "@jupyter-widgets/base",
     "model_name": "LayoutModel",
     "state": {
      "_model_module": "@jupyter-widgets/base",
      "_model_module_version": "1.2.0",
      "_model_name": "LayoutModel",
      "_view_count": null,
      "_view_module": "@jupyter-widgets/base",
      "_view_module_version": "1.2.0",
      "_view_name": "LayoutView",
      "align_content": null,
      "align_items": null,
      "align_self": null,
      "border": null,
      "bottom": null,
      "display": null,
      "flex": null,
      "flex_flow": null,
      "grid_area": null,
      "grid_auto_columns": null,
      "grid_auto_flow": null,
      "grid_auto_rows": null,
      "grid_column": null,
      "grid_gap": null,
      "grid_row": null,
      "grid_template_areas": null,
      "grid_template_columns": null,
      "grid_template_rows": null,
      "height": null,
      "justify_content": null,
      "justify_items": null,
      "left": null,
      "margin": null,
      "max_height": null,
      "max_width": null,
      "min_height": null,
      "min_width": null,
      "object_fit": null,
      "object_position": null,
      "order": null,
      "overflow": null,
      "overflow_x": null,
      "overflow_y": null,
      "padding": null,
      "right": null,
      "top": null,
      "visibility": null,
      "width": null
     }
    },
    "5ff65c2b741e4a0a8f59d93ec1434ec8": {
     "model_module": "@jupyter-widgets/base",
     "model_name": "LayoutModel",
     "state": {
      "_model_module": "@jupyter-widgets/base",
      "_model_module_version": "1.2.0",
      "_model_name": "LayoutModel",
      "_view_count": null,
      "_view_module": "@jupyter-widgets/base",
      "_view_module_version": "1.2.0",
      "_view_name": "LayoutView",
      "align_content": null,
      "align_items": null,
      "align_self": null,
      "border": null,
      "bottom": null,
      "display": null,
      "flex": null,
      "flex_flow": null,
      "grid_area": null,
      "grid_auto_columns": null,
      "grid_auto_flow": null,
      "grid_auto_rows": null,
      "grid_column": null,
      "grid_gap": null,
      "grid_row": null,
      "grid_template_areas": null,
      "grid_template_columns": null,
      "grid_template_rows": null,
      "height": null,
      "justify_content": null,
      "justify_items": null,
      "left": null,
      "margin": null,
      "max_height": null,
      "max_width": null,
      "min_height": null,
      "min_width": null,
      "object_fit": null,
      "object_position": null,
      "order": null,
      "overflow": null,
      "overflow_x": null,
      "overflow_y": null,
      "padding": null,
      "right": null,
      "top": null,
      "visibility": null,
      "width": null
     }
    },
    "60295f19a4414b3b96ada1b023e0f352": {
     "model_module": "@jupyter-widgets/controls",
     "model_name": "DescriptionStyleModel",
     "state": {
      "_model_module": "@jupyter-widgets/controls",
      "_model_module_version": "1.5.0",
      "_model_name": "DescriptionStyleModel",
      "_view_count": null,
      "_view_module": "@jupyter-widgets/base",
      "_view_module_version": "1.2.0",
      "_view_name": "StyleView",
      "description_width": ""
     }
    },
    "6075e525ef674b3db0adcd328d36095a": {
     "model_module": "@jupyter-widgets/controls",
     "model_name": "ProgressStyleModel",
     "state": {
      "_model_module": "@jupyter-widgets/controls",
      "_model_module_version": "1.5.0",
      "_model_name": "ProgressStyleModel",
      "_view_count": null,
      "_view_module": "@jupyter-widgets/base",
      "_view_module_version": "1.2.0",
      "_view_name": "StyleView",
      "bar_color": null,
      "description_width": "initial"
     }
    },
    "60fe13bd1d9b4cafa2e8f57a2733576a": {
     "model_module": "@jupyter-widgets/controls",
     "model_name": "FloatProgressModel",
     "state": {
      "_dom_classes": [],
      "_model_module": "@jupyter-widgets/controls",
      "_model_module_version": "1.5.0",
      "_model_name": "FloatProgressModel",
      "_view_count": null,
      "_view_module": "@jupyter-widgets/controls",
      "_view_module_version": "1.5.0",
      "_view_name": "ProgressView",
      "bar_style": "success",
      "description": "Process zip files ...: 100%",
      "description_tooltip": null,
      "layout": "IPY_MODEL_9a68c6c1ec564f8aad74294016552560",
      "max": 1,
      "min": 0,
      "orientation": "horizontal",
      "style": "IPY_MODEL_132ff4c0e418458db6a55b65f288e72e",
      "value": 1
     }
    },
    "6423d4e3a3f74425b07b4d03a1e80963": {
     "model_module": "@jupyter-widgets/base",
     "model_name": "LayoutModel",
     "state": {
      "_model_module": "@jupyter-widgets/base",
      "_model_module_version": "1.2.0",
      "_model_name": "LayoutModel",
      "_view_count": null,
      "_view_module": "@jupyter-widgets/base",
      "_view_module_version": "1.2.0",
      "_view_name": "LayoutView",
      "align_content": null,
      "align_items": null,
      "align_self": null,
      "border": null,
      "bottom": null,
      "display": null,
      "flex": null,
      "flex_flow": null,
      "grid_area": null,
      "grid_auto_columns": null,
      "grid_auto_flow": null,
      "grid_auto_rows": null,
      "grid_column": null,
      "grid_gap": null,
      "grid_row": null,
      "grid_template_areas": null,
      "grid_template_columns": null,
      "grid_template_rows": null,
      "height": null,
      "justify_content": null,
      "justify_items": null,
      "left": null,
      "margin": null,
      "max_height": null,
      "max_width": null,
      "min_height": null,
      "min_width": null,
      "object_fit": null,
      "object_position": null,
      "order": null,
      "overflow": null,
      "overflow_x": null,
      "overflow_y": null,
      "padding": null,
      "right": null,
      "top": null,
      "visibility": null,
      "width": null
     }
    },
    "6586a294c80140aa8f3b373b3ac72bc1": {
     "model_module": "@jupyter-widgets/controls",
     "model_name": "DescriptionStyleModel",
     "state": {
      "_model_module": "@jupyter-widgets/controls",
      "_model_module_version": "1.5.0",
      "_model_name": "DescriptionStyleModel",
      "_view_count": null,
      "_view_module": "@jupyter-widgets/base",
      "_view_module_version": "1.2.0",
      "_view_name": "StyleView",
      "description_width": ""
     }
    },
    "67018522ffcd4450ac9eb16ccfe4be98": {
     "model_module": "@jupyter-widgets/controls",
     "model_name": "HTMLModel",
     "state": {
      "_dom_classes": [],
      "_model_module": "@jupyter-widgets/controls",
      "_model_module_version": "1.5.0",
      "_model_name": "HTMLModel",
      "_view_count": null,
      "_view_module": "@jupyter-widgets/controls",
      "_view_module_version": "1.5.0",
      "_view_name": "HTMLView",
      "description": "",
      "description_tooltip": null,
      "layout": "IPY_MODEL_f2c032e8745543e99cfdd364e49b186d",
      "placeholder": "​",
      "style": "IPY_MODEL_1a5197359d2f4fa69174617f7450916a",
      "value": " 1500/1500 [00:14&lt;00:00, 100.63it/s]"
     }
    },
    "67dd6ab82a424ce3ac2f48a04a076c87": {
     "model_module": "@jupyter-widgets/controls",
     "model_name": "HBoxModel",
     "state": {
      "_dom_classes": [],
      "_model_module": "@jupyter-widgets/controls",
      "_model_module_version": "1.5.0",
      "_model_name": "HBoxModel",
      "_view_count": null,
      "_view_module": "@jupyter-widgets/controls",
      "_view_module_version": "1.5.0",
      "_view_name": "HBoxView",
      "box_style": "",
      "children": [
       "IPY_MODEL_d42d9ec314f84db39d98347dc1edaa7f",
       "IPY_MODEL_c2d1d6d2b5eb445b83907e00ef61aff0"
      ],
      "layout": "IPY_MODEL_fa9da02696454560a7865fb92499c561"
     }
    },
    "684a0d37e4e44092bb50bf0153bdc0b6": {
     "model_module": "@jupyter-widgets/controls",
     "model_name": "HBoxModel",
     "state": {
      "_dom_classes": [],
      "_model_module": "@jupyter-widgets/controls",
      "_model_module_version": "1.5.0",
      "_model_name": "HBoxModel",
      "_view_count": null,
      "_view_module": "@jupyter-widgets/controls",
      "_view_module_version": "1.5.0",
      "_view_name": "HBoxView",
      "box_style": "",
      "children": [
       "IPY_MODEL_9011b536e9344785b1aa559ea3969066",
       "IPY_MODEL_db7b140ec0104b1296d69d0e01b6e485"
      ],
      "layout": "IPY_MODEL_ddd8b67496894791af3a8dd2ba0faeec"
     }
    },
    "69c4b9b12aac4c42bf54081438e9c4d8": {
     "model_module": "@jupyter-widgets/base",
     "model_name": "LayoutModel",
     "state": {
      "_model_module": "@jupyter-widgets/base",
      "_model_module_version": "1.2.0",
      "_model_name": "LayoutModel",
      "_view_count": null,
      "_view_module": "@jupyter-widgets/base",
      "_view_module_version": "1.2.0",
      "_view_name": "LayoutView",
      "align_content": null,
      "align_items": null,
      "align_self": null,
      "border": null,
      "bottom": null,
      "display": null,
      "flex": null,
      "flex_flow": null,
      "grid_area": null,
      "grid_auto_columns": null,
      "grid_auto_flow": null,
      "grid_auto_rows": null,
      "grid_column": null,
      "grid_gap": null,
      "grid_row": null,
      "grid_template_areas": null,
      "grid_template_columns": null,
      "grid_template_rows": null,
      "height": null,
      "justify_content": null,
      "justify_items": null,
      "left": null,
      "margin": null,
      "max_height": null,
      "max_width": null,
      "min_height": null,
      "min_width": null,
      "object_fit": null,
      "object_position": null,
      "order": null,
      "overflow": null,
      "overflow_x": null,
      "overflow_y": null,
      "padding": null,
      "right": null,
      "top": null,
      "visibility": null,
      "width": null
     }
    },
    "6dd5d3b6ae6d48b68796d22fcdc6b87b": {
     "model_module": "@jupyter-widgets/base",
     "model_name": "LayoutModel",
     "state": {
      "_model_module": "@jupyter-widgets/base",
      "_model_module_version": "1.2.0",
      "_model_name": "LayoutModel",
      "_view_count": null,
      "_view_module": "@jupyter-widgets/base",
      "_view_module_version": "1.2.0",
      "_view_name": "LayoutView",
      "align_content": null,
      "align_items": null,
      "align_self": null,
      "border": null,
      "bottom": null,
      "display": null,
      "flex": null,
      "flex_flow": null,
      "grid_area": null,
      "grid_auto_columns": null,
      "grid_auto_flow": null,
      "grid_auto_rows": null,
      "grid_column": null,
      "grid_gap": null,
      "grid_row": null,
      "grid_template_areas": null,
      "grid_template_columns": null,
      "grid_template_rows": null,
      "height": null,
      "justify_content": null,
      "justify_items": null,
      "left": null,
      "margin": null,
      "max_height": null,
      "max_width": null,
      "min_height": null,
      "min_width": null,
      "object_fit": null,
      "object_position": null,
      "order": null,
      "overflow": null,
      "overflow_x": null,
      "overflow_y": null,
      "padding": null,
      "right": null,
      "top": null,
      "visibility": null,
      "width": null
     }
    },
    "6e6ebc73d934406ab0e354be002c35b1": {
     "model_module": "@jupyter-widgets/controls",
     "model_name": "HTMLModel",
     "state": {
      "_dom_classes": [],
      "_model_module": "@jupyter-widgets/controls",
      "_model_module_version": "1.5.0",
      "_model_name": "HTMLModel",
      "_view_count": null,
      "_view_module": "@jupyter-widgets/controls",
      "_view_module_version": "1.5.0",
      "_view_name": "HTMLView",
      "description": "",
      "description_tooltip": null,
      "layout": "IPY_MODEL_77afba1724314be1a921da3dc471d40c",
      "placeholder": "​",
      "style": "IPY_MODEL_09abde83b1214917bf5f4b06f6b0b9d7",
      "value": " 290/290 [00:01&lt;00:00, 204.83it/s]"
     }
    },
    "6e770e8543c44066989757a89f9b81db": {
     "model_module": "@jupyter-widgets/controls",
     "model_name": "DescriptionStyleModel",
     "state": {
      "_model_module": "@jupyter-widgets/controls",
      "_model_module_version": "1.5.0",
      "_model_name": "DescriptionStyleModel",
      "_view_count": null,
      "_view_module": "@jupyter-widgets/base",
      "_view_module_version": "1.2.0",
      "_view_name": "StyleView",
      "description_width": ""
     }
    },
    "6fa2f97b763945ad8ea5def3ed3d32ed": {
     "model_module": "@jupyter-widgets/controls",
     "model_name": "HTMLModel",
     "state": {
      "_dom_classes": [],
      "_model_module": "@jupyter-widgets/controls",
      "_model_module_version": "1.5.0",
      "_model_name": "HTMLModel",
      "_view_count": null,
      "_view_module": "@jupyter-widgets/controls",
      "_view_module_version": "1.5.0",
      "_view_name": "HTMLView",
      "description": "",
      "description_tooltip": null,
      "layout": "IPY_MODEL_6423d4e3a3f74425b07b4d03a1e80963",
      "placeholder": "​",
      "style": "IPY_MODEL_8ecc1e6d093944ffbc8e51c672ac81d2",
      "value": " 1500/1500 [00:59&lt;00:00, 25.35it/s]"
     }
    },
    "7002834512934d04acae6e0f857e6d48": {
     "model_module": "@jupyter-widgets/base",
     "model_name": "LayoutModel",
     "state": {
      "_model_module": "@jupyter-widgets/base",
      "_model_module_version": "1.2.0",
      "_model_name": "LayoutModel",
      "_view_count": null,
      "_view_module": "@jupyter-widgets/base",
      "_view_module_version": "1.2.0",
      "_view_name": "LayoutView",
      "align_content": null,
      "align_items": null,
      "align_self": null,
      "border": null,
      "bottom": null,
      "display": null,
      "flex": null,
      "flex_flow": null,
      "grid_area": null,
      "grid_auto_columns": null,
      "grid_auto_flow": null,
      "grid_auto_rows": null,
      "grid_column": null,
      "grid_gap": null,
      "grid_row": null,
      "grid_template_areas": null,
      "grid_template_columns": null,
      "grid_template_rows": null,
      "height": null,
      "justify_content": null,
      "justify_items": null,
      "left": null,
      "margin": null,
      "max_height": null,
      "max_width": null,
      "min_height": null,
      "min_width": null,
      "object_fit": null,
      "object_position": null,
      "order": null,
      "overflow": null,
      "overflow_x": null,
      "overflow_y": null,
      "padding": null,
      "right": null,
      "top": null,
      "visibility": null,
      "width": null
     }
    },
    "7047ffbd3c934ee08f79bb8941e610e0": {
     "model_module": "@jupyter-widgets/base",
     "model_name": "LayoutModel",
     "state": {
      "_model_module": "@jupyter-widgets/base",
      "_model_module_version": "1.2.0",
      "_model_name": "LayoutModel",
      "_view_count": null,
      "_view_module": "@jupyter-widgets/base",
      "_view_module_version": "1.2.0",
      "_view_name": "LayoutView",
      "align_content": null,
      "align_items": null,
      "align_self": null,
      "border": null,
      "bottom": null,
      "display": null,
      "flex": null,
      "flex_flow": null,
      "grid_area": null,
      "grid_auto_columns": null,
      "grid_auto_flow": null,
      "grid_auto_rows": null,
      "grid_column": null,
      "grid_gap": null,
      "grid_row": null,
      "grid_template_areas": null,
      "grid_template_columns": null,
      "grid_template_rows": null,
      "height": null,
      "justify_content": null,
      "justify_items": null,
      "left": null,
      "margin": null,
      "max_height": null,
      "max_width": null,
      "min_height": null,
      "min_width": null,
      "object_fit": null,
      "object_position": null,
      "order": null,
      "overflow": null,
      "overflow_x": null,
      "overflow_y": null,
      "padding": null,
      "right": null,
      "top": null,
      "visibility": null,
      "width": null
     }
    },
    "708bea2276cf496288e24cef985ab204": {
     "model_module": "@jupyter-widgets/controls",
     "model_name": "HBoxModel",
     "state": {
      "_dom_classes": [],
      "_model_module": "@jupyter-widgets/controls",
      "_model_module_version": "1.5.0",
      "_model_name": "HBoxModel",
      "_view_count": null,
      "_view_module": "@jupyter-widgets/controls",
      "_view_module_version": "1.5.0",
      "_view_name": "HBoxView",
      "box_style": "",
      "children": [
       "IPY_MODEL_3e563cb2a12a45ed9156cac942ab6859",
       "IPY_MODEL_a4e40c06356a4bc4b6818220565ec4e5"
      ],
      "layout": "IPY_MODEL_7002834512934d04acae6e0f857e6d48"
     }
    },
    "716619200f7d474788e92f6f9664aa16": {
     "model_module": "@jupyter-widgets/base",
     "model_name": "LayoutModel",
     "state": {
      "_model_module": "@jupyter-widgets/base",
      "_model_module_version": "1.2.0",
      "_model_name": "LayoutModel",
      "_view_count": null,
      "_view_module": "@jupyter-widgets/base",
      "_view_module_version": "1.2.0",
      "_view_name": "LayoutView",
      "align_content": null,
      "align_items": null,
      "align_self": null,
      "border": null,
      "bottom": null,
      "display": null,
      "flex": null,
      "flex_flow": null,
      "grid_area": null,
      "grid_auto_columns": null,
      "grid_auto_flow": null,
      "grid_auto_rows": null,
      "grid_column": null,
      "grid_gap": null,
      "grid_row": null,
      "grid_template_areas": null,
      "grid_template_columns": null,
      "grid_template_rows": null,
      "height": null,
      "justify_content": null,
      "justify_items": null,
      "left": null,
      "margin": null,
      "max_height": null,
      "max_width": null,
      "min_height": null,
      "min_width": null,
      "object_fit": null,
      "object_position": null,
      "order": null,
      "overflow": null,
      "overflow_x": null,
      "overflow_y": null,
      "padding": null,
      "right": null,
      "top": null,
      "visibility": null,
      "width": null
     }
    },
    "73b6cf3da8614bfdadbefe668daeb3c7": {
     "model_module": "@jupyter-widgets/base",
     "model_name": "LayoutModel",
     "state": {
      "_model_module": "@jupyter-widgets/base",
      "_model_module_version": "1.2.0",
      "_model_name": "LayoutModel",
      "_view_count": null,
      "_view_module": "@jupyter-widgets/base",
      "_view_module_version": "1.2.0",
      "_view_name": "LayoutView",
      "align_content": null,
      "align_items": null,
      "align_self": null,
      "border": null,
      "bottom": null,
      "display": null,
      "flex": null,
      "flex_flow": null,
      "grid_area": null,
      "grid_auto_columns": null,
      "grid_auto_flow": null,
      "grid_auto_rows": null,
      "grid_column": null,
      "grid_gap": null,
      "grid_row": null,
      "grid_template_areas": null,
      "grid_template_columns": null,
      "grid_template_rows": null,
      "height": null,
      "justify_content": null,
      "justify_items": null,
      "left": null,
      "margin": null,
      "max_height": null,
      "max_width": null,
      "min_height": null,
      "min_width": null,
      "object_fit": null,
      "object_position": null,
      "order": null,
      "overflow": null,
      "overflow_x": null,
      "overflow_y": null,
      "padding": null,
      "right": null,
      "top": null,
      "visibility": null,
      "width": null
     }
    },
    "73f8a1e0718d412a929e7be362a22614": {
     "model_module": "@jupyter-widgets/controls",
     "model_name": "HBoxModel",
     "state": {
      "_dom_classes": [],
      "_model_module": "@jupyter-widgets/controls",
      "_model_module_version": "1.5.0",
      "_model_name": "HBoxModel",
      "_view_count": null,
      "_view_module": "@jupyter-widgets/controls",
      "_view_module_version": "1.5.0",
      "_view_name": "HBoxView",
      "box_style": "",
      "children": [
       "IPY_MODEL_d65d8be2d5ba4eea846e30fd6a1c773d",
       "IPY_MODEL_e9e39a00203440d19ef9d1c5d0335a31"
      ],
      "layout": "IPY_MODEL_73b6cf3da8614bfdadbefe668daeb3c7"
     }
    },
    "763eb483197745f1a6edc0410a960240": {
     "model_module": "@jupyter-widgets/controls",
     "model_name": "HTMLModel",
     "state": {
      "_dom_classes": [],
      "_model_module": "@jupyter-widgets/controls",
      "_model_module_version": "1.5.0",
      "_model_name": "HTMLModel",
      "_view_count": null,
      "_view_module": "@jupyter-widgets/controls",
      "_view_module_version": "1.5.0",
      "_view_name": "HTMLView",
      "description": "",
      "description_tooltip": null,
      "layout": "IPY_MODEL_18a6b64ecd1f4b908ba46f3242382009",
      "placeholder": "​",
      "style": "IPY_MODEL_984630b23f6c483f927f622830689aa6",
      "value": " 14337/14337 [01:28&lt;00:00, 162.40it/s]"
     }
    },
    "77afba1724314be1a921da3dc471d40c": {
     "model_module": "@jupyter-widgets/base",
     "model_name": "LayoutModel",
     "state": {
      "_model_module": "@jupyter-widgets/base",
      "_model_module_version": "1.2.0",
      "_model_name": "LayoutModel",
      "_view_count": null,
      "_view_module": "@jupyter-widgets/base",
      "_view_module_version": "1.2.0",
      "_view_name": "LayoutView",
      "align_content": null,
      "align_items": null,
      "align_self": null,
      "border": null,
      "bottom": null,
      "display": null,
      "flex": null,
      "flex_flow": null,
      "grid_area": null,
      "grid_auto_columns": null,
      "grid_auto_flow": null,
      "grid_auto_rows": null,
      "grid_column": null,
      "grid_gap": null,
      "grid_row": null,
      "grid_template_areas": null,
      "grid_template_columns": null,
      "grid_template_rows": null,
      "height": null,
      "justify_content": null,
      "justify_items": null,
      "left": null,
      "margin": null,
      "max_height": null,
      "max_width": null,
      "min_height": null,
      "min_width": null,
      "object_fit": null,
      "object_position": null,
      "order": null,
      "overflow": null,
      "overflow_x": null,
      "overflow_y": null,
      "padding": null,
      "right": null,
      "top": null,
      "visibility": null,
      "width": null
     }
    },
    "789610cd098f4d4d90134e73c53af32b": {
     "model_module": "@jupyter-widgets/base",
     "model_name": "LayoutModel",
     "state": {
      "_model_module": "@jupyter-widgets/base",
      "_model_module_version": "1.2.0",
      "_model_name": "LayoutModel",
      "_view_count": null,
      "_view_module": "@jupyter-widgets/base",
      "_view_module_version": "1.2.0",
      "_view_name": "LayoutView",
      "align_content": null,
      "align_items": null,
      "align_self": null,
      "border": null,
      "bottom": null,
      "display": null,
      "flex": null,
      "flex_flow": null,
      "grid_area": null,
      "grid_auto_columns": null,
      "grid_auto_flow": null,
      "grid_auto_rows": null,
      "grid_column": null,
      "grid_gap": null,
      "grid_row": null,
      "grid_template_areas": null,
      "grid_template_columns": null,
      "grid_template_rows": null,
      "height": null,
      "justify_content": null,
      "justify_items": null,
      "left": null,
      "margin": null,
      "max_height": null,
      "max_width": null,
      "min_height": null,
      "min_width": null,
      "object_fit": null,
      "object_position": null,
      "order": null,
      "overflow": null,
      "overflow_x": null,
      "overflow_y": null,
      "padding": null,
      "right": null,
      "top": null,
      "visibility": null,
      "width": null
     }
    },
    "7c0401ee141b42e49b73adba1531ba85": {
     "model_module": "@jupyter-widgets/base",
     "model_name": "LayoutModel",
     "state": {
      "_model_module": "@jupyter-widgets/base",
      "_model_module_version": "1.2.0",
      "_model_name": "LayoutModel",
      "_view_count": null,
      "_view_module": "@jupyter-widgets/base",
      "_view_module_version": "1.2.0",
      "_view_name": "LayoutView",
      "align_content": null,
      "align_items": null,
      "align_self": null,
      "border": null,
      "bottom": null,
      "display": null,
      "flex": null,
      "flex_flow": null,
      "grid_area": null,
      "grid_auto_columns": null,
      "grid_auto_flow": null,
      "grid_auto_rows": null,
      "grid_column": null,
      "grid_gap": null,
      "grid_row": null,
      "grid_template_areas": null,
      "grid_template_columns": null,
      "grid_template_rows": null,
      "height": null,
      "justify_content": null,
      "justify_items": null,
      "left": null,
      "margin": null,
      "max_height": null,
      "max_width": null,
      "min_height": null,
      "min_width": null,
      "object_fit": null,
      "object_position": null,
      "order": null,
      "overflow": null,
      "overflow_x": null,
      "overflow_y": null,
      "padding": null,
      "right": null,
      "top": null,
      "visibility": null,
      "width": null
     }
    },
    "7c74ba61c38c4e05a927976cc60c70d5": {
     "model_module": "@jupyter-widgets/base",
     "model_name": "LayoutModel",
     "state": {
      "_model_module": "@jupyter-widgets/base",
      "_model_module_version": "1.2.0",
      "_model_name": "LayoutModel",
      "_view_count": null,
      "_view_module": "@jupyter-widgets/base",
      "_view_module_version": "1.2.0",
      "_view_name": "LayoutView",
      "align_content": null,
      "align_items": null,
      "align_self": null,
      "border": null,
      "bottom": null,
      "display": null,
      "flex": null,
      "flex_flow": null,
      "grid_area": null,
      "grid_auto_columns": null,
      "grid_auto_flow": null,
      "grid_auto_rows": null,
      "grid_column": null,
      "grid_gap": null,
      "grid_row": null,
      "grid_template_areas": null,
      "grid_template_columns": null,
      "grid_template_rows": null,
      "height": null,
      "justify_content": null,
      "justify_items": null,
      "left": null,
      "margin": null,
      "max_height": null,
      "max_width": null,
      "min_height": null,
      "min_width": null,
      "object_fit": null,
      "object_position": null,
      "order": null,
      "overflow": null,
      "overflow_x": null,
      "overflow_y": null,
      "padding": null,
      "right": null,
      "top": null,
      "visibility": null,
      "width": null
     }
    },
    "7dc788487aca487e9b953c97f231c2cf": {
     "model_module": "@jupyter-widgets/controls",
     "model_name": "DescriptionStyleModel",
     "state": {
      "_model_module": "@jupyter-widgets/controls",
      "_model_module_version": "1.5.0",
      "_model_name": "DescriptionStyleModel",
      "_view_count": null,
      "_view_module": "@jupyter-widgets/base",
      "_view_module_version": "1.2.0",
      "_view_name": "StyleView",
      "description_width": ""
     }
    },
    "819c328eb17e44b988ce08bb5f495c55": {
     "model_module": "@jupyter-widgets/controls",
     "model_name": "FloatProgressModel",
     "state": {
      "_dom_classes": [],
      "_model_module": "@jupyter-widgets/controls",
      "_model_module_version": "1.5.0",
      "_model_name": "FloatProgressModel",
      "_view_count": null,
      "_view_module": "@jupyter-widgets/controls",
      "_view_module_version": "1.5.0",
      "_view_name": "ProgressView",
      "bar_style": "success",
      "description": "100%",
      "description_tooltip": null,
      "layout": "IPY_MODEL_8dc14e28f38442a686b60c6ce4daab55",
      "max": 344,
      "min": 0,
      "orientation": "horizontal",
      "style": "IPY_MODEL_acd634371392490b966761de2f876b67",
      "value": 344
     }
    },
    "81da33185be14b4481f6ca10298102e8": {
     "model_module": "@jupyter-widgets/controls",
     "model_name": "DescriptionStyleModel",
     "state": {
      "_model_module": "@jupyter-widgets/controls",
      "_model_module_version": "1.5.0",
      "_model_name": "DescriptionStyleModel",
      "_view_count": null,
      "_view_module": "@jupyter-widgets/base",
      "_view_module_version": "1.2.0",
      "_view_name": "StyleView",
      "description_width": ""
     }
    },
    "8203a7fd7e3a422484dee252f7578839": {
     "model_module": "@jupyter-widgets/base",
     "model_name": "LayoutModel",
     "state": {
      "_model_module": "@jupyter-widgets/base",
      "_model_module_version": "1.2.0",
      "_model_name": "LayoutModel",
      "_view_count": null,
      "_view_module": "@jupyter-widgets/base",
      "_view_module_version": "1.2.0",
      "_view_name": "LayoutView",
      "align_content": null,
      "align_items": null,
      "align_self": null,
      "border": null,
      "bottom": null,
      "display": null,
      "flex": null,
      "flex_flow": null,
      "grid_area": null,
      "grid_auto_columns": null,
      "grid_auto_flow": null,
      "grid_auto_rows": null,
      "grid_column": null,
      "grid_gap": null,
      "grid_row": null,
      "grid_template_areas": null,
      "grid_template_columns": null,
      "grid_template_rows": null,
      "height": null,
      "justify_content": null,
      "justify_items": null,
      "left": null,
      "margin": null,
      "max_height": null,
      "max_width": null,
      "min_height": null,
      "min_width": null,
      "object_fit": null,
      "object_position": null,
      "order": null,
      "overflow": null,
      "overflow_x": null,
      "overflow_y": null,
      "padding": null,
      "right": null,
      "top": null,
      "visibility": null,
      "width": null
     }
    },
    "83a9008f83ca4eac9e5b5113460f9876": {
     "model_module": "@jupyter-widgets/base",
     "model_name": "LayoutModel",
     "state": {
      "_model_module": "@jupyter-widgets/base",
      "_model_module_version": "1.2.0",
      "_model_name": "LayoutModel",
      "_view_count": null,
      "_view_module": "@jupyter-widgets/base",
      "_view_module_version": "1.2.0",
      "_view_name": "LayoutView",
      "align_content": null,
      "align_items": null,
      "align_self": null,
      "border": null,
      "bottom": null,
      "display": null,
      "flex": null,
      "flex_flow": null,
      "grid_area": null,
      "grid_auto_columns": null,
      "grid_auto_flow": null,
      "grid_auto_rows": null,
      "grid_column": null,
      "grid_gap": null,
      "grid_row": null,
      "grid_template_areas": null,
      "grid_template_columns": null,
      "grid_template_rows": null,
      "height": null,
      "justify_content": null,
      "justify_items": null,
      "left": null,
      "margin": null,
      "max_height": null,
      "max_width": null,
      "min_height": null,
      "min_width": null,
      "object_fit": null,
      "object_position": null,
      "order": null,
      "overflow": null,
      "overflow_x": null,
      "overflow_y": null,
      "padding": null,
      "right": null,
      "top": null,
      "visibility": null,
      "width": null
     }
    },
    "86031eea0b6d43f78255f355fdce9d33": {
     "model_module": "@jupyter-widgets/controls",
     "model_name": "HTMLModel",
     "state": {
      "_dom_classes": [],
      "_model_module": "@jupyter-widgets/controls",
      "_model_module_version": "1.5.0",
      "_model_name": "HTMLModel",
      "_view_count": null,
      "_view_module": "@jupyter-widgets/controls",
      "_view_module_version": "1.5.0",
      "_view_name": "HTMLView",
      "description": "",
      "description_tooltip": null,
      "layout": "IPY_MODEL_dd8484bb485c4fa09cb7c45415007530",
      "placeholder": "​",
      "style": "IPY_MODEL_7dc788487aca487e9b953c97f231c2cf",
      "value": " 39375/39375 [00:18&lt;00:00, 2086.41it/s]"
     }
    },
    "8854c391ea774b8f91dfb56900e276c5": {
     "model_module": "@jupyter-widgets/controls",
     "model_name": "ProgressStyleModel",
     "state": {
      "_model_module": "@jupyter-widgets/controls",
      "_model_module_version": "1.5.0",
      "_model_name": "ProgressStyleModel",
      "_view_count": null,
      "_view_module": "@jupyter-widgets/base",
      "_view_module_version": "1.2.0",
      "_view_name": "StyleView",
      "bar_color": null,
      "description_width": "initial"
     }
    },
    "88cb70e265b14ca786125620e84d3242": {
     "model_module": "@jupyter-widgets/base",
     "model_name": "LayoutModel",
     "state": {
      "_model_module": "@jupyter-widgets/base",
      "_model_module_version": "1.2.0",
      "_model_name": "LayoutModel",
      "_view_count": null,
      "_view_module": "@jupyter-widgets/base",
      "_view_module_version": "1.2.0",
      "_view_name": "LayoutView",
      "align_content": null,
      "align_items": null,
      "align_self": null,
      "border": null,
      "bottom": null,
      "display": null,
      "flex": null,
      "flex_flow": null,
      "grid_area": null,
      "grid_auto_columns": null,
      "grid_auto_flow": null,
      "grid_auto_rows": null,
      "grid_column": null,
      "grid_gap": null,
      "grid_row": null,
      "grid_template_areas": null,
      "grid_template_columns": null,
      "grid_template_rows": null,
      "height": null,
      "justify_content": null,
      "justify_items": null,
      "left": null,
      "margin": null,
      "max_height": null,
      "max_width": null,
      "min_height": null,
      "min_width": null,
      "object_fit": null,
      "object_position": null,
      "order": null,
      "overflow": null,
      "overflow_x": null,
      "overflow_y": null,
      "padding": null,
      "right": null,
      "top": null,
      "visibility": null,
      "width": null
     }
    },
    "8936ddadc31c4fc0af8d49b920121462": {
     "model_module": "@jupyter-widgets/controls",
     "model_name": "HBoxModel",
     "state": {
      "_dom_classes": [],
      "_model_module": "@jupyter-widgets/controls",
      "_model_module_version": "1.5.0",
      "_model_name": "HBoxModel",
      "_view_count": null,
      "_view_module": "@jupyter-widgets/controls",
      "_view_module_version": "1.5.0",
      "_view_name": "HBoxView",
      "box_style": "",
      "children": [
       "IPY_MODEL_ff3263f1ef734e3db98f6e0c6b5a2b2a",
       "IPY_MODEL_67018522ffcd4450ac9eb16ccfe4be98"
      ],
      "layout": "IPY_MODEL_88cb70e265b14ca786125620e84d3242"
     }
    },
    "8dc14e28f38442a686b60c6ce4daab55": {
     "model_module": "@jupyter-widgets/base",
     "model_name": "LayoutModel",
     "state": {
      "_model_module": "@jupyter-widgets/base",
      "_model_module_version": "1.2.0",
      "_model_name": "LayoutModel",
      "_view_count": null,
      "_view_module": "@jupyter-widgets/base",
      "_view_module_version": "1.2.0",
      "_view_name": "LayoutView",
      "align_content": null,
      "align_items": null,
      "align_self": null,
      "border": null,
      "bottom": null,
      "display": null,
      "flex": null,
      "flex_flow": null,
      "grid_area": null,
      "grid_auto_columns": null,
      "grid_auto_flow": null,
      "grid_auto_rows": null,
      "grid_column": null,
      "grid_gap": null,
      "grid_row": null,
      "grid_template_areas": null,
      "grid_template_columns": null,
      "grid_template_rows": null,
      "height": null,
      "justify_content": null,
      "justify_items": null,
      "left": null,
      "margin": null,
      "max_height": null,
      "max_width": null,
      "min_height": null,
      "min_width": null,
      "object_fit": null,
      "object_position": null,
      "order": null,
      "overflow": null,
      "overflow_x": null,
      "overflow_y": null,
      "padding": null,
      "right": null,
      "top": null,
      "visibility": null,
      "width": null
     }
    },
    "8ea7fb841146457abf72d7a30a1f8ca0": {
     "model_module": "@jupyter-widgets/base",
     "model_name": "LayoutModel",
     "state": {
      "_model_module": "@jupyter-widgets/base",
      "_model_module_version": "1.2.0",
      "_model_name": "LayoutModel",
      "_view_count": null,
      "_view_module": "@jupyter-widgets/base",
      "_view_module_version": "1.2.0",
      "_view_name": "LayoutView",
      "align_content": null,
      "align_items": null,
      "align_self": null,
      "border": null,
      "bottom": null,
      "display": null,
      "flex": null,
      "flex_flow": null,
      "grid_area": null,
      "grid_auto_columns": null,
      "grid_auto_flow": null,
      "grid_auto_rows": null,
      "grid_column": null,
      "grid_gap": null,
      "grid_row": null,
      "grid_template_areas": null,
      "grid_template_columns": null,
      "grid_template_rows": null,
      "height": null,
      "justify_content": null,
      "justify_items": null,
      "left": null,
      "margin": null,
      "max_height": null,
      "max_width": null,
      "min_height": null,
      "min_width": null,
      "object_fit": null,
      "object_position": null,
      "order": null,
      "overflow": null,
      "overflow_x": null,
      "overflow_y": null,
      "padding": null,
      "right": null,
      "top": null,
      "visibility": null,
      "width": null
     }
    },
    "8ecc1e6d093944ffbc8e51c672ac81d2": {
     "model_module": "@jupyter-widgets/controls",
     "model_name": "DescriptionStyleModel",
     "state": {
      "_model_module": "@jupyter-widgets/controls",
      "_model_module_version": "1.5.0",
      "_model_name": "DescriptionStyleModel",
      "_view_count": null,
      "_view_module": "@jupyter-widgets/base",
      "_view_module_version": "1.2.0",
      "_view_name": "StyleView",
      "description_width": ""
     }
    },
    "9011b536e9344785b1aa559ea3969066": {
     "model_module": "@jupyter-widgets/controls",
     "model_name": "FloatProgressModel",
     "state": {
      "_dom_classes": [],
      "_model_module": "@jupyter-widgets/controls",
      "_model_module_version": "1.5.0",
      "_model_name": "FloatProgressModel",
      "_view_count": null,
      "_view_module": "@jupyter-widgets/controls",
      "_view_module_version": "1.5.0",
      "_view_name": "ProgressView",
      "bar_style": "success",
      "description": "Loading ...: 100%",
      "description_tooltip": null,
      "layout": "IPY_MODEL_97f2035ea8ac482bbb1f57154e17e4cc",
      "max": 1500,
      "min": 0,
      "orientation": "horizontal",
      "style": "IPY_MODEL_ec63fc926ec547bbb5fda854ae9d022b",
      "value": 1500
     }
    },
    "92ab1ed687f14f45a768be709b8c9e85": {
     "model_module": "@jupyter-widgets/base",
     "model_name": "LayoutModel",
     "state": {
      "_model_module": "@jupyter-widgets/base",
      "_model_module_version": "1.2.0",
      "_model_name": "LayoutModel",
      "_view_count": null,
      "_view_module": "@jupyter-widgets/base",
      "_view_module_version": "1.2.0",
      "_view_name": "LayoutView",
      "align_content": null,
      "align_items": null,
      "align_self": null,
      "border": null,
      "bottom": null,
      "display": null,
      "flex": null,
      "flex_flow": null,
      "grid_area": null,
      "grid_auto_columns": null,
      "grid_auto_flow": null,
      "grid_auto_rows": null,
      "grid_column": null,
      "grid_gap": null,
      "grid_row": null,
      "grid_template_areas": null,
      "grid_template_columns": null,
      "grid_template_rows": null,
      "height": null,
      "justify_content": null,
      "justify_items": null,
      "left": null,
      "margin": null,
      "max_height": null,
      "max_width": null,
      "min_height": null,
      "min_width": null,
      "object_fit": null,
      "object_position": null,
      "order": null,
      "overflow": null,
      "overflow_x": null,
      "overflow_y": null,
      "padding": null,
      "right": null,
      "top": null,
      "visibility": null,
      "width": null
     }
    },
    "9420fe7e704543cf9df6e58a5e9af61c": {
     "model_module": "@jupyter-widgets/controls",
     "model_name": "ProgressStyleModel",
     "state": {
      "_model_module": "@jupyter-widgets/controls",
      "_model_module_version": "1.5.0",
      "_model_name": "ProgressStyleModel",
      "_view_count": null,
      "_view_module": "@jupyter-widgets/base",
      "_view_module_version": "1.2.0",
      "_view_name": "StyleView",
      "bar_color": null,
      "description_width": "initial"
     }
    },
    "959cc29f929e421bb204cf24505c54d2": {
     "model_module": "@jupyter-widgets/base",
     "model_name": "LayoutModel",
     "state": {
      "_model_module": "@jupyter-widgets/base",
      "_model_module_version": "1.2.0",
      "_model_name": "LayoutModel",
      "_view_count": null,
      "_view_module": "@jupyter-widgets/base",
      "_view_module_version": "1.2.0",
      "_view_name": "LayoutView",
      "align_content": null,
      "align_items": null,
      "align_self": null,
      "border": null,
      "bottom": null,
      "display": null,
      "flex": null,
      "flex_flow": null,
      "grid_area": null,
      "grid_auto_columns": null,
      "grid_auto_flow": null,
      "grid_auto_rows": null,
      "grid_column": null,
      "grid_gap": null,
      "grid_row": null,
      "grid_template_areas": null,
      "grid_template_columns": null,
      "grid_template_rows": null,
      "height": null,
      "justify_content": null,
      "justify_items": null,
      "left": null,
      "margin": null,
      "max_height": null,
      "max_width": null,
      "min_height": null,
      "min_width": null,
      "object_fit": null,
      "object_position": null,
      "order": null,
      "overflow": null,
      "overflow_x": null,
      "overflow_y": null,
      "padding": null,
      "right": null,
      "top": null,
      "visibility": null,
      "width": null
     }
    },
    "96c501c4aebf40ee9c13501bef13d240": {
     "model_module": "@jupyter-widgets/controls",
     "model_name": "HTMLModel",
     "state": {
      "_dom_classes": [],
      "_model_module": "@jupyter-widgets/controls",
      "_model_module_version": "1.5.0",
      "_model_name": "HTMLModel",
      "_view_count": null,
      "_view_module": "@jupyter-widgets/controls",
      "_view_module_version": "1.5.0",
      "_view_name": "HTMLView",
      "description": "",
      "description_tooltip": null,
      "layout": "IPY_MODEL_fb112a2cf3a947e18451a0b1748e96d6",
      "placeholder": "​",
      "style": "IPY_MODEL_e4be4469aa91486e95c202974a9433f7",
      "value": " 39282/39282 [00:16&lt;00:00, 2388.32it/s]"
     }
    },
    "96ca4c8069504b099498c2d74005b405": {
     "model_module": "@jupyter-widgets/controls",
     "model_name": "DescriptionStyleModel",
     "state": {
      "_model_module": "@jupyter-widgets/controls",
      "_model_module_version": "1.5.0",
      "_model_name": "DescriptionStyleModel",
      "_view_count": null,
      "_view_module": "@jupyter-widgets/base",
      "_view_module_version": "1.2.0",
      "_view_name": "StyleView",
      "description_width": ""
     }
    },
    "9765cb30756c4d709657352e117d6bde": {
     "model_module": "@jupyter-widgets/controls",
     "model_name": "HBoxModel",
     "state": {
      "_dom_classes": [],
      "_model_module": "@jupyter-widgets/controls",
      "_model_module_version": "1.5.0",
      "_model_name": "HBoxModel",
      "_view_count": null,
      "_view_module": "@jupyter-widgets/controls",
      "_view_module_version": "1.5.0",
      "_view_name": "HBoxView",
      "box_style": "",
      "children": [
       "IPY_MODEL_abab8499c3074f289a8f87e2d72ae288",
       "IPY_MODEL_d620790066d747789a71682e08fd5063"
      ],
      "layout": "IPY_MODEL_1b7e45e1ce7b45caa6e460651d6aa392"
     }
    },
    "97f2035ea8ac482bbb1f57154e17e4cc": {
     "model_module": "@jupyter-widgets/base",
     "model_name": "LayoutModel",
     "state": {
      "_model_module": "@jupyter-widgets/base",
      "_model_module_version": "1.2.0",
      "_model_name": "LayoutModel",
      "_view_count": null,
      "_view_module": "@jupyter-widgets/base",
      "_view_module_version": "1.2.0",
      "_view_name": "LayoutView",
      "align_content": null,
      "align_items": null,
      "align_self": null,
      "border": null,
      "bottom": null,
      "display": null,
      "flex": null,
      "flex_flow": null,
      "grid_area": null,
      "grid_auto_columns": null,
      "grid_auto_flow": null,
      "grid_auto_rows": null,
      "grid_column": null,
      "grid_gap": null,
      "grid_row": null,
      "grid_template_areas": null,
      "grid_template_columns": null,
      "grid_template_rows": null,
      "height": null,
      "justify_content": null,
      "justify_items": null,
      "left": null,
      "margin": null,
      "max_height": null,
      "max_width": null,
      "min_height": null,
      "min_width": null,
      "object_fit": null,
      "object_position": null,
      "order": null,
      "overflow": null,
      "overflow_x": null,
      "overflow_y": null,
      "padding": null,
      "right": null,
      "top": null,
      "visibility": null,
      "width": null
     }
    },
    "984630b23f6c483f927f622830689aa6": {
     "model_module": "@jupyter-widgets/controls",
     "model_name": "DescriptionStyleModel",
     "state": {
      "_model_module": "@jupyter-widgets/controls",
      "_model_module_version": "1.5.0",
      "_model_name": "DescriptionStyleModel",
      "_view_count": null,
      "_view_module": "@jupyter-widgets/base",
      "_view_module_version": "1.2.0",
      "_view_name": "StyleView",
      "description_width": ""
     }
    },
    "99319ed668cc47bc97db38f4fd0f427e": {
     "model_module": "@jupyter-widgets/controls",
     "model_name": "DescriptionStyleModel",
     "state": {
      "_model_module": "@jupyter-widgets/controls",
      "_model_module_version": "1.5.0",
      "_model_name": "DescriptionStyleModel",
      "_view_count": null,
      "_view_module": "@jupyter-widgets/base",
      "_view_module_version": "1.2.0",
      "_view_name": "StyleView",
      "description_width": ""
     }
    },
    "9a68c6c1ec564f8aad74294016552560": {
     "model_module": "@jupyter-widgets/base",
     "model_name": "LayoutModel",
     "state": {
      "_model_module": "@jupyter-widgets/base",
      "_model_module_version": "1.2.0",
      "_model_name": "LayoutModel",
      "_view_count": null,
      "_view_module": "@jupyter-widgets/base",
      "_view_module_version": "1.2.0",
      "_view_name": "LayoutView",
      "align_content": null,
      "align_items": null,
      "align_self": null,
      "border": null,
      "bottom": null,
      "display": null,
      "flex": null,
      "flex_flow": null,
      "grid_area": null,
      "grid_auto_columns": null,
      "grid_auto_flow": null,
      "grid_auto_rows": null,
      "grid_column": null,
      "grid_gap": null,
      "grid_row": null,
      "grid_template_areas": null,
      "grid_template_columns": null,
      "grid_template_rows": null,
      "height": null,
      "justify_content": null,
      "justify_items": null,
      "left": null,
      "margin": null,
      "max_height": null,
      "max_width": null,
      "min_height": null,
      "min_width": null,
      "object_fit": null,
      "object_position": null,
      "order": null,
      "overflow": null,
      "overflow_x": null,
      "overflow_y": null,
      "padding": null,
      "right": null,
      "top": null,
      "visibility": null,
      "width": null
     }
    },
    "9a9d8ef6aa0143a28852b5786291b13e": {
     "model_module": "@jupyter-widgets/base",
     "model_name": "LayoutModel",
     "state": {
      "_model_module": "@jupyter-widgets/base",
      "_model_module_version": "1.2.0",
      "_model_name": "LayoutModel",
      "_view_count": null,
      "_view_module": "@jupyter-widgets/base",
      "_view_module_version": "1.2.0",
      "_view_name": "LayoutView",
      "align_content": null,
      "align_items": null,
      "align_self": null,
      "border": null,
      "bottom": null,
      "display": null,
      "flex": null,
      "flex_flow": null,
      "grid_area": null,
      "grid_auto_columns": null,
      "grid_auto_flow": null,
      "grid_auto_rows": null,
      "grid_column": null,
      "grid_gap": null,
      "grid_row": null,
      "grid_template_areas": null,
      "grid_template_columns": null,
      "grid_template_rows": null,
      "height": null,
      "justify_content": null,
      "justify_items": null,
      "left": null,
      "margin": null,
      "max_height": null,
      "max_width": null,
      "min_height": null,
      "min_width": null,
      "object_fit": null,
      "object_position": null,
      "order": null,
      "overflow": null,
      "overflow_x": null,
      "overflow_y": null,
      "padding": null,
      "right": null,
      "top": null,
      "visibility": null,
      "width": null
     }
    },
    "9d44214491ce444c86a5323ea3942ca8": {
     "model_module": "@jupyter-widgets/controls",
     "model_name": "HTMLModel",
     "state": {
      "_dom_classes": [],
      "_model_module": "@jupyter-widgets/controls",
      "_model_module_version": "1.5.0",
      "_model_name": "HTMLModel",
      "_view_count": null,
      "_view_module": "@jupyter-widgets/controls",
      "_view_module_version": "1.5.0",
      "_view_name": "HTMLView",
      "description": "",
      "description_tooltip": null,
      "layout": "IPY_MODEL_54fefb6bae714837a83460aeda8a7ae2",
      "placeholder": "​",
      "style": "IPY_MODEL_355ef9988241416e8535cbfdb8bf026e",
      "value": " 1/1 [00:00&lt;00:00,  6.53it/s]"
     }
    },
    "9d5064f919ef4f6da24d10fcdf3ce868": {
     "model_module": "@jupyter-widgets/controls",
     "model_name": "HTMLModel",
     "state": {
      "_dom_classes": [],
      "_model_module": "@jupyter-widgets/controls",
      "_model_module_version": "1.5.0",
      "_model_name": "HTMLModel",
      "_view_count": null,
      "_view_module": "@jupyter-widgets/controls",
      "_view_module_version": "1.5.0",
      "_view_name": "HTMLView",
      "description": "",
      "description_tooltip": null,
      "layout": "IPY_MODEL_789610cd098f4d4d90134e73c53af32b",
      "placeholder": "​",
      "style": "IPY_MODEL_1d3d84acd63849308fb2cd682779a2b1",
      "value": " 1/1 [00:02&lt;00:00,  2.59s/it]"
     }
    },
    "9e991ccedcd64dcfaed35239d3d02d7e": {
     "model_module": "@jupyter-widgets/controls",
     "model_name": "DescriptionStyleModel",
     "state": {
      "_model_module": "@jupyter-widgets/controls",
      "_model_module_version": "1.5.0",
      "_model_name": "DescriptionStyleModel",
      "_view_count": null,
      "_view_module": "@jupyter-widgets/base",
      "_view_module_version": "1.2.0",
      "_view_name": "StyleView",
      "description_width": ""
     }
    },
    "9f305e52abe446deb2f66032afe1ccfb": {
     "model_module": "@jupyter-widgets/base",
     "model_name": "LayoutModel",
     "state": {
      "_model_module": "@jupyter-widgets/base",
      "_model_module_version": "1.2.0",
      "_model_name": "LayoutModel",
      "_view_count": null,
      "_view_module": "@jupyter-widgets/base",
      "_view_module_version": "1.2.0",
      "_view_name": "LayoutView",
      "align_content": null,
      "align_items": null,
      "align_self": null,
      "border": null,
      "bottom": null,
      "display": null,
      "flex": null,
      "flex_flow": null,
      "grid_area": null,
      "grid_auto_columns": null,
      "grid_auto_flow": null,
      "grid_auto_rows": null,
      "grid_column": null,
      "grid_gap": null,
      "grid_row": null,
      "grid_template_areas": null,
      "grid_template_columns": null,
      "grid_template_rows": null,
      "height": null,
      "justify_content": null,
      "justify_items": null,
      "left": null,
      "margin": null,
      "max_height": null,
      "max_width": null,
      "min_height": null,
      "min_width": null,
      "object_fit": null,
      "object_position": null,
      "order": null,
      "overflow": null,
      "overflow_x": null,
      "overflow_y": null,
      "padding": null,
      "right": null,
      "top": null,
      "visibility": null,
      "width": null
     }
    },
    "a0e96908450e45caafcbbbba801e32c9": {
     "model_module": "@jupyter-widgets/controls",
     "model_name": "FloatProgressModel",
     "state": {
      "_dom_classes": [],
      "_model_module": "@jupyter-widgets/controls",
      "_model_module_version": "1.5.0",
      "_model_name": "FloatProgressModel",
      "_view_count": null,
      "_view_module": "@jupyter-widgets/controls",
      "_view_module_version": "1.5.0",
      "_view_name": "ProgressView",
      "bar_style": "success",
      "description": "Transforming: 100%",
      "description_tooltip": null,
      "layout": "IPY_MODEL_3f43a658822d4aefa017e38154dcad3f",
      "max": 39282,
      "min": 0,
      "orientation": "horizontal",
      "style": "IPY_MODEL_c7269f79c7e147e9bdf2b18d5c81e023",
      "value": 39282
     }
    },
    "a3f35ff132684f31a22ac7dc2128da04": {
     "model_module": "@jupyter-widgets/controls",
     "model_name": "ProgressStyleModel",
     "state": {
      "_model_module": "@jupyter-widgets/controls",
      "_model_module_version": "1.5.0",
      "_model_name": "ProgressStyleModel",
      "_view_count": null,
      "_view_module": "@jupyter-widgets/base",
      "_view_module_version": "1.2.0",
      "_view_name": "StyleView",
      "bar_color": null,
      "description_width": "initial"
     }
    },
    "a4e40c06356a4bc4b6818220565ec4e5": {
     "model_module": "@jupyter-widgets/controls",
     "model_name": "HTMLModel",
     "state": {
      "_dom_classes": [],
      "_model_module": "@jupyter-widgets/controls",
      "_model_module_version": "1.5.0",
      "_model_name": "HTMLModel",
      "_view_count": null,
      "_view_module": "@jupyter-widgets/controls",
      "_view_module_version": "1.5.0",
      "_view_name": "HTMLView",
      "description": "",
      "description_tooltip": null,
      "layout": "IPY_MODEL_9a9d8ef6aa0143a28852b5786291b13e",
      "placeholder": "​",
      "style": "IPY_MODEL_96ca4c8069504b099498c2d74005b405",
      "value": " 290/290 [00:01&lt;00:00, 175.66it/s]"
     }
    },
    "a5e26aea5beb415693101f431517b0a5": {
     "model_module": "@jupyter-widgets/controls",
     "model_name": "HBoxModel",
     "state": {
      "_dom_classes": [],
      "_model_module": "@jupyter-widgets/controls",
      "_model_module_version": "1.5.0",
      "_model_name": "HBoxModel",
      "_view_count": null,
      "_view_module": "@jupyter-widgets/controls",
      "_view_module_version": "1.5.0",
      "_view_name": "HBoxView",
      "box_style": "",
      "children": [
       "IPY_MODEL_21d11be0d8a84e57acb0381c9bd8b362",
       "IPY_MODEL_15705376f0494c67b6276e42ef6cea22"
      ],
      "layout": "IPY_MODEL_c2942145c4294398bab7e03b4f039a5b"
     }
    },
    "a7ed9bc9c282454f937b19635ba3b91b": {
     "model_module": "@jupyter-widgets/controls",
     "model_name": "HBoxModel",
     "state": {
      "_dom_classes": [],
      "_model_module": "@jupyter-widgets/controls",
      "_model_module_version": "1.5.0",
      "_model_name": "HBoxModel",
      "_view_count": null,
      "_view_module": "@jupyter-widgets/controls",
      "_view_module_version": "1.5.0",
      "_view_name": "HBoxView",
      "box_style": "",
      "children": [
       "IPY_MODEL_39314e19bd9c4af09dd62eae7839a0e8",
       "IPY_MODEL_6e6ebc73d934406ab0e354be002c35b1"
      ],
      "layout": "IPY_MODEL_eb6236fd74394fb4a96de711a0125793"
     }
    },
    "a88a862c93a54c0687ab2cdb81c17f6a": {
     "model_module": "@jupyter-widgets/controls",
     "model_name": "HBoxModel",
     "state": {
      "_dom_classes": [],
      "_model_module": "@jupyter-widgets/controls",
      "_model_module_version": "1.5.0",
      "_model_name": "HBoxModel",
      "_view_count": null,
      "_view_module": "@jupyter-widgets/controls",
      "_view_module_version": "1.5.0",
      "_view_name": "HBoxView",
      "box_style": "",
      "children": [
       "IPY_MODEL_60fe13bd1d9b4cafa2e8f57a2733576a",
       "IPY_MODEL_b0b5672fcdfd4ce09aa40eae31dbcb81"
      ],
      "layout": "IPY_MODEL_c11129834fd047b2aff9eaa91ad608c0"
     }
    },
    "abab8499c3074f289a8f87e2d72ae288": {
     "model_module": "@jupyter-widgets/controls",
     "model_name": "FloatProgressModel",
     "state": {
      "_dom_classes": [],
      "_model_module": "@jupyter-widgets/controls",
      "_model_module_version": "1.5.0",
      "_model_name": "FloatProgressModel",
      "_view_count": null,
      "_view_module": "@jupyter-widgets/controls",
      "_view_module_version": "1.5.0",
      "_view_name": "ProgressView",
      "bar_style": "success",
      "description": "100%",
      "description_tooltip": null,
      "layout": "IPY_MODEL_1872596708034455ab95ae54f9624026",
      "max": 1200,
      "min": 0,
      "orientation": "horizontal",
      "style": "IPY_MODEL_de920444a079449c93ce1acd9118f44c",
      "value": 1200
     }
    },
    "abdf131efced4c90ad2ef75f64040285": {
     "model_module": "@jupyter-widgets/controls",
     "model_name": "HBoxModel",
     "state": {
      "_dom_classes": [],
      "_model_module": "@jupyter-widgets/controls",
      "_model_module_version": "1.5.0",
      "_model_name": "HBoxModel",
      "_view_count": null,
      "_view_module": "@jupyter-widgets/controls",
      "_view_module_version": "1.5.0",
      "_view_name": "HBoxView",
      "box_style": "",
      "children": [
       "IPY_MODEL_cb49cb9f06d8476d969faa35664f7461",
       "IPY_MODEL_c7951cf22dc24e4fb2756cf2ba6b2264"
      ],
      "layout": "IPY_MODEL_f2cfcd441d354c72b926ef0ada93c1de"
     }
    },
    "acd634371392490b966761de2f876b67": {
     "model_module": "@jupyter-widgets/controls",
     "model_name": "ProgressStyleModel",
     "state": {
      "_model_module": "@jupyter-widgets/controls",
      "_model_module_version": "1.5.0",
      "_model_name": "ProgressStyleModel",
      "_view_count": null,
      "_view_module": "@jupyter-widgets/base",
      "_view_module_version": "1.2.0",
      "_view_name": "StyleView",
      "bar_color": null,
      "description_width": "initial"
     }
    },
    "ad82e8f874514380a355ea6312e5ab7c": {
     "model_module": "@jupyter-widgets/base",
     "model_name": "LayoutModel",
     "state": {
      "_model_module": "@jupyter-widgets/base",
      "_model_module_version": "1.2.0",
      "_model_name": "LayoutModel",
      "_view_count": null,
      "_view_module": "@jupyter-widgets/base",
      "_view_module_version": "1.2.0",
      "_view_name": "LayoutView",
      "align_content": null,
      "align_items": null,
      "align_self": null,
      "border": null,
      "bottom": null,
      "display": null,
      "flex": null,
      "flex_flow": null,
      "grid_area": null,
      "grid_auto_columns": null,
      "grid_auto_flow": null,
      "grid_auto_rows": null,
      "grid_column": null,
      "grid_gap": null,
      "grid_row": null,
      "grid_template_areas": null,
      "grid_template_columns": null,
      "grid_template_rows": null,
      "height": null,
      "justify_content": null,
      "justify_items": null,
      "left": null,
      "margin": null,
      "max_height": null,
      "max_width": null,
      "min_height": null,
      "min_width": null,
      "object_fit": null,
      "object_position": null,
      "order": null,
      "overflow": null,
      "overflow_x": null,
      "overflow_y": null,
      "padding": null,
      "right": null,
      "top": null,
      "visibility": null,
      "width": null
     }
    },
    "ada4cfabaa9040ce906675cd88dc159a": {
     "model_module": "@jupyter-widgets/controls",
     "model_name": "ProgressStyleModel",
     "state": {
      "_model_module": "@jupyter-widgets/controls",
      "_model_module_version": "1.5.0",
      "_model_name": "ProgressStyleModel",
      "_view_count": null,
      "_view_module": "@jupyter-widgets/base",
      "_view_module_version": "1.2.0",
      "_view_name": "StyleView",
      "bar_color": null,
      "description_width": "initial"
     }
    },
    "af331df9fb73479e80af8e9f70f8b1fe": {
     "model_module": "@jupyter-widgets/controls",
     "model_name": "DescriptionStyleModel",
     "state": {
      "_model_module": "@jupyter-widgets/controls",
      "_model_module_version": "1.5.0",
      "_model_name": "DescriptionStyleModel",
      "_view_count": null,
      "_view_module": "@jupyter-widgets/base",
      "_view_module_version": "1.2.0",
      "_view_name": "StyleView",
      "description_width": ""
     }
    },
    "b0b5672fcdfd4ce09aa40eae31dbcb81": {
     "model_module": "@jupyter-widgets/controls",
     "model_name": "HTMLModel",
     "state": {
      "_dom_classes": [],
      "_model_module": "@jupyter-widgets/controls",
      "_model_module_version": "1.5.0",
      "_model_name": "HTMLModel",
      "_view_count": null,
      "_view_module": "@jupyter-widgets/controls",
      "_view_module_version": "1.5.0",
      "_view_name": "HTMLView",
      "description": "",
      "description_tooltip": null,
      "layout": "IPY_MODEL_e56be7c9aad745cf96ebb3c82d67ede2",
      "placeholder": "​",
      "style": "IPY_MODEL_99319ed668cc47bc97db38f4fd0f427e",
      "value": " 1/1 [00:00&lt;00:00,  8.08it/s]"
     }
    },
    "b33c91e2ed5549bb9132c0a02c220f4b": {
     "model_module": "@jupyter-widgets/base",
     "model_name": "LayoutModel",
     "state": {
      "_model_module": "@jupyter-widgets/base",
      "_model_module_version": "1.2.0",
      "_model_name": "LayoutModel",
      "_view_count": null,
      "_view_module": "@jupyter-widgets/base",
      "_view_module_version": "1.2.0",
      "_view_name": "LayoutView",
      "align_content": null,
      "align_items": null,
      "align_self": null,
      "border": null,
      "bottom": null,
      "display": null,
      "flex": null,
      "flex_flow": null,
      "grid_area": null,
      "grid_auto_columns": null,
      "grid_auto_flow": null,
      "grid_auto_rows": null,
      "grid_column": null,
      "grid_gap": null,
      "grid_row": null,
      "grid_template_areas": null,
      "grid_template_columns": null,
      "grid_template_rows": null,
      "height": null,
      "justify_content": null,
      "justify_items": null,
      "left": null,
      "margin": null,
      "max_height": null,
      "max_width": null,
      "min_height": null,
      "min_width": null,
      "object_fit": null,
      "object_position": null,
      "order": null,
      "overflow": null,
      "overflow_x": null,
      "overflow_y": null,
      "padding": null,
      "right": null,
      "top": null,
      "visibility": null,
      "width": null
     }
    },
    "b5d8a4136caf4f24864ec9a30986844d": {
     "model_module": "@jupyter-widgets/controls",
     "model_name": "FloatProgressModel",
     "state": {
      "_dom_classes": [],
      "_model_module": "@jupyter-widgets/controls",
      "_model_module_version": "1.5.0",
      "_model_name": "FloatProgressModel",
      "_view_count": null,
      "_view_module": "@jupyter-widgets/controls",
      "_view_module_version": "1.5.0",
      "_view_name": "ProgressView",
      "bar_style": "success",
      "description": "100%",
      "description_tooltip": null,
      "layout": "IPY_MODEL_2cbe4de78ec14e03a02e2c3179031f7c",
      "max": 449,
      "min": 0,
      "orientation": "horizontal",
      "style": "IPY_MODEL_6075e525ef674b3db0adcd328d36095a",
      "value": 449
     }
    },
    "b787b8cf114e4e0ab8c155e436e2f9a1": {
     "model_module": "@jupyter-widgets/base",
     "model_name": "LayoutModel",
     "state": {
      "_model_module": "@jupyter-widgets/base",
      "_model_module_version": "1.2.0",
      "_model_name": "LayoutModel",
      "_view_count": null,
      "_view_module": "@jupyter-widgets/base",
      "_view_module_version": "1.2.0",
      "_view_name": "LayoutView",
      "align_content": null,
      "align_items": null,
      "align_self": null,
      "border": null,
      "bottom": null,
      "display": null,
      "flex": null,
      "flex_flow": null,
      "grid_area": null,
      "grid_auto_columns": null,
      "grid_auto_flow": null,
      "grid_auto_rows": null,
      "grid_column": null,
      "grid_gap": null,
      "grid_row": null,
      "grid_template_areas": null,
      "grid_template_columns": null,
      "grid_template_rows": null,
      "height": null,
      "justify_content": null,
      "justify_items": null,
      "left": null,
      "margin": null,
      "max_height": null,
      "max_width": null,
      "min_height": null,
      "min_width": null,
      "object_fit": null,
      "object_position": null,
      "order": null,
      "overflow": null,
      "overflow_x": null,
      "overflow_y": null,
      "padding": null,
      "right": null,
      "top": null,
      "visibility": null,
      "width": null
     }
    },
    "bb89ea8664b341d3911f152f89f8fd2a": {
     "model_module": "@jupyter-widgets/base",
     "model_name": "LayoutModel",
     "state": {
      "_model_module": "@jupyter-widgets/base",
      "_model_module_version": "1.2.0",
      "_model_name": "LayoutModel",
      "_view_count": null,
      "_view_module": "@jupyter-widgets/base",
      "_view_module_version": "1.2.0",
      "_view_name": "LayoutView",
      "align_content": null,
      "align_items": null,
      "align_self": null,
      "border": null,
      "bottom": null,
      "display": null,
      "flex": null,
      "flex_flow": null,
      "grid_area": null,
      "grid_auto_columns": null,
      "grid_auto_flow": null,
      "grid_auto_rows": null,
      "grid_column": null,
      "grid_gap": null,
      "grid_row": null,
      "grid_template_areas": null,
      "grid_template_columns": null,
      "grid_template_rows": null,
      "height": null,
      "justify_content": null,
      "justify_items": null,
      "left": null,
      "margin": null,
      "max_height": null,
      "max_width": null,
      "min_height": null,
      "min_width": null,
      "object_fit": null,
      "object_position": null,
      "order": null,
      "overflow": null,
      "overflow_x": null,
      "overflow_y": null,
      "padding": null,
      "right": null,
      "top": null,
      "visibility": null,
      "width": null
     }
    },
    "bce9315d71714f4db7cf1ce9b5dd5531": {
     "model_module": "@jupyter-widgets/base",
     "model_name": "LayoutModel",
     "state": {
      "_model_module": "@jupyter-widgets/base",
      "_model_module_version": "1.2.0",
      "_model_name": "LayoutModel",
      "_view_count": null,
      "_view_module": "@jupyter-widgets/base",
      "_view_module_version": "1.2.0",
      "_view_name": "LayoutView",
      "align_content": null,
      "align_items": null,
      "align_self": null,
      "border": null,
      "bottom": null,
      "display": null,
      "flex": null,
      "flex_flow": null,
      "grid_area": null,
      "grid_auto_columns": null,
      "grid_auto_flow": null,
      "grid_auto_rows": null,
      "grid_column": null,
      "grid_gap": null,
      "grid_row": null,
      "grid_template_areas": null,
      "grid_template_columns": null,
      "grid_template_rows": null,
      "height": null,
      "justify_content": null,
      "justify_items": null,
      "left": null,
      "margin": null,
      "max_height": null,
      "max_width": null,
      "min_height": null,
      "min_width": null,
      "object_fit": null,
      "object_position": null,
      "order": null,
      "overflow": null,
      "overflow_x": null,
      "overflow_y": null,
      "padding": null,
      "right": null,
      "top": null,
      "visibility": null,
      "width": null
     }
    },
    "bd5b08839e704429bd4420156c31f6cd": {
     "model_module": "@jupyter-widgets/base",
     "model_name": "LayoutModel",
     "state": {
      "_model_module": "@jupyter-widgets/base",
      "_model_module_version": "1.2.0",
      "_model_name": "LayoutModel",
      "_view_count": null,
      "_view_module": "@jupyter-widgets/base",
      "_view_module_version": "1.2.0",
      "_view_name": "LayoutView",
      "align_content": null,
      "align_items": null,
      "align_self": null,
      "border": null,
      "bottom": null,
      "display": null,
      "flex": null,
      "flex_flow": null,
      "grid_area": null,
      "grid_auto_columns": null,
      "grid_auto_flow": null,
      "grid_auto_rows": null,
      "grid_column": null,
      "grid_gap": null,
      "grid_row": null,
      "grid_template_areas": null,
      "grid_template_columns": null,
      "grid_template_rows": null,
      "height": null,
      "justify_content": null,
      "justify_items": null,
      "left": null,
      "margin": null,
      "max_height": null,
      "max_width": null,
      "min_height": null,
      "min_width": null,
      "object_fit": null,
      "object_position": null,
      "order": null,
      "overflow": null,
      "overflow_x": null,
      "overflow_y": null,
      "padding": null,
      "right": null,
      "top": null,
      "visibility": null,
      "width": null
     }
    },
    "bd88f0eef0bf4dd195962014735519a2": {
     "model_module": "@jupyter-widgets/base",
     "model_name": "LayoutModel",
     "state": {
      "_model_module": "@jupyter-widgets/base",
      "_model_module_version": "1.2.0",
      "_model_name": "LayoutModel",
      "_view_count": null,
      "_view_module": "@jupyter-widgets/base",
      "_view_module_version": "1.2.0",
      "_view_name": "LayoutView",
      "align_content": null,
      "align_items": null,
      "align_self": null,
      "border": null,
      "bottom": null,
      "display": null,
      "flex": null,
      "flex_flow": null,
      "grid_area": null,
      "grid_auto_columns": null,
      "grid_auto_flow": null,
      "grid_auto_rows": null,
      "grid_column": null,
      "grid_gap": null,
      "grid_row": null,
      "grid_template_areas": null,
      "grid_template_columns": null,
      "grid_template_rows": null,
      "height": null,
      "justify_content": null,
      "justify_items": null,
      "left": null,
      "margin": null,
      "max_height": null,
      "max_width": null,
      "min_height": null,
      "min_width": null,
      "object_fit": null,
      "object_position": null,
      "order": null,
      "overflow": null,
      "overflow_x": null,
      "overflow_y": null,
      "padding": null,
      "right": null,
      "top": null,
      "visibility": null,
      "width": null
     }
    },
    "be0e57ec58ec41a68f3f42d2882cb6c8": {
     "model_module": "@jupyter-widgets/controls",
     "model_name": "ProgressStyleModel",
     "state": {
      "_model_module": "@jupyter-widgets/controls",
      "_model_module_version": "1.5.0",
      "_model_name": "ProgressStyleModel",
      "_view_count": null,
      "_view_module": "@jupyter-widgets/base",
      "_view_module_version": "1.2.0",
      "_view_name": "StyleView",
      "bar_color": null,
      "description_width": "initial"
     }
    },
    "bef24752f64549ca869fdec1214b5139": {
     "model_module": "@jupyter-widgets/controls",
     "model_name": "HBoxModel",
     "state": {
      "_dom_classes": [],
      "_model_module": "@jupyter-widgets/controls",
      "_model_module_version": "1.5.0",
      "_model_name": "HBoxModel",
      "_view_count": null,
      "_view_module": "@jupyter-widgets/controls",
      "_view_module_version": "1.5.0",
      "_view_name": "HBoxView",
      "box_style": "",
      "children": [
       "IPY_MODEL_c3ba0c5d91da44098b88b338a4e92db6",
       "IPY_MODEL_6fa2f97b763945ad8ea5def3ed3d32ed"
      ],
      "layout": "IPY_MODEL_ad82e8f874514380a355ea6312e5ab7c"
     }
    },
    "c11129834fd047b2aff9eaa91ad608c0": {
     "model_module": "@jupyter-widgets/base",
     "model_name": "LayoutModel",
     "state": {
      "_model_module": "@jupyter-widgets/base",
      "_model_module_version": "1.2.0",
      "_model_name": "LayoutModel",
      "_view_count": null,
      "_view_module": "@jupyter-widgets/base",
      "_view_module_version": "1.2.0",
      "_view_name": "LayoutView",
      "align_content": null,
      "align_items": null,
      "align_self": null,
      "border": null,
      "bottom": null,
      "display": null,
      "flex": null,
      "flex_flow": null,
      "grid_area": null,
      "grid_auto_columns": null,
      "grid_auto_flow": null,
      "grid_auto_rows": null,
      "grid_column": null,
      "grid_gap": null,
      "grid_row": null,
      "grid_template_areas": null,
      "grid_template_columns": null,
      "grid_template_rows": null,
      "height": null,
      "justify_content": null,
      "justify_items": null,
      "left": null,
      "margin": null,
      "max_height": null,
      "max_width": null,
      "min_height": null,
      "min_width": null,
      "object_fit": null,
      "object_position": null,
      "order": null,
      "overflow": null,
      "overflow_x": null,
      "overflow_y": null,
      "padding": null,
      "right": null,
      "top": null,
      "visibility": null,
      "width": null
     }
    },
    "c2942145c4294398bab7e03b4f039a5b": {
     "model_module": "@jupyter-widgets/base",
     "model_name": "LayoutModel",
     "state": {
      "_model_module": "@jupyter-widgets/base",
      "_model_module_version": "1.2.0",
      "_model_name": "LayoutModel",
      "_view_count": null,
      "_view_module": "@jupyter-widgets/base",
      "_view_module_version": "1.2.0",
      "_view_name": "LayoutView",
      "align_content": null,
      "align_items": null,
      "align_self": null,
      "border": null,
      "bottom": null,
      "display": null,
      "flex": null,
      "flex_flow": null,
      "grid_area": null,
      "grid_auto_columns": null,
      "grid_auto_flow": null,
      "grid_auto_rows": null,
      "grid_column": null,
      "grid_gap": null,
      "grid_row": null,
      "grid_template_areas": null,
      "grid_template_columns": null,
      "grid_template_rows": null,
      "height": null,
      "justify_content": null,
      "justify_items": null,
      "left": null,
      "margin": null,
      "max_height": null,
      "max_width": null,
      "min_height": null,
      "min_width": null,
      "object_fit": null,
      "object_position": null,
      "order": null,
      "overflow": null,
      "overflow_x": null,
      "overflow_y": null,
      "padding": null,
      "right": null,
      "top": null,
      "visibility": null,
      "width": null
     }
    },
    "c2d1d6d2b5eb445b83907e00ef61aff0": {
     "model_module": "@jupyter-widgets/controls",
     "model_name": "HTMLModel",
     "state": {
      "_dom_classes": [],
      "_model_module": "@jupyter-widgets/controls",
      "_model_module_version": "1.5.0",
      "_model_name": "HTMLModel",
      "_view_count": null,
      "_view_module": "@jupyter-widgets/controls",
      "_view_module_version": "1.5.0",
      "_view_name": "HTMLView",
      "description": "",
      "description_tooltip": null,
      "layout": "IPY_MODEL_dbcb717ca3df440690300c10df15582c",
      "placeholder": "​",
      "style": "IPY_MODEL_0f8d06d20c294476bb0184b70353a7f1",
      "value": " 344/344 [00:00&lt;00:00, 1667.05it/s]"
     }
    },
    "c2f90e3c4f0b42fa91ccf25ef66ef87a": {
     "model_module": "@jupyter-widgets/controls",
     "model_name": "HTMLModel",
     "state": {
      "_dom_classes": [],
      "_model_module": "@jupyter-widgets/controls",
      "_model_module_version": "1.5.0",
      "_model_name": "HTMLModel",
      "_view_count": null,
      "_view_module": "@jupyter-widgets/controls",
      "_view_module_version": "1.5.0",
      "_view_name": "HTMLView",
      "description": "",
      "description_tooltip": null,
      "layout": "IPY_MODEL_fce9762cbab74adf9d3a4b5bde240958",
      "placeholder": "​",
      "style": "IPY_MODEL_9e991ccedcd64dcfaed35239d3d02d7e",
      "value": " 344/344 [00:19&lt;00:00, 17.68it/s]"
     }
    },
    "c3ba0c5d91da44098b88b338a4e92db6": {
     "model_module": "@jupyter-widgets/controls",
     "model_name": "FloatProgressModel",
     "state": {
      "_dom_classes": [],
      "_model_module": "@jupyter-widgets/controls",
      "_model_module_version": "1.5.0",
      "_model_name": "FloatProgressModel",
      "_view_count": null,
      "_view_module": "@jupyter-widgets/controls",
      "_view_module_version": "1.5.0",
      "_view_name": "ProgressView",
      "bar_style": "success",
      "description": "Splitting to sentences: 100%",
      "description_tooltip": null,
      "layout": "IPY_MODEL_7047ffbd3c934ee08f79bb8941e610e0",
      "max": 1500,
      "min": 0,
      "orientation": "horizontal",
      "style": "IPY_MODEL_da7f4ec0c12649938e771f3d4f81ea52",
      "value": 1500
     }
    },
    "c3d221da5fb44475a243053ba5e7b3b8": {
     "model_module": "@jupyter-widgets/controls",
     "model_name": "ProgressStyleModel",
     "state": {
      "_model_module": "@jupyter-widgets/controls",
      "_model_module_version": "1.5.0",
      "_model_name": "ProgressStyleModel",
      "_view_count": null,
      "_view_module": "@jupyter-widgets/base",
      "_view_module_version": "1.2.0",
      "_view_name": "StyleView",
      "bar_color": null,
      "description_width": "initial"
     }
    },
    "c3ed9fe4111247d8aa87b4aadba5608e": {
     "model_module": "@jupyter-widgets/controls",
     "model_name": "HBoxModel",
     "state": {
      "_dom_classes": [],
      "_model_module": "@jupyter-widgets/controls",
      "_model_module_version": "1.5.0",
      "_model_name": "HBoxModel",
      "_view_count": null,
      "_view_module": "@jupyter-widgets/controls",
      "_view_module_version": "1.5.0",
      "_view_name": "HBoxView",
      "box_style": "",
      "children": [
       "IPY_MODEL_1e165829f7ad46fba5eb5996b04b8cb3",
       "IPY_MODEL_cb02ff2500264448a762cb92fedde01b"
      ],
      "layout": "IPY_MODEL_0ea6dd3cdd5141dd9c632b973c528d72"
     }
    },
    "c4ac93211fc840faaf50d9129ab3a84d": {
     "model_module": "@jupyter-widgets/controls",
     "model_name": "ProgressStyleModel",
     "state": {
      "_model_module": "@jupyter-widgets/controls",
      "_model_module_version": "1.5.0",
      "_model_name": "ProgressStyleModel",
      "_view_count": null,
      "_view_module": "@jupyter-widgets/base",
      "_view_module_version": "1.2.0",
      "_view_name": "StyleView",
      "bar_color": null,
      "description_width": "initial"
     }
    },
    "c7269f79c7e147e9bdf2b18d5c81e023": {
     "model_module": "@jupyter-widgets/controls",
     "model_name": "ProgressStyleModel",
     "state": {
      "_model_module": "@jupyter-widgets/controls",
      "_model_module_version": "1.5.0",
      "_model_name": "ProgressStyleModel",
      "_view_count": null,
      "_view_module": "@jupyter-widgets/base",
      "_view_module_version": "1.2.0",
      "_view_name": "StyleView",
      "bar_color": null,
      "description_width": "initial"
     }
    },
    "c7951cf22dc24e4fb2756cf2ba6b2264": {
     "model_module": "@jupyter-widgets/controls",
     "model_name": "HTMLModel",
     "state": {
      "_dom_classes": [],
      "_model_module": "@jupyter-widgets/controls",
      "_model_module_version": "1.5.0",
      "_model_name": "HTMLModel",
      "_view_count": null,
      "_view_module": "@jupyter-widgets/controls",
      "_view_module_version": "1.5.0",
      "_view_name": "HTMLView",
      "description": "",
      "description_tooltip": null,
      "layout": "IPY_MODEL_298465afd6694e95932509168903f7dc",
      "placeholder": "​",
      "style": "IPY_MODEL_fb9861799547488c8f89ff76e73fcb0e",
      "value": " 14337/14337 [00:04&lt;00:00, 3133.53it/s]"
     }
    },
    "cade65e9283f49e187042173742fdc33": {
     "model_module": "@jupyter-widgets/controls",
     "model_name": "FloatProgressModel",
     "state": {
      "_dom_classes": [],
      "_model_module": "@jupyter-widgets/controls",
      "_model_module_version": "1.5.0",
      "_model_name": "FloatProgressModel",
      "_view_count": null,
      "_view_module": "@jupyter-widgets/controls",
      "_view_module_version": "1.5.0",
      "_view_name": "ProgressView",
      "bar_style": "success",
      "description": "Process zip files ...: 100%",
      "description_tooltip": null,
      "layout": "IPY_MODEL_533421d94e924c4981f6f3939e584667",
      "max": 1,
      "min": 0,
      "orientation": "horizontal",
      "style": "IPY_MODEL_3cd657bbbe954edea5328cce84664dd8",
      "value": 1
     }
    },
    "cb02ff2500264448a762cb92fedde01b": {
     "model_module": "@jupyter-widgets/controls",
     "model_name": "HTMLModel",
     "state": {
      "_dom_classes": [],
      "_model_module": "@jupyter-widgets/controls",
      "_model_module_version": "1.5.0",
      "_model_name": "HTMLModel",
      "_view_count": null,
      "_view_module": "@jupyter-widgets/controls",
      "_view_module_version": "1.5.0",
      "_view_name": "HTMLView",
      "description": "",
      "description_tooltip": null,
      "layout": "IPY_MODEL_042b83ad32e44d5a8ffae05128b7cab2",
      "placeholder": "​",
      "style": "IPY_MODEL_41bb1ce28ab1404dae9973e7e80ad3ea",
      "value": " 1/1 [00:00&lt;00:00,  4.24it/s]"
     }
    },
    "cb49cb9f06d8476d969faa35664f7461": {
     "model_module": "@jupyter-widgets/controls",
     "model_name": "FloatProgressModel",
     "state": {
      "_dom_classes": [],
      "_model_module": "@jupyter-widgets/controls",
      "_model_module_version": "1.5.0",
      "_model_name": "FloatProgressModel",
      "_view_count": null,
      "_view_module": "@jupyter-widgets/controls",
      "_view_module_version": "1.5.0",
      "_view_name": "ProgressView",
      "bar_style": "success",
      "description": "Transforming: 100%",
      "description_tooltip": null,
      "layout": "IPY_MODEL_5ff65c2b741e4a0a8f59d93ec1434ec8",
      "max": 14337,
      "min": 0,
      "orientation": "horizontal",
      "style": "IPY_MODEL_f5086a60825048b39358c8c4825e8f49",
      "value": 14337
     }
    },
    "ccb0a19b147843bf9f62dbde00973b01": {
     "model_module": "@jupyter-widgets/base",
     "model_name": "LayoutModel",
     "state": {
      "_model_module": "@jupyter-widgets/base",
      "_model_module_version": "1.2.0",
      "_model_name": "LayoutModel",
      "_view_count": null,
      "_view_module": "@jupyter-widgets/base",
      "_view_module_version": "1.2.0",
      "_view_name": "LayoutView",
      "align_content": null,
      "align_items": null,
      "align_self": null,
      "border": null,
      "bottom": null,
      "display": null,
      "flex": null,
      "flex_flow": null,
      "grid_area": null,
      "grid_auto_columns": null,
      "grid_auto_flow": null,
      "grid_auto_rows": null,
      "grid_column": null,
      "grid_gap": null,
      "grid_row": null,
      "grid_template_areas": null,
      "grid_template_columns": null,
      "grid_template_rows": null,
      "height": null,
      "justify_content": null,
      "justify_items": null,
      "left": null,
      "margin": null,
      "max_height": null,
      "max_width": null,
      "min_height": null,
      "min_width": null,
      "object_fit": null,
      "object_position": null,
      "order": null,
      "overflow": null,
      "overflow_x": null,
      "overflow_y": null,
      "padding": null,
      "right": null,
      "top": null,
      "visibility": null,
      "width": null
     }
    },
    "cdae1549dfb14b1aaeb956374df86b29": {
     "model_module": "@jupyter-widgets/base",
     "model_name": "LayoutModel",
     "state": {
      "_model_module": "@jupyter-widgets/base",
      "_model_module_version": "1.2.0",
      "_model_name": "LayoutModel",
      "_view_count": null,
      "_view_module": "@jupyter-widgets/base",
      "_view_module_version": "1.2.0",
      "_view_name": "LayoutView",
      "align_content": null,
      "align_items": null,
      "align_self": null,
      "border": null,
      "bottom": null,
      "display": null,
      "flex": null,
      "flex_flow": null,
      "grid_area": null,
      "grid_auto_columns": null,
      "grid_auto_flow": null,
      "grid_auto_rows": null,
      "grid_column": null,
      "grid_gap": null,
      "grid_row": null,
      "grid_template_areas": null,
      "grid_template_columns": null,
      "grid_template_rows": null,
      "height": null,
      "justify_content": null,
      "justify_items": null,
      "left": null,
      "margin": null,
      "max_height": null,
      "max_width": null,
      "min_height": null,
      "min_width": null,
      "object_fit": null,
      "object_position": null,
      "order": null,
      "overflow": null,
      "overflow_x": null,
      "overflow_y": null,
      "padding": null,
      "right": null,
      "top": null,
      "visibility": null,
      "width": null
     }
    },
    "d1a1608f8e2d457abb36e27c620818af": {
     "model_module": "@jupyter-widgets/controls",
     "model_name": "HTMLModel",
     "state": {
      "_dom_classes": [],
      "_model_module": "@jupyter-widgets/controls",
      "_model_module_version": "1.5.0",
      "_model_name": "HTMLModel",
      "_view_count": null,
      "_view_module": "@jupyter-widgets/controls",
      "_view_module_version": "1.5.0",
      "_view_name": "HTMLView",
      "description": "",
      "description_tooltip": null,
      "layout": "IPY_MODEL_5f8e16b77b944732a59a0f02aacbd5ca",
      "placeholder": "​",
      "style": "IPY_MODEL_01864e234eb04b5aaa0b4ee69054103a",
      "value": " 39282/39282 [00:00&lt;00:00, 391669.91it/s]"
     }
    },
    "d1d3dbf9ee3f4741b13d38098912b4b3": {
     "model_module": "@jupyter-widgets/controls",
     "model_name": "ProgressStyleModel",
     "state": {
      "_model_module": "@jupyter-widgets/controls",
      "_model_module_version": "1.5.0",
      "_model_name": "ProgressStyleModel",
      "_view_count": null,
      "_view_module": "@jupyter-widgets/base",
      "_view_module_version": "1.2.0",
      "_view_name": "StyleView",
      "bar_color": null,
      "description_width": "initial"
     }
    },
    "d41227f67d4c4bd38b61acb54feaffcb": {
     "model_module": "@jupyter-widgets/base",
     "model_name": "LayoutModel",
     "state": {
      "_model_module": "@jupyter-widgets/base",
      "_model_module_version": "1.2.0",
      "_model_name": "LayoutModel",
      "_view_count": null,
      "_view_module": "@jupyter-widgets/base",
      "_view_module_version": "1.2.0",
      "_view_name": "LayoutView",
      "align_content": null,
      "align_items": null,
      "align_self": null,
      "border": null,
      "bottom": null,
      "display": null,
      "flex": null,
      "flex_flow": null,
      "grid_area": null,
      "grid_auto_columns": null,
      "grid_auto_flow": null,
      "grid_auto_rows": null,
      "grid_column": null,
      "grid_gap": null,
      "grid_row": null,
      "grid_template_areas": null,
      "grid_template_columns": null,
      "grid_template_rows": null,
      "height": null,
      "justify_content": null,
      "justify_items": null,
      "left": null,
      "margin": null,
      "max_height": null,
      "max_width": null,
      "min_height": null,
      "min_width": null,
      "object_fit": null,
      "object_position": null,
      "order": null,
      "overflow": null,
      "overflow_x": null,
      "overflow_y": null,
      "padding": null,
      "right": null,
      "top": null,
      "visibility": null,
      "width": null
     }
    },
    "d42d9ec314f84db39d98347dc1edaa7f": {
     "model_module": "@jupyter-widgets/controls",
     "model_name": "FloatProgressModel",
     "state": {
      "_dom_classes": [],
      "_model_module": "@jupyter-widgets/controls",
      "_model_module_version": "1.5.0",
      "_model_name": "FloatProgressModel",
      "_view_count": null,
      "_view_module": "@jupyter-widgets/controls",
      "_view_module_version": "1.5.0",
      "_view_name": "ProgressView",
      "bar_style": "success",
      "description": "Loading ...: 100%",
      "description_tooltip": null,
      "layout": "IPY_MODEL_553e62a41cc3409994325d858a43e13b",
      "max": 344,
      "min": 0,
      "orientation": "horizontal",
      "style": "IPY_MODEL_d55cc5ff39544aaab43d5ede65a93244",
      "value": 344
     }
    },
    "d55cc5ff39544aaab43d5ede65a93244": {
     "model_module": "@jupyter-widgets/controls",
     "model_name": "ProgressStyleModel",
     "state": {
      "_model_module": "@jupyter-widgets/controls",
      "_model_module_version": "1.5.0",
      "_model_name": "ProgressStyleModel",
      "_view_count": null,
      "_view_module": "@jupyter-widgets/base",
      "_view_module_version": "1.2.0",
      "_view_name": "StyleView",
      "bar_color": null,
      "description_width": "initial"
     }
    },
    "d620790066d747789a71682e08fd5063": {
     "model_module": "@jupyter-widgets/controls",
     "model_name": "HTMLModel",
     "state": {
      "_dom_classes": [],
      "_model_module": "@jupyter-widgets/controls",
      "_model_module_version": "1.5.0",
      "_model_name": "HTMLModel",
      "_view_count": null,
      "_view_module": "@jupyter-widgets/controls",
      "_view_module_version": "1.5.0",
      "_view_name": "HTMLView",
      "description": "",
      "description_tooltip": null,
      "layout": "IPY_MODEL_9f305e52abe446deb2f66032afe1ccfb",
      "placeholder": "​",
      "style": "IPY_MODEL_af331df9fb73479e80af8e9f70f8b1fe",
      "value": " 1200/1200 [00:57&lt;00:00, 20.85it/s]"
     }
    },
    "d65d8be2d5ba4eea846e30fd6a1c773d": {
     "model_module": "@jupyter-widgets/controls",
     "model_name": "FloatProgressModel",
     "state": {
      "_dom_classes": [],
      "_model_module": "@jupyter-widgets/controls",
      "_model_module_version": "1.5.0",
      "_model_name": "FloatProgressModel",
      "_view_count": null,
      "_view_module": "@jupyter-widgets/controls",
      "_view_module_version": "1.5.0",
      "_view_name": "ProgressView",
      "bar_style": "success",
      "description": "100%",
      "description_tooltip": null,
      "layout": "IPY_MODEL_d41227f67d4c4bd38b61acb54feaffcb",
      "max": 288,
      "min": 0,
      "orientation": "horizontal",
      "style": "IPY_MODEL_1c377c18334f4e28a40b2f8a16b66dcd",
      "value": 288
     }
    },
    "d912a8b75df542ae93c320a2e4a7521e": {
     "model_module": "@jupyter-widgets/base",
     "model_name": "LayoutModel",
     "state": {
      "_model_module": "@jupyter-widgets/base",
      "_model_module_version": "1.2.0",
      "_model_name": "LayoutModel",
      "_view_count": null,
      "_view_module": "@jupyter-widgets/base",
      "_view_module_version": "1.2.0",
      "_view_name": "LayoutView",
      "align_content": null,
      "align_items": null,
      "align_self": null,
      "border": null,
      "bottom": null,
      "display": null,
      "flex": null,
      "flex_flow": null,
      "grid_area": null,
      "grid_auto_columns": null,
      "grid_auto_flow": null,
      "grid_auto_rows": null,
      "grid_column": null,
      "grid_gap": null,
      "grid_row": null,
      "grid_template_areas": null,
      "grid_template_columns": null,
      "grid_template_rows": null,
      "height": null,
      "justify_content": null,
      "justify_items": null,
      "left": null,
      "margin": null,
      "max_height": null,
      "max_width": null,
      "min_height": null,
      "min_width": null,
      "object_fit": null,
      "object_position": null,
      "order": null,
      "overflow": null,
      "overflow_x": null,
      "overflow_y": null,
      "padding": null,
      "right": null,
      "top": null,
      "visibility": null,
      "width": null
     }
    },
    "da7f4ec0c12649938e771f3d4f81ea52": {
     "model_module": "@jupyter-widgets/controls",
     "model_name": "ProgressStyleModel",
     "state": {
      "_model_module": "@jupyter-widgets/controls",
      "_model_module_version": "1.5.0",
      "_model_name": "ProgressStyleModel",
      "_view_count": null,
      "_view_module": "@jupyter-widgets/base",
      "_view_module_version": "1.2.0",
      "_view_name": "StyleView",
      "bar_color": null,
      "description_width": "initial"
     }
    },
    "db7b140ec0104b1296d69d0e01b6e485": {
     "model_module": "@jupyter-widgets/controls",
     "model_name": "HTMLModel",
     "state": {
      "_dom_classes": [],
      "_model_module": "@jupyter-widgets/controls",
      "_model_module_version": "1.5.0",
      "_model_name": "HTMLModel",
      "_view_count": null,
      "_view_module": "@jupyter-widgets/controls",
      "_view_module_version": "1.5.0",
      "_view_name": "HTMLView",
      "description": "",
      "description_tooltip": null,
      "layout": "IPY_MODEL_33c56f0c4250454195d24fef41c8cc05",
      "placeholder": "​",
      "style": "IPY_MODEL_6e770e8543c44066989757a89f9b81db",
      "value": " 1500/1500 [00:02&lt;00:00, 678.39it/s]"
     }
    },
    "dba6f161c6f44361bcc7ffac05e019d5": {
     "model_module": "@jupyter-widgets/base",
     "model_name": "LayoutModel",
     "state": {
      "_model_module": "@jupyter-widgets/base",
      "_model_module_version": "1.2.0",
      "_model_name": "LayoutModel",
      "_view_count": null,
      "_view_module": "@jupyter-widgets/base",
      "_view_module_version": "1.2.0",
      "_view_name": "LayoutView",
      "align_content": null,
      "align_items": null,
      "align_self": null,
      "border": null,
      "bottom": null,
      "display": null,
      "flex": null,
      "flex_flow": null,
      "grid_area": null,
      "grid_auto_columns": null,
      "grid_auto_flow": null,
      "grid_auto_rows": null,
      "grid_column": null,
      "grid_gap": null,
      "grid_row": null,
      "grid_template_areas": null,
      "grid_template_columns": null,
      "grid_template_rows": null,
      "height": null,
      "justify_content": null,
      "justify_items": null,
      "left": null,
      "margin": null,
      "max_height": null,
      "max_width": null,
      "min_height": null,
      "min_width": null,
      "object_fit": null,
      "object_position": null,
      "order": null,
      "overflow": null,
      "overflow_x": null,
      "overflow_y": null,
      "padding": null,
      "right": null,
      "top": null,
      "visibility": null,
      "width": null
     }
    },
    "dbcb717ca3df440690300c10df15582c": {
     "model_module": "@jupyter-widgets/base",
     "model_name": "LayoutModel",
     "state": {
      "_model_module": "@jupyter-widgets/base",
      "_model_module_version": "1.2.0",
      "_model_name": "LayoutModel",
      "_view_count": null,
      "_view_module": "@jupyter-widgets/base",
      "_view_module_version": "1.2.0",
      "_view_name": "LayoutView",
      "align_content": null,
      "align_items": null,
      "align_self": null,
      "border": null,
      "bottom": null,
      "display": null,
      "flex": null,
      "flex_flow": null,
      "grid_area": null,
      "grid_auto_columns": null,
      "grid_auto_flow": null,
      "grid_auto_rows": null,
      "grid_column": null,
      "grid_gap": null,
      "grid_row": null,
      "grid_template_areas": null,
      "grid_template_columns": null,
      "grid_template_rows": null,
      "height": null,
      "justify_content": null,
      "justify_items": null,
      "left": null,
      "margin": null,
      "max_height": null,
      "max_width": null,
      "min_height": null,
      "min_width": null,
      "object_fit": null,
      "object_position": null,
      "order": null,
      "overflow": null,
      "overflow_x": null,
      "overflow_y": null,
      "padding": null,
      "right": null,
      "top": null,
      "visibility": null,
      "width": null
     }
    },
    "dc69d2351bf64a20b1783fe349f27134": {
     "model_module": "@jupyter-widgets/base",
     "model_name": "LayoutModel",
     "state": {
      "_model_module": "@jupyter-widgets/base",
      "_model_module_version": "1.2.0",
      "_model_name": "LayoutModel",
      "_view_count": null,
      "_view_module": "@jupyter-widgets/base",
      "_view_module_version": "1.2.0",
      "_view_name": "LayoutView",
      "align_content": null,
      "align_items": null,
      "align_self": null,
      "border": null,
      "bottom": null,
      "display": null,
      "flex": null,
      "flex_flow": null,
      "grid_area": null,
      "grid_auto_columns": null,
      "grid_auto_flow": null,
      "grid_auto_rows": null,
      "grid_column": null,
      "grid_gap": null,
      "grid_row": null,
      "grid_template_areas": null,
      "grid_template_columns": null,
      "grid_template_rows": null,
      "height": null,
      "justify_content": null,
      "justify_items": null,
      "left": null,
      "margin": null,
      "max_height": null,
      "max_width": null,
      "min_height": null,
      "min_width": null,
      "object_fit": null,
      "object_position": null,
      "order": null,
      "overflow": null,
      "overflow_x": null,
      "overflow_y": null,
      "padding": null,
      "right": null,
      "top": null,
      "visibility": null,
      "width": null
     }
    },
    "dc9bc0f8fa0a4e0680aaa0c703decad3": {
     "model_module": "@jupyter-widgets/controls",
     "model_name": "HTMLModel",
     "state": {
      "_dom_classes": [],
      "_model_module": "@jupyter-widgets/controls",
      "_model_module_version": "1.5.0",
      "_model_name": "HTMLModel",
      "_view_count": null,
      "_view_module": "@jupyter-widgets/controls",
      "_view_module_version": "1.5.0",
      "_view_name": "HTMLView",
      "description": "",
      "description_tooltip": null,
      "layout": "IPY_MODEL_43d726ea113748af8ac3c202849340ec",
      "placeholder": "​",
      "style": "IPY_MODEL_eeb78d9c7749463cb763c41ba4f3f608",
      "value": " 9496/9496 [00:05&lt;00:00, 1744.66it/s]"
     }
    },
    "dd8484bb485c4fa09cb7c45415007530": {
     "model_module": "@jupyter-widgets/base",
     "model_name": "LayoutModel",
     "state": {
      "_model_module": "@jupyter-widgets/base",
      "_model_module_version": "1.2.0",
      "_model_name": "LayoutModel",
      "_view_count": null,
      "_view_module": "@jupyter-widgets/base",
      "_view_module_version": "1.2.0",
      "_view_name": "LayoutView",
      "align_content": null,
      "align_items": null,
      "align_self": null,
      "border": null,
      "bottom": null,
      "display": null,
      "flex": null,
      "flex_flow": null,
      "grid_area": null,
      "grid_auto_columns": null,
      "grid_auto_flow": null,
      "grid_auto_rows": null,
      "grid_column": null,
      "grid_gap": null,
      "grid_row": null,
      "grid_template_areas": null,
      "grid_template_columns": null,
      "grid_template_rows": null,
      "height": null,
      "justify_content": null,
      "justify_items": null,
      "left": null,
      "margin": null,
      "max_height": null,
      "max_width": null,
      "min_height": null,
      "min_width": null,
      "object_fit": null,
      "object_position": null,
      "order": null,
      "overflow": null,
      "overflow_x": null,
      "overflow_y": null,
      "padding": null,
      "right": null,
      "top": null,
      "visibility": null,
      "width": null
     }
    },
    "ddd8b67496894791af3a8dd2ba0faeec": {
     "model_module": "@jupyter-widgets/base",
     "model_name": "LayoutModel",
     "state": {
      "_model_module": "@jupyter-widgets/base",
      "_model_module_version": "1.2.0",
      "_model_name": "LayoutModel",
      "_view_count": null,
      "_view_module": "@jupyter-widgets/base",
      "_view_module_version": "1.2.0",
      "_view_name": "LayoutView",
      "align_content": null,
      "align_items": null,
      "align_self": null,
      "border": null,
      "bottom": null,
      "display": null,
      "flex": null,
      "flex_flow": null,
      "grid_area": null,
      "grid_auto_columns": null,
      "grid_auto_flow": null,
      "grid_auto_rows": null,
      "grid_column": null,
      "grid_gap": null,
      "grid_row": null,
      "grid_template_areas": null,
      "grid_template_columns": null,
      "grid_template_rows": null,
      "height": null,
      "justify_content": null,
      "justify_items": null,
      "left": null,
      "margin": null,
      "max_height": null,
      "max_width": null,
      "min_height": null,
      "min_width": null,
      "object_fit": null,
      "object_position": null,
      "order": null,
      "overflow": null,
      "overflow_x": null,
      "overflow_y": null,
      "padding": null,
      "right": null,
      "top": null,
      "visibility": null,
      "width": null
     }
    },
    "de920444a079449c93ce1acd9118f44c": {
     "model_module": "@jupyter-widgets/controls",
     "model_name": "ProgressStyleModel",
     "state": {
      "_model_module": "@jupyter-widgets/controls",
      "_model_module_version": "1.5.0",
      "_model_name": "ProgressStyleModel",
      "_view_count": null,
      "_view_module": "@jupyter-widgets/base",
      "_view_module_version": "1.2.0",
      "_view_name": "StyleView",
      "bar_color": null,
      "description_width": "initial"
     }
    },
    "dfa1136d9fca4cc2a3e5973fe6d7e1b9": {
     "model_module": "@jupyter-widgets/base",
     "model_name": "LayoutModel",
     "state": {
      "_model_module": "@jupyter-widgets/base",
      "_model_module_version": "1.2.0",
      "_model_name": "LayoutModel",
      "_view_count": null,
      "_view_module": "@jupyter-widgets/base",
      "_view_module_version": "1.2.0",
      "_view_name": "LayoutView",
      "align_content": null,
      "align_items": null,
      "align_self": null,
      "border": null,
      "bottom": null,
      "display": null,
      "flex": null,
      "flex_flow": null,
      "grid_area": null,
      "grid_auto_columns": null,
      "grid_auto_flow": null,
      "grid_auto_rows": null,
      "grid_column": null,
      "grid_gap": null,
      "grid_row": null,
      "grid_template_areas": null,
      "grid_template_columns": null,
      "grid_template_rows": null,
      "height": null,
      "justify_content": null,
      "justify_items": null,
      "left": null,
      "margin": null,
      "max_height": null,
      "max_width": null,
      "min_height": null,
      "min_width": null,
      "object_fit": null,
      "object_position": null,
      "order": null,
      "overflow": null,
      "overflow_x": null,
      "overflow_y": null,
      "padding": null,
      "right": null,
      "top": null,
      "visibility": null,
      "width": null
     }
    },
    "e04f5c6c765047178db970a33177a3c4": {
     "model_module": "@jupyter-widgets/base",
     "model_name": "LayoutModel",
     "state": {
      "_model_module": "@jupyter-widgets/base",
      "_model_module_version": "1.2.0",
      "_model_name": "LayoutModel",
      "_view_count": null,
      "_view_module": "@jupyter-widgets/base",
      "_view_module_version": "1.2.0",
      "_view_name": "LayoutView",
      "align_content": null,
      "align_items": null,
      "align_self": null,
      "border": null,
      "bottom": null,
      "display": null,
      "flex": null,
      "flex_flow": null,
      "grid_area": null,
      "grid_auto_columns": null,
      "grid_auto_flow": null,
      "grid_auto_rows": null,
      "grid_column": null,
      "grid_gap": null,
      "grid_row": null,
      "grid_template_areas": null,
      "grid_template_columns": null,
      "grid_template_rows": null,
      "height": null,
      "justify_content": null,
      "justify_items": null,
      "left": null,
      "margin": null,
      "max_height": null,
      "max_width": null,
      "min_height": null,
      "min_width": null,
      "object_fit": null,
      "object_position": null,
      "order": null,
      "overflow": null,
      "overflow_x": null,
      "overflow_y": null,
      "padding": null,
      "right": null,
      "top": null,
      "visibility": null,
      "width": null
     }
    },
    "e0fdd126c0214e9cb8df68651e9024f7": {
     "model_module": "@jupyter-widgets/controls",
     "model_name": "HTMLModel",
     "state": {
      "_dom_classes": [],
      "_model_module": "@jupyter-widgets/controls",
      "_model_module_version": "1.5.0",
      "_model_name": "HTMLModel",
      "_view_count": null,
      "_view_module": "@jupyter-widgets/controls",
      "_view_module_version": "1.5.0",
      "_view_name": "HTMLView",
      "description": "",
      "description_tooltip": null,
      "layout": "IPY_MODEL_dc69d2351bf64a20b1783fe349f27134",
      "placeholder": "​",
      "style": "IPY_MODEL_f5fd65a6f17b49a68c85c23dfd01b913",
      "value": " 1500/1500 [00:02&lt;00:00, 567.80it/s]"
     }
    },
    "e10721e73bb545879dbea2208ddd0332": {
     "model_module": "@jupyter-widgets/controls",
     "model_name": "HBoxModel",
     "state": {
      "_dom_classes": [],
      "_model_module": "@jupyter-widgets/controls",
      "_model_module_version": "1.5.0",
      "_model_name": "HBoxModel",
      "_view_count": null,
      "_view_module": "@jupyter-widgets/controls",
      "_view_module_version": "1.5.0",
      "_view_name": "HBoxView",
      "box_style": "",
      "children": [
       "IPY_MODEL_3cf39e761c3c4f02929eaafa069300a5",
       "IPY_MODEL_e0fdd126c0214e9cb8df68651e9024f7"
      ],
      "layout": "IPY_MODEL_cdae1549dfb14b1aaeb956374df86b29"
     }
    },
    "e2e1f4e73be04d05a8ef8ccf78aeeb7c": {
     "model_module": "@jupyter-widgets/controls",
     "model_name": "HTMLModel",
     "state": {
      "_dom_classes": [],
      "_model_module": "@jupyter-widgets/controls",
      "_model_module_version": "1.5.0",
      "_model_name": "HTMLModel",
      "_view_count": null,
      "_view_module": "@jupyter-widgets/controls",
      "_view_module_version": "1.5.0",
      "_view_name": "HTMLView",
      "description": "",
      "description_tooltip": null,
      "layout": "IPY_MODEL_f2f1f9e9e66642ba94c5cf3d90d8e7ed",
      "placeholder": "​",
      "style": "IPY_MODEL_6586a294c80140aa8f3b373b3ac72bc1",
      "value": " 113/113 [00:02&lt;00:00, 43.28it/s]"
     }
    },
    "e376966c8a704814b41d9a8145567b4d": {
     "model_module": "@jupyter-widgets/controls",
     "model_name": "ProgressStyleModel",
     "state": {
      "_model_module": "@jupyter-widgets/controls",
      "_model_module_version": "1.5.0",
      "_model_name": "ProgressStyleModel",
      "_view_count": null,
      "_view_module": "@jupyter-widgets/base",
      "_view_module_version": "1.2.0",
      "_view_name": "StyleView",
      "bar_color": null,
      "description_width": "initial"
     }
    },
    "e4be4469aa91486e95c202974a9433f7": {
     "model_module": "@jupyter-widgets/controls",
     "model_name": "DescriptionStyleModel",
     "state": {
      "_model_module": "@jupyter-widgets/controls",
      "_model_module_version": "1.5.0",
      "_model_name": "DescriptionStyleModel",
      "_view_count": null,
      "_view_module": "@jupyter-widgets/base",
      "_view_module_version": "1.2.0",
      "_view_name": "StyleView",
      "description_width": ""
     }
    },
    "e53b6a4cb82f4acdba527e5fc8cc036f": {
     "model_module": "@jupyter-widgets/controls",
     "model_name": "ProgressStyleModel",
     "state": {
      "_model_module": "@jupyter-widgets/controls",
      "_model_module_version": "1.5.0",
      "_model_name": "ProgressStyleModel",
      "_view_count": null,
      "_view_module": "@jupyter-widgets/base",
      "_view_module_version": "1.2.0",
      "_view_name": "StyleView",
      "bar_color": null,
      "description_width": "initial"
     }
    },
    "e56be7c9aad745cf96ebb3c82d67ede2": {
     "model_module": "@jupyter-widgets/base",
     "model_name": "LayoutModel",
     "state": {
      "_model_module": "@jupyter-widgets/base",
      "_model_module_version": "1.2.0",
      "_model_name": "LayoutModel",
      "_view_count": null,
      "_view_module": "@jupyter-widgets/base",
      "_view_module_version": "1.2.0",
      "_view_name": "LayoutView",
      "align_content": null,
      "align_items": null,
      "align_self": null,
      "border": null,
      "bottom": null,
      "display": null,
      "flex": null,
      "flex_flow": null,
      "grid_area": null,
      "grid_auto_columns": null,
      "grid_auto_flow": null,
      "grid_auto_rows": null,
      "grid_column": null,
      "grid_gap": null,
      "grid_row": null,
      "grid_template_areas": null,
      "grid_template_columns": null,
      "grid_template_rows": null,
      "height": null,
      "justify_content": null,
      "justify_items": null,
      "left": null,
      "margin": null,
      "max_height": null,
      "max_width": null,
      "min_height": null,
      "min_width": null,
      "object_fit": null,
      "object_position": null,
      "order": null,
      "overflow": null,
      "overflow_x": null,
      "overflow_y": null,
      "padding": null,
      "right": null,
      "top": null,
      "visibility": null,
      "width": null
     }
    },
    "e7f6492e09824dea85263c903b52c514": {
     "model_module": "@jupyter-widgets/controls",
     "model_name": "HBoxModel",
     "state": {
      "_dom_classes": [],
      "_model_module": "@jupyter-widgets/controls",
      "_model_module_version": "1.5.0",
      "_model_name": "HBoxModel",
      "_view_count": null,
      "_view_module": "@jupyter-widgets/controls",
      "_view_module_version": "1.5.0",
      "_view_name": "HBoxView",
      "box_style": "",
      "children": [
       "IPY_MODEL_24e3a9956c0f4a61ac104bac836c9f4b",
       "IPY_MODEL_9d44214491ce444c86a5323ea3942ca8"
      ],
      "layout": "IPY_MODEL_b787b8cf114e4e0ab8c155e436e2f9a1"
     }
    },
    "e8311be38e35495d8258552e39234bb7": {
     "model_module": "@jupyter-widgets/controls",
     "model_name": "FloatProgressModel",
     "state": {
      "_dom_classes": [],
      "_model_module": "@jupyter-widgets/controls",
      "_model_module_version": "1.5.0",
      "_model_name": "FloatProgressModel",
      "_view_count": null,
      "_view_module": "@jupyter-widgets/controls",
      "_view_module_version": "1.5.0",
      "_view_name": "ProgressView",
      "bar_style": "success",
      "description": "100%",
      "description_tooltip": null,
      "layout": "IPY_MODEL_f0c2fa4a0f86481d86ac5cc034536543",
      "max": 39282,
      "min": 0,
      "orientation": "horizontal",
      "style": "IPY_MODEL_c3d221da5fb44475a243053ba5e7b3b8",
      "value": 39282
     }
    },
    "e8590b3ba9c440eb9bc56af701a91cc9": {
     "model_module": "@jupyter-widgets/base",
     "model_name": "LayoutModel",
     "state": {
      "_model_module": "@jupyter-widgets/base",
      "_model_module_version": "1.2.0",
      "_model_name": "LayoutModel",
      "_view_count": null,
      "_view_module": "@jupyter-widgets/base",
      "_view_module_version": "1.2.0",
      "_view_name": "LayoutView",
      "align_content": null,
      "align_items": null,
      "align_self": null,
      "border": null,
      "bottom": null,
      "display": null,
      "flex": null,
      "flex_flow": null,
      "grid_area": null,
      "grid_auto_columns": null,
      "grid_auto_flow": null,
      "grid_auto_rows": null,
      "grid_column": null,
      "grid_gap": null,
      "grid_row": null,
      "grid_template_areas": null,
      "grid_template_columns": null,
      "grid_template_rows": null,
      "height": null,
      "justify_content": null,
      "justify_items": null,
      "left": null,
      "margin": null,
      "max_height": null,
      "max_width": null,
      "min_height": null,
      "min_width": null,
      "object_fit": null,
      "object_position": null,
      "order": null,
      "overflow": null,
      "overflow_x": null,
      "overflow_y": null,
      "padding": null,
      "right": null,
      "top": null,
      "visibility": null,
      "width": null
     }
    },
    "e9ac003ac34145cd8d9b9b8eaa2e4293": {
     "model_module": "@jupyter-widgets/base",
     "model_name": "LayoutModel",
     "state": {
      "_model_module": "@jupyter-widgets/base",
      "_model_module_version": "1.2.0",
      "_model_name": "LayoutModel",
      "_view_count": null,
      "_view_module": "@jupyter-widgets/base",
      "_view_module_version": "1.2.0",
      "_view_name": "LayoutView",
      "align_content": null,
      "align_items": null,
      "align_self": null,
      "border": null,
      "bottom": null,
      "display": null,
      "flex": null,
      "flex_flow": null,
      "grid_area": null,
      "grid_auto_columns": null,
      "grid_auto_flow": null,
      "grid_auto_rows": null,
      "grid_column": null,
      "grid_gap": null,
      "grid_row": null,
      "grid_template_areas": null,
      "grid_template_columns": null,
      "grid_template_rows": null,
      "height": null,
      "justify_content": null,
      "justify_items": null,
      "left": null,
      "margin": null,
      "max_height": null,
      "max_width": null,
      "min_height": null,
      "min_width": null,
      "object_fit": null,
      "object_position": null,
      "order": null,
      "overflow": null,
      "overflow_x": null,
      "overflow_y": null,
      "padding": null,
      "right": null,
      "top": null,
      "visibility": null,
      "width": null
     }
    },
    "e9e39a00203440d19ef9d1c5d0335a31": {
     "model_module": "@jupyter-widgets/controls",
     "model_name": "HTMLModel",
     "state": {
      "_dom_classes": [],
      "_model_module": "@jupyter-widgets/controls",
      "_model_module_version": "1.5.0",
      "_model_name": "HTMLModel",
      "_view_count": null,
      "_view_module": "@jupyter-widgets/controls",
      "_view_module_version": "1.5.0",
      "_view_name": "HTMLView",
      "description": "",
      "description_tooltip": null,
      "layout": "IPY_MODEL_bb89ea8664b341d3911f152f89f8fd2a",
      "placeholder": "​",
      "style": "IPY_MODEL_2b613b8633894f3c87119afc42180cc9",
      "value": " 288/288 [00:00&lt;00:00, 7295.10it/s]"
     }
    },
    "ea73f9d79cee427e93a16a630e6d9ca2": {
     "model_module": "@jupyter-widgets/controls",
     "model_name": "ProgressStyleModel",
     "state": {
      "_model_module": "@jupyter-widgets/controls",
      "_model_module_version": "1.5.0",
      "_model_name": "ProgressStyleModel",
      "_view_count": null,
      "_view_module": "@jupyter-widgets/base",
      "_view_module_version": "1.2.0",
      "_view_name": "StyleView",
      "bar_color": null,
      "description_width": "initial"
     }
    },
    "eb6236fd74394fb4a96de711a0125793": {
     "model_module": "@jupyter-widgets/base",
     "model_name": "LayoutModel",
     "state": {
      "_model_module": "@jupyter-widgets/base",
      "_model_module_version": "1.2.0",
      "_model_name": "LayoutModel",
      "_view_count": null,
      "_view_module": "@jupyter-widgets/base",
      "_view_module_version": "1.2.0",
      "_view_name": "LayoutView",
      "align_content": null,
      "align_items": null,
      "align_self": null,
      "border": null,
      "bottom": null,
      "display": null,
      "flex": null,
      "flex_flow": null,
      "grid_area": null,
      "grid_auto_columns": null,
      "grid_auto_flow": null,
      "grid_auto_rows": null,
      "grid_column": null,
      "grid_gap": null,
      "grid_row": null,
      "grid_template_areas": null,
      "grid_template_columns": null,
      "grid_template_rows": null,
      "height": null,
      "justify_content": null,
      "justify_items": null,
      "left": null,
      "margin": null,
      "max_height": null,
      "max_width": null,
      "min_height": null,
      "min_width": null,
      "object_fit": null,
      "object_position": null,
      "order": null,
      "overflow": null,
      "overflow_x": null,
      "overflow_y": null,
      "padding": null,
      "right": null,
      "top": null,
      "visibility": null,
      "width": null
     }
    },
    "eb8f478bdfd040c9a20ce96ba24b63cf": {
     "model_module": "@jupyter-widgets/base",
     "model_name": "LayoutModel",
     "state": {
      "_model_module": "@jupyter-widgets/base",
      "_model_module_version": "1.2.0",
      "_model_name": "LayoutModel",
      "_view_count": null,
      "_view_module": "@jupyter-widgets/base",
      "_view_module_version": "1.2.0",
      "_view_name": "LayoutView",
      "align_content": null,
      "align_items": null,
      "align_self": null,
      "border": null,
      "bottom": null,
      "display": null,
      "flex": null,
      "flex_flow": null,
      "grid_area": null,
      "grid_auto_columns": null,
      "grid_auto_flow": null,
      "grid_auto_rows": null,
      "grid_column": null,
      "grid_gap": null,
      "grid_row": null,
      "grid_template_areas": null,
      "grid_template_columns": null,
      "grid_template_rows": null,
      "height": null,
      "justify_content": null,
      "justify_items": null,
      "left": null,
      "margin": null,
      "max_height": null,
      "max_width": null,
      "min_height": null,
      "min_width": null,
      "object_fit": null,
      "object_position": null,
      "order": null,
      "overflow": null,
      "overflow_x": null,
      "overflow_y": null,
      "padding": null,
      "right": null,
      "top": null,
      "visibility": null,
      "width": null
     }
    },
    "ec09aa00f0f44efbbab152cff085ee74": {
     "model_module": "@jupyter-widgets/controls",
     "model_name": "ProgressStyleModel",
     "state": {
      "_model_module": "@jupyter-widgets/controls",
      "_model_module_version": "1.5.0",
      "_model_name": "ProgressStyleModel",
      "_view_count": null,
      "_view_module": "@jupyter-widgets/base",
      "_view_module_version": "1.2.0",
      "_view_name": "StyleView",
      "bar_color": null,
      "description_width": "initial"
     }
    },
    "ec63fc926ec547bbb5fda854ae9d022b": {
     "model_module": "@jupyter-widgets/controls",
     "model_name": "ProgressStyleModel",
     "state": {
      "_model_module": "@jupyter-widgets/controls",
      "_model_module_version": "1.5.0",
      "_model_name": "ProgressStyleModel",
      "_view_count": null,
      "_view_module": "@jupyter-widgets/base",
      "_view_module_version": "1.2.0",
      "_view_name": "StyleView",
      "bar_color": null,
      "description_width": "initial"
     }
    },
    "eeb78d9c7749463cb763c41ba4f3f608": {
     "model_module": "@jupyter-widgets/controls",
     "model_name": "DescriptionStyleModel",
     "state": {
      "_model_module": "@jupyter-widgets/controls",
      "_model_module_version": "1.5.0",
      "_model_name": "DescriptionStyleModel",
      "_view_count": null,
      "_view_module": "@jupyter-widgets/base",
      "_view_module_version": "1.2.0",
      "_view_name": "StyleView",
      "description_width": ""
     }
    },
    "ef6b4566dd5443fba7efa0eb15477b56": {
     "model_module": "@jupyter-widgets/base",
     "model_name": "LayoutModel",
     "state": {
      "_model_module": "@jupyter-widgets/base",
      "_model_module_version": "1.2.0",
      "_model_name": "LayoutModel",
      "_view_count": null,
      "_view_module": "@jupyter-widgets/base",
      "_view_module_version": "1.2.0",
      "_view_name": "LayoutView",
      "align_content": null,
      "align_items": null,
      "align_self": null,
      "border": null,
      "bottom": null,
      "display": null,
      "flex": null,
      "flex_flow": null,
      "grid_area": null,
      "grid_auto_columns": null,
      "grid_auto_flow": null,
      "grid_auto_rows": null,
      "grid_column": null,
      "grid_gap": null,
      "grid_row": null,
      "grid_template_areas": null,
      "grid_template_columns": null,
      "grid_template_rows": null,
      "height": null,
      "justify_content": null,
      "justify_items": null,
      "left": null,
      "margin": null,
      "max_height": null,
      "max_width": null,
      "min_height": null,
      "min_width": null,
      "object_fit": null,
      "object_position": null,
      "order": null,
      "overflow": null,
      "overflow_x": null,
      "overflow_y": null,
      "padding": null,
      "right": null,
      "top": null,
      "visibility": null,
      "width": null
     }
    },
    "f0c2fa4a0f86481d86ac5cc034536543": {
     "model_module": "@jupyter-widgets/base",
     "model_name": "LayoutModel",
     "state": {
      "_model_module": "@jupyter-widgets/base",
      "_model_module_version": "1.2.0",
      "_model_name": "LayoutModel",
      "_view_count": null,
      "_view_module": "@jupyter-widgets/base",
      "_view_module_version": "1.2.0",
      "_view_name": "LayoutView",
      "align_content": null,
      "align_items": null,
      "align_self": null,
      "border": null,
      "bottom": null,
      "display": null,
      "flex": null,
      "flex_flow": null,
      "grid_area": null,
      "grid_auto_columns": null,
      "grid_auto_flow": null,
      "grid_auto_rows": null,
      "grid_column": null,
      "grid_gap": null,
      "grid_row": null,
      "grid_template_areas": null,
      "grid_template_columns": null,
      "grid_template_rows": null,
      "height": null,
      "justify_content": null,
      "justify_items": null,
      "left": null,
      "margin": null,
      "max_height": null,
      "max_width": null,
      "min_height": null,
      "min_width": null,
      "object_fit": null,
      "object_position": null,
      "order": null,
      "overflow": null,
      "overflow_x": null,
      "overflow_y": null,
      "padding": null,
      "right": null,
      "top": null,
      "visibility": null,
      "width": null
     }
    },
    "f2c032e8745543e99cfdd364e49b186d": {
     "model_module": "@jupyter-widgets/base",
     "model_name": "LayoutModel",
     "state": {
      "_model_module": "@jupyter-widgets/base",
      "_model_module_version": "1.2.0",
      "_model_name": "LayoutModel",
      "_view_count": null,
      "_view_module": "@jupyter-widgets/base",
      "_view_module_version": "1.2.0",
      "_view_name": "LayoutView",
      "align_content": null,
      "align_items": null,
      "align_self": null,
      "border": null,
      "bottom": null,
      "display": null,
      "flex": null,
      "flex_flow": null,
      "grid_area": null,
      "grid_auto_columns": null,
      "grid_auto_flow": null,
      "grid_auto_rows": null,
      "grid_column": null,
      "grid_gap": null,
      "grid_row": null,
      "grid_template_areas": null,
      "grid_template_columns": null,
      "grid_template_rows": null,
      "height": null,
      "justify_content": null,
      "justify_items": null,
      "left": null,
      "margin": null,
      "max_height": null,
      "max_width": null,
      "min_height": null,
      "min_width": null,
      "object_fit": null,
      "object_position": null,
      "order": null,
      "overflow": null,
      "overflow_x": null,
      "overflow_y": null,
      "padding": null,
      "right": null,
      "top": null,
      "visibility": null,
      "width": null
     }
    },
    "f2cfcd441d354c72b926ef0ada93c1de": {
     "model_module": "@jupyter-widgets/base",
     "model_name": "LayoutModel",
     "state": {
      "_model_module": "@jupyter-widgets/base",
      "_model_module_version": "1.2.0",
      "_model_name": "LayoutModel",
      "_view_count": null,
      "_view_module": "@jupyter-widgets/base",
      "_view_module_version": "1.2.0",
      "_view_name": "LayoutView",
      "align_content": null,
      "align_items": null,
      "align_self": null,
      "border": null,
      "bottom": null,
      "display": null,
      "flex": null,
      "flex_flow": null,
      "grid_area": null,
      "grid_auto_columns": null,
      "grid_auto_flow": null,
      "grid_auto_rows": null,
      "grid_column": null,
      "grid_gap": null,
      "grid_row": null,
      "grid_template_areas": null,
      "grid_template_columns": null,
      "grid_template_rows": null,
      "height": null,
      "justify_content": null,
      "justify_items": null,
      "left": null,
      "margin": null,
      "max_height": null,
      "max_width": null,
      "min_height": null,
      "min_width": null,
      "object_fit": null,
      "object_position": null,
      "order": null,
      "overflow": null,
      "overflow_x": null,
      "overflow_y": null,
      "padding": null,
      "right": null,
      "top": null,
      "visibility": null,
      "width": null
     }
    },
    "f2f1f9e9e66642ba94c5cf3d90d8e7ed": {
     "model_module": "@jupyter-widgets/base",
     "model_name": "LayoutModel",
     "state": {
      "_model_module": "@jupyter-widgets/base",
      "_model_module_version": "1.2.0",
      "_model_name": "LayoutModel",
      "_view_count": null,
      "_view_module": "@jupyter-widgets/base",
      "_view_module_version": "1.2.0",
      "_view_name": "LayoutView",
      "align_content": null,
      "align_items": null,
      "align_self": null,
      "border": null,
      "bottom": null,
      "display": null,
      "flex": null,
      "flex_flow": null,
      "grid_area": null,
      "grid_auto_columns": null,
      "grid_auto_flow": null,
      "grid_auto_rows": null,
      "grid_column": null,
      "grid_gap": null,
      "grid_row": null,
      "grid_template_areas": null,
      "grid_template_columns": null,
      "grid_template_rows": null,
      "height": null,
      "justify_content": null,
      "justify_items": null,
      "left": null,
      "margin": null,
      "max_height": null,
      "max_width": null,
      "min_height": null,
      "min_width": null,
      "object_fit": null,
      "object_position": null,
      "order": null,
      "overflow": null,
      "overflow_x": null,
      "overflow_y": null,
      "padding": null,
      "right": null,
      "top": null,
      "visibility": null,
      "width": null
     }
    },
    "f5086a60825048b39358c8c4825e8f49": {
     "model_module": "@jupyter-widgets/controls",
     "model_name": "ProgressStyleModel",
     "state": {
      "_model_module": "@jupyter-widgets/controls",
      "_model_module_version": "1.5.0",
      "_model_name": "ProgressStyleModel",
      "_view_count": null,
      "_view_module": "@jupyter-widgets/base",
      "_view_module_version": "1.2.0",
      "_view_name": "StyleView",
      "bar_color": null,
      "description_width": "initial"
     }
    },
    "f5fd65a6f17b49a68c85c23dfd01b913": {
     "model_module": "@jupyter-widgets/controls",
     "model_name": "DescriptionStyleModel",
     "state": {
      "_model_module": "@jupyter-widgets/controls",
      "_model_module_version": "1.5.0",
      "_model_name": "DescriptionStyleModel",
      "_view_count": null,
      "_view_module": "@jupyter-widgets/base",
      "_view_module_version": "1.2.0",
      "_view_name": "StyleView",
      "description_width": ""
     }
    },
    "f840128587f641359e384445da19bd1b": {
     "model_module": "@jupyter-widgets/controls",
     "model_name": "ProgressStyleModel",
     "state": {
      "_model_module": "@jupyter-widgets/controls",
      "_model_module_version": "1.5.0",
      "_model_name": "ProgressStyleModel",
      "_view_count": null,
      "_view_module": "@jupyter-widgets/base",
      "_view_module_version": "1.2.0",
      "_view_name": "StyleView",
      "bar_color": null,
      "description_width": "initial"
     }
    },
    "f9d1df3eff664848bf072a3fda061d0b": {
     "model_module": "@jupyter-widgets/controls",
     "model_name": "HTMLModel",
     "state": {
      "_dom_classes": [],
      "_model_module": "@jupyter-widgets/controls",
      "_model_module_version": "1.5.0",
      "_model_name": "HTMLModel",
      "_view_count": null,
      "_view_module": "@jupyter-widgets/controls",
      "_view_module_version": "1.5.0",
      "_view_name": "HTMLView",
      "description": "",
      "description_tooltip": null,
      "layout": "IPY_MODEL_d912a8b75df542ae93c320a2e4a7521e",
      "placeholder": "​",
      "style": "IPY_MODEL_3cc05ac84fa24de59c21dd429452dbba",
      "value": " 449/449 [00:49&lt;00:00,  9.14it/s]"
     }
    },
    "fa9da02696454560a7865fb92499c561": {
     "model_module": "@jupyter-widgets/base",
     "model_name": "LayoutModel",
     "state": {
      "_model_module": "@jupyter-widgets/base",
      "_model_module_version": "1.2.0",
      "_model_name": "LayoutModel",
      "_view_count": null,
      "_view_module": "@jupyter-widgets/base",
      "_view_module_version": "1.2.0",
      "_view_name": "LayoutView",
      "align_content": null,
      "align_items": null,
      "align_self": null,
      "border": null,
      "bottom": null,
      "display": null,
      "flex": null,
      "flex_flow": null,
      "grid_area": null,
      "grid_auto_columns": null,
      "grid_auto_flow": null,
      "grid_auto_rows": null,
      "grid_column": null,
      "grid_gap": null,
      "grid_row": null,
      "grid_template_areas": null,
      "grid_template_columns": null,
      "grid_template_rows": null,
      "height": null,
      "justify_content": null,
      "justify_items": null,
      "left": null,
      "margin": null,
      "max_height": null,
      "max_width": null,
      "min_height": null,
      "min_width": null,
      "object_fit": null,
      "object_position": null,
      "order": null,
      "overflow": null,
      "overflow_x": null,
      "overflow_y": null,
      "padding": null,
      "right": null,
      "top": null,
      "visibility": null,
      "width": null
     }
    },
    "fae70a7b0ec44beca49111349fb859d8": {
     "model_module": "@jupyter-widgets/base",
     "model_name": "LayoutModel",
     "state": {
      "_model_module": "@jupyter-widgets/base",
      "_model_module_version": "1.2.0",
      "_model_name": "LayoutModel",
      "_view_count": null,
      "_view_module": "@jupyter-widgets/base",
      "_view_module_version": "1.2.0",
      "_view_name": "LayoutView",
      "align_content": null,
      "align_items": null,
      "align_self": null,
      "border": null,
      "bottom": null,
      "display": null,
      "flex": null,
      "flex_flow": null,
      "grid_area": null,
      "grid_auto_columns": null,
      "grid_auto_flow": null,
      "grid_auto_rows": null,
      "grid_column": null,
      "grid_gap": null,
      "grid_row": null,
      "grid_template_areas": null,
      "grid_template_columns": null,
      "grid_template_rows": null,
      "height": null,
      "justify_content": null,
      "justify_items": null,
      "left": null,
      "margin": null,
      "max_height": null,
      "max_width": null,
      "min_height": null,
      "min_width": null,
      "object_fit": null,
      "object_position": null,
      "order": null,
      "overflow": null,
      "overflow_x": null,
      "overflow_y": null,
      "padding": null,
      "right": null,
      "top": null,
      "visibility": null,
      "width": null
     }
    },
    "fb112a2cf3a947e18451a0b1748e96d6": {
     "model_module": "@jupyter-widgets/base",
     "model_name": "LayoutModel",
     "state": {
      "_model_module": "@jupyter-widgets/base",
      "_model_module_version": "1.2.0",
      "_model_name": "LayoutModel",
      "_view_count": null,
      "_view_module": "@jupyter-widgets/base",
      "_view_module_version": "1.2.0",
      "_view_name": "LayoutView",
      "align_content": null,
      "align_items": null,
      "align_self": null,
      "border": null,
      "bottom": null,
      "display": null,
      "flex": null,
      "flex_flow": null,
      "grid_area": null,
      "grid_auto_columns": null,
      "grid_auto_flow": null,
      "grid_auto_rows": null,
      "grid_column": null,
      "grid_gap": null,
      "grid_row": null,
      "grid_template_areas": null,
      "grid_template_columns": null,
      "grid_template_rows": null,
      "height": null,
      "justify_content": null,
      "justify_items": null,
      "left": null,
      "margin": null,
      "max_height": null,
      "max_width": null,
      "min_height": null,
      "min_width": null,
      "object_fit": null,
      "object_position": null,
      "order": null,
      "overflow": null,
      "overflow_x": null,
      "overflow_y": null,
      "padding": null,
      "right": null,
      "top": null,
      "visibility": null,
      "width": null
     }
    },
    "fb9861799547488c8f89ff76e73fcb0e": {
     "model_module": "@jupyter-widgets/controls",
     "model_name": "DescriptionStyleModel",
     "state": {
      "_model_module": "@jupyter-widgets/controls",
      "_model_module_version": "1.5.0",
      "_model_name": "DescriptionStyleModel",
      "_view_count": null,
      "_view_module": "@jupyter-widgets/base",
      "_view_module_version": "1.2.0",
      "_view_name": "StyleView",
      "description_width": ""
     }
    },
    "fce9762cbab74adf9d3a4b5bde240958": {
     "model_module": "@jupyter-widgets/base",
     "model_name": "LayoutModel",
     "state": {
      "_model_module": "@jupyter-widgets/base",
      "_model_module_version": "1.2.0",
      "_model_name": "LayoutModel",
      "_view_count": null,
      "_view_module": "@jupyter-widgets/base",
      "_view_module_version": "1.2.0",
      "_view_name": "LayoutView",
      "align_content": null,
      "align_items": null,
      "align_self": null,
      "border": null,
      "bottom": null,
      "display": null,
      "flex": null,
      "flex_flow": null,
      "grid_area": null,
      "grid_auto_columns": null,
      "grid_auto_flow": null,
      "grid_auto_rows": null,
      "grid_column": null,
      "grid_gap": null,
      "grid_row": null,
      "grid_template_areas": null,
      "grid_template_columns": null,
      "grid_template_rows": null,
      "height": null,
      "justify_content": null,
      "justify_items": null,
      "left": null,
      "margin": null,
      "max_height": null,
      "max_width": null,
      "min_height": null,
      "min_width": null,
      "object_fit": null,
      "object_position": null,
      "order": null,
      "overflow": null,
      "overflow_x": null,
      "overflow_y": null,
      "padding": null,
      "right": null,
      "top": null,
      "visibility": null,
      "width": null
     }
    },
    "ff3263f1ef734e3db98f6e0c6b5a2b2a": {
     "model_module": "@jupyter-widgets/controls",
     "model_name": "FloatProgressModel",
     "state": {
      "_dom_classes": [],
      "_model_module": "@jupyter-widgets/controls",
      "_model_module_version": "1.5.0",
      "_model_name": "FloatProgressModel",
      "_view_count": null,
      "_view_module": "@jupyter-widgets/controls",
      "_view_module_version": "1.5.0",
      "_view_name": "ProgressView",
      "bar_style": "success",
      "description": "Merging: 100%",
      "description_tooltip": null,
      "layout": "IPY_MODEL_6dd5d3b6ae6d48b68796d22fcdc6b87b",
      "max": 1500,
      "min": 0,
      "orientation": "horizontal",
      "style": "IPY_MODEL_16523a4b577d47f69744895a4601233b",
      "value": 1500
     }
    }
   }
  }
 },
 "nbformat": 4,
 "nbformat_minor": 4
}
